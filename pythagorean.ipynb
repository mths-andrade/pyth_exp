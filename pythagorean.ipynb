{
  "cells": [
    {
      "cell_type": "code",
      "execution_count": 542,
      "metadata": {
        "id": "H-5eycWjXrWa"
      },
      "outputs": [],
      "source": [
        "import pandas as pd\n",
        "import seaborn as sns\n",
        "import statsmodels.formula.api as smf\n",
        "import math\n",
        "import numpy as np"
      ]
    },
    {
      "cell_type": "code",
      "execution_count": 543,
      "metadata": {
        "colab": {
          "base_uri": "https://localhost:8080/",
          "height": 206
        },
        "id": "V5hDifc0cQOy",
        "outputId": "de4033ac-0797-4631-ad25-302ff97e0802"
      },
      "outputs": [
        {
          "output_type": "execute_result",
          "data": {
            "text/plain": [
              "   season home  pts_home  wl_home away  pts_away  wl_away\n",
              "0    1947  GSW        66        1  BOS        54        0\n",
              "1    1947  NYK        64        1  GSW        60        0\n",
              "2    1947  GSW        62        1  NYK        51        0\n",
              "3    1947  BOS        65        0  NYK        90        1\n",
              "4    1947  NYK        62        1  BOS        44        0"
            ],
            "text/html": [
              "\n",
              "  <div id=\"df-e5bebbcf-00e9-4592-8dbd-0e5e7265691d\" class=\"colab-df-container\">\n",
              "    <div>\n",
              "<style scoped>\n",
              "    .dataframe tbody tr th:only-of-type {\n",
              "        vertical-align: middle;\n",
              "    }\n",
              "\n",
              "    .dataframe tbody tr th {\n",
              "        vertical-align: top;\n",
              "    }\n",
              "\n",
              "    .dataframe thead th {\n",
              "        text-align: right;\n",
              "    }\n",
              "</style>\n",
              "<table border=\"1\" class=\"dataframe\">\n",
              "  <thead>\n",
              "    <tr style=\"text-align: right;\">\n",
              "      <th></th>\n",
              "      <th>season</th>\n",
              "      <th>home</th>\n",
              "      <th>pts_home</th>\n",
              "      <th>wl_home</th>\n",
              "      <th>away</th>\n",
              "      <th>pts_away</th>\n",
              "      <th>wl_away</th>\n",
              "    </tr>\n",
              "  </thead>\n",
              "  <tbody>\n",
              "    <tr>\n",
              "      <th>0</th>\n",
              "      <td>1947</td>\n",
              "      <td>GSW</td>\n",
              "      <td>66</td>\n",
              "      <td>1</td>\n",
              "      <td>BOS</td>\n",
              "      <td>54</td>\n",
              "      <td>0</td>\n",
              "    </tr>\n",
              "    <tr>\n",
              "      <th>1</th>\n",
              "      <td>1947</td>\n",
              "      <td>NYK</td>\n",
              "      <td>64</td>\n",
              "      <td>1</td>\n",
              "      <td>GSW</td>\n",
              "      <td>60</td>\n",
              "      <td>0</td>\n",
              "    </tr>\n",
              "    <tr>\n",
              "      <th>2</th>\n",
              "      <td>1947</td>\n",
              "      <td>GSW</td>\n",
              "      <td>62</td>\n",
              "      <td>1</td>\n",
              "      <td>NYK</td>\n",
              "      <td>51</td>\n",
              "      <td>0</td>\n",
              "    </tr>\n",
              "    <tr>\n",
              "      <th>3</th>\n",
              "      <td>1947</td>\n",
              "      <td>BOS</td>\n",
              "      <td>65</td>\n",
              "      <td>0</td>\n",
              "      <td>NYK</td>\n",
              "      <td>90</td>\n",
              "      <td>1</td>\n",
              "    </tr>\n",
              "    <tr>\n",
              "      <th>4</th>\n",
              "      <td>1947</td>\n",
              "      <td>NYK</td>\n",
              "      <td>62</td>\n",
              "      <td>1</td>\n",
              "      <td>BOS</td>\n",
              "      <td>44</td>\n",
              "      <td>0</td>\n",
              "    </tr>\n",
              "  </tbody>\n",
              "</table>\n",
              "</div>\n",
              "    <div class=\"colab-df-buttons\">\n",
              "\n",
              "  <div class=\"colab-df-container\">\n",
              "    <button class=\"colab-df-convert\" onclick=\"convertToInteractive('df-e5bebbcf-00e9-4592-8dbd-0e5e7265691d')\"\n",
              "            title=\"Convert this dataframe to an interactive table.\"\n",
              "            style=\"display:none;\">\n",
              "\n",
              "  <svg xmlns=\"http://www.w3.org/2000/svg\" height=\"24px\" viewBox=\"0 -960 960 960\">\n",
              "    <path d=\"M120-120v-720h720v720H120Zm60-500h600v-160H180v160Zm220 220h160v-160H400v160Zm0 220h160v-160H400v160ZM180-400h160v-160H180v160Zm440 0h160v-160H620v160ZM180-180h160v-160H180v160Zm440 0h160v-160H620v160Z\"/>\n",
              "  </svg>\n",
              "    </button>\n",
              "\n",
              "  <style>\n",
              "    .colab-df-container {\n",
              "      display:flex;\n",
              "      gap: 12px;\n",
              "    }\n",
              "\n",
              "    .colab-df-convert {\n",
              "      background-color: #E8F0FE;\n",
              "      border: none;\n",
              "      border-radius: 50%;\n",
              "      cursor: pointer;\n",
              "      display: none;\n",
              "      fill: #1967D2;\n",
              "      height: 32px;\n",
              "      padding: 0 0 0 0;\n",
              "      width: 32px;\n",
              "    }\n",
              "\n",
              "    .colab-df-convert:hover {\n",
              "      background-color: #E2EBFA;\n",
              "      box-shadow: 0px 1px 2px rgba(60, 64, 67, 0.3), 0px 1px 3px 1px rgba(60, 64, 67, 0.15);\n",
              "      fill: #174EA6;\n",
              "    }\n",
              "\n",
              "    .colab-df-buttons div {\n",
              "      margin-bottom: 4px;\n",
              "    }\n",
              "\n",
              "    [theme=dark] .colab-df-convert {\n",
              "      background-color: #3B4455;\n",
              "      fill: #D2E3FC;\n",
              "    }\n",
              "\n",
              "    [theme=dark] .colab-df-convert:hover {\n",
              "      background-color: #434B5C;\n",
              "      box-shadow: 0px 1px 3px 1px rgba(0, 0, 0, 0.15);\n",
              "      filter: drop-shadow(0px 1px 2px rgba(0, 0, 0, 0.3));\n",
              "      fill: #FFFFFF;\n",
              "    }\n",
              "  </style>\n",
              "\n",
              "    <script>\n",
              "      const buttonEl =\n",
              "        document.querySelector('#df-e5bebbcf-00e9-4592-8dbd-0e5e7265691d button.colab-df-convert');\n",
              "      buttonEl.style.display =\n",
              "        google.colab.kernel.accessAllowed ? 'block' : 'none';\n",
              "\n",
              "      async function convertToInteractive(key) {\n",
              "        const element = document.querySelector('#df-e5bebbcf-00e9-4592-8dbd-0e5e7265691d');\n",
              "        const dataTable =\n",
              "          await google.colab.kernel.invokeFunction('convertToInteractive',\n",
              "                                                    [key], {});\n",
              "        if (!dataTable) return;\n",
              "\n",
              "        const docLinkHtml = 'Like what you see? Visit the ' +\n",
              "          '<a target=\"_blank\" href=https://colab.research.google.com/notebooks/data_table.ipynb>data table notebook</a>'\n",
              "          + ' to learn more about interactive tables.';\n",
              "        element.innerHTML = '';\n",
              "        dataTable['output_type'] = 'display_data';\n",
              "        await google.colab.output.renderOutput(dataTable, element);\n",
              "        const docLink = document.createElement('div');\n",
              "        docLink.innerHTML = docLinkHtml;\n",
              "        element.appendChild(docLink);\n",
              "      }\n",
              "    </script>\n",
              "  </div>\n",
              "\n",
              "\n",
              "<div id=\"df-4835e8c9-1e1b-43bc-8d6d-6cec62963d31\">\n",
              "  <button class=\"colab-df-quickchart\" onclick=\"quickchart('df-4835e8c9-1e1b-43bc-8d6d-6cec62963d31')\"\n",
              "            title=\"Suggest charts\"\n",
              "            style=\"display:none;\">\n",
              "\n",
              "<svg xmlns=\"http://www.w3.org/2000/svg\" height=\"24px\"viewBox=\"0 0 24 24\"\n",
              "     width=\"24px\">\n",
              "    <g>\n",
              "        <path d=\"M19 3H5c-1.1 0-2 .9-2 2v14c0 1.1.9 2 2 2h14c1.1 0 2-.9 2-2V5c0-1.1-.9-2-2-2zM9 17H7v-7h2v7zm4 0h-2V7h2v10zm4 0h-2v-4h2v4z\"/>\n",
              "    </g>\n",
              "</svg>\n",
              "  </button>\n",
              "\n",
              "<style>\n",
              "  .colab-df-quickchart {\n",
              "      --bg-color: #E8F0FE;\n",
              "      --fill-color: #1967D2;\n",
              "      --hover-bg-color: #E2EBFA;\n",
              "      --hover-fill-color: #174EA6;\n",
              "      --disabled-fill-color: #AAA;\n",
              "      --disabled-bg-color: #DDD;\n",
              "  }\n",
              "\n",
              "  [theme=dark] .colab-df-quickchart {\n",
              "      --bg-color: #3B4455;\n",
              "      --fill-color: #D2E3FC;\n",
              "      --hover-bg-color: #434B5C;\n",
              "      --hover-fill-color: #FFFFFF;\n",
              "      --disabled-bg-color: #3B4455;\n",
              "      --disabled-fill-color: #666;\n",
              "  }\n",
              "\n",
              "  .colab-df-quickchart {\n",
              "    background-color: var(--bg-color);\n",
              "    border: none;\n",
              "    border-radius: 50%;\n",
              "    cursor: pointer;\n",
              "    display: none;\n",
              "    fill: var(--fill-color);\n",
              "    height: 32px;\n",
              "    padding: 0;\n",
              "    width: 32px;\n",
              "  }\n",
              "\n",
              "  .colab-df-quickchart:hover {\n",
              "    background-color: var(--hover-bg-color);\n",
              "    box-shadow: 0 1px 2px rgba(60, 64, 67, 0.3), 0 1px 3px 1px rgba(60, 64, 67, 0.15);\n",
              "    fill: var(--button-hover-fill-color);\n",
              "  }\n",
              "\n",
              "  .colab-df-quickchart-complete:disabled,\n",
              "  .colab-df-quickchart-complete:disabled:hover {\n",
              "    background-color: var(--disabled-bg-color);\n",
              "    fill: var(--disabled-fill-color);\n",
              "    box-shadow: none;\n",
              "  }\n",
              "\n",
              "  .colab-df-spinner {\n",
              "    border: 2px solid var(--fill-color);\n",
              "    border-color: transparent;\n",
              "    border-bottom-color: var(--fill-color);\n",
              "    animation:\n",
              "      spin 1s steps(1) infinite;\n",
              "  }\n",
              "\n",
              "  @keyframes spin {\n",
              "    0% {\n",
              "      border-color: transparent;\n",
              "      border-bottom-color: var(--fill-color);\n",
              "      border-left-color: var(--fill-color);\n",
              "    }\n",
              "    20% {\n",
              "      border-color: transparent;\n",
              "      border-left-color: var(--fill-color);\n",
              "      border-top-color: var(--fill-color);\n",
              "    }\n",
              "    30% {\n",
              "      border-color: transparent;\n",
              "      border-left-color: var(--fill-color);\n",
              "      border-top-color: var(--fill-color);\n",
              "      border-right-color: var(--fill-color);\n",
              "    }\n",
              "    40% {\n",
              "      border-color: transparent;\n",
              "      border-right-color: var(--fill-color);\n",
              "      border-top-color: var(--fill-color);\n",
              "    }\n",
              "    60% {\n",
              "      border-color: transparent;\n",
              "      border-right-color: var(--fill-color);\n",
              "    }\n",
              "    80% {\n",
              "      border-color: transparent;\n",
              "      border-right-color: var(--fill-color);\n",
              "      border-bottom-color: var(--fill-color);\n",
              "    }\n",
              "    90% {\n",
              "      border-color: transparent;\n",
              "      border-bottom-color: var(--fill-color);\n",
              "    }\n",
              "  }\n",
              "</style>\n",
              "\n",
              "  <script>\n",
              "    async function quickchart(key) {\n",
              "      const quickchartButtonEl =\n",
              "        document.querySelector('#' + key + ' button');\n",
              "      quickchartButtonEl.disabled = true;  // To prevent multiple clicks.\n",
              "      quickchartButtonEl.classList.add('colab-df-spinner');\n",
              "      try {\n",
              "        const charts = await google.colab.kernel.invokeFunction(\n",
              "            'suggestCharts', [key], {});\n",
              "      } catch (error) {\n",
              "        console.error('Error during call to suggestCharts:', error);\n",
              "      }\n",
              "      quickchartButtonEl.classList.remove('colab-df-spinner');\n",
              "      quickchartButtonEl.classList.add('colab-df-quickchart-complete');\n",
              "    }\n",
              "    (() => {\n",
              "      let quickchartButtonEl =\n",
              "        document.querySelector('#df-4835e8c9-1e1b-43bc-8d6d-6cec62963d31 button');\n",
              "      quickchartButtonEl.style.display =\n",
              "        google.colab.kernel.accessAllowed ? 'block' : 'none';\n",
              "    })();\n",
              "  </script>\n",
              "</div>\n",
              "\n",
              "    </div>\n",
              "  </div>\n"
            ],
            "application/vnd.google.colaboratory.intrinsic+json": {
              "type": "dataframe",
              "variable_name": "dados",
              "summary": "{\n  \"name\": \"dados\",\n  \"rows\": 58501,\n  \"fields\": [\n    {\n      \"column\": \"season\",\n      \"properties\": {\n        \"dtype\": \"number\",\n        \"std\": 17,\n        \"min\": 1947,\n        \"max\": 2023,\n        \"num_unique_values\": 70,\n        \"samples\": [\n          1973,\n          1947,\n          2002\n        ],\n        \"semantic_type\": \"\",\n        \"description\": \"\"\n      }\n    },\n    {\n      \"column\": \"home\",\n      \"properties\": {\n        \"dtype\": \"category\",\n        \"num_unique_values\": 30,\n        \"samples\": [\n          \"TOR\",\n          \"POR\",\n          \"CHA\"\n        ],\n        \"semantic_type\": \"\",\n        \"description\": \"\"\n      }\n    },\n    {\n      \"column\": \"pts_home\",\n      \"properties\": {\n        \"dtype\": \"number\",\n        \"std\": 14,\n        \"min\": 18,\n        \"max\": 184,\n        \"num_unique_values\": 120,\n        \"samples\": [\n          102,\n          100,\n          77\n        ],\n        \"semantic_type\": \"\",\n        \"description\": \"\"\n      }\n    },\n    {\n      \"column\": \"wl_home\",\n      \"properties\": {\n        \"dtype\": \"number\",\n        \"std\": 0,\n        \"min\": 0,\n        \"max\": 1,\n        \"num_unique_values\": 2,\n        \"samples\": [\n          0,\n          1\n        ],\n        \"semantic_type\": \"\",\n        \"description\": \"\"\n      }\n    },\n    {\n      \"column\": \"away\",\n      \"properties\": {\n        \"dtype\": \"category\",\n        \"num_unique_values\": 30,\n        \"samples\": [\n          \"MEM\",\n          \"CLE\"\n        ],\n        \"semantic_type\": \"\",\n        \"description\": \"\"\n      }\n    },\n    {\n      \"column\": \"pts_away\",\n      \"properties\": {\n        \"dtype\": \"number\",\n        \"std\": 13,\n        \"min\": 19,\n        \"max\": 186,\n        \"num_unique_values\": 122,\n        \"samples\": [\n          67,\n          82\n        ],\n        \"semantic_type\": \"\",\n        \"description\": \"\"\n      }\n    },\n    {\n      \"column\": \"wl_away\",\n      \"properties\": {\n        \"dtype\": \"number\",\n        \"std\": 0,\n        \"min\": 0,\n        \"max\": 1,\n        \"num_unique_values\": 2,\n        \"samples\": [\n          1,\n          0\n        ],\n        \"semantic_type\": \"\",\n        \"description\": \"\"\n      }\n    }\n  ]\n}"
            }
          },
          "metadata": {},
          "execution_count": 543
        }
      ],
      "source": [
        "dados=pd.read_csv('games.csv')\n",
        "dados.head()"
      ]
    },
    {
      "cell_type": "code",
      "execution_count": 544,
      "metadata": {
        "id": "kvpYjWwTxK1I"
      },
      "outputs": [],
      "source": [
        "def pyth_exp(made,allow):\n",
        "  return made**2/(made**2+allow**2)"
      ]
    },
    {
      "cell_type": "code",
      "execution_count": 545,
      "metadata": {
        "colab": {
          "base_uri": "https://localhost:8080/"
        },
        "id": "OVDdjxyDnB3_",
        "outputId": "b10a06a5-c105-4d2a-da27-5dbedf250d02"
      },
      "outputs": [
        {
          "output_type": "stream",
          "name": "stdout",
          "text": [
            "Ganhou 2052 jogos de 4516, portanto tem um aproveitamento de 0.4544.\n"
          ]
        }
      ],
      "source": [
        "home_w=dados.query(\"home=='WAS' and wl_home==1\")\n",
        "away_w=dados.query(\"away=='WAS' and wl_away==1\")\n",
        "home=dados.query(\"home=='WAS'\")\n",
        "away=dados.query(\"away=='WAS'\")\n",
        "games=home.shape[0]+away.shape[0]\n",
        "games_w=home_w.shape[0]+away_w.shape[0]\n",
        "win_perc=games_w/games\n",
        "win_perc = round(win_perc, 4)\n",
        "print(\"Ganhou %.0f jogos de %.0f, portanto tem um aproveitamento de %.4f.\"%(games_w,games,win_perc))"
      ]
    },
    {
      "cell_type": "code",
      "execution_count": 546,
      "metadata": {
        "colab": {
          "base_uri": "https://localhost:8080/"
        },
        "id": "K0htLh2_ybod",
        "outputId": "5d409f1b-4d38-44a4-e49a-9d2ab959e2fc"
      },
      "outputs": [
        {
          "output_type": "stream",
          "name": "stdout",
          "text": [
            "Os pontos marcados e permitidos são, respectivamente,471509 e 477840.\n",
            "A expectativa pitagórica é de 0.4933.\n"
          ]
        }
      ],
      "source": [
        "pth_m=dados.query(\"home=='WAS'\")[\"pts_home\"].sum()\n",
        "pth_a=dados.query(\"home=='WAS'\")[\"pts_away\"].sum()\n",
        "pta_m=dados.query(\"away=='WAS'\")[\"pts_away\"].sum()\n",
        "pta_a=dados.query(\"away=='WAS'\")[\"pts_home\"].sum()\n",
        "pt_made=pth_m+pta_m\n",
        "pt_allow = pth_a + pta_a\n",
        "print(\"Os pontos marcados e permitidos são, respectivamente,%.0f e %.0f.\"%(pt_made,pt_allow))\n",
        "print(\"A expectativa pitagórica é de %.4f.\"%(pyth_exp(pt_made,pt_allow)))"
      ]
    },
    {
      "cell_type": "code",
      "execution_count": 547,
      "metadata": {
        "colab": {
          "base_uri": "https://localhost:8080/",
          "height": 238
        },
        "id": "iQ6idWF2D2MY",
        "outputId": "40cb351c-b087-4f7b-94de-f10c8f257b2c"
      },
      "outputs": [
        {
          "output_type": "execute_result",
          "data": {
            "text/plain": [
              "      wins  games  win_perc  pts_made  pts_allow  pyth_exp\n",
              "team                                                      \n",
              "ATL   2583   5189    0.4978    531868     533111    0.4988\n",
              "BKN   1551   3622    0.4282    369031     376958    0.4894\n",
              "BOS   3105   5256    0.5908    554328     539600    0.5135\n",
              "CHA   1132   2549    0.4441    256910     261911    0.4904\n",
              "CHI   2147   4189    0.5125    429550     428070    0.5017"
            ],
            "text/html": [
              "\n",
              "  <div id=\"df-f11b41ee-1d20-477f-9379-7f870d0673e1\" class=\"colab-df-container\">\n",
              "    <div>\n",
              "<style scoped>\n",
              "    .dataframe tbody tr th:only-of-type {\n",
              "        vertical-align: middle;\n",
              "    }\n",
              "\n",
              "    .dataframe tbody tr th {\n",
              "        vertical-align: top;\n",
              "    }\n",
              "\n",
              "    .dataframe thead th {\n",
              "        text-align: right;\n",
              "    }\n",
              "</style>\n",
              "<table border=\"1\" class=\"dataframe\">\n",
              "  <thead>\n",
              "    <tr style=\"text-align: right;\">\n",
              "      <th></th>\n",
              "      <th>wins</th>\n",
              "      <th>games</th>\n",
              "      <th>win_perc</th>\n",
              "      <th>pts_made</th>\n",
              "      <th>pts_allow</th>\n",
              "      <th>pyth_exp</th>\n",
              "    </tr>\n",
              "    <tr>\n",
              "      <th>team</th>\n",
              "      <th></th>\n",
              "      <th></th>\n",
              "      <th></th>\n",
              "      <th></th>\n",
              "      <th></th>\n",
              "      <th></th>\n",
              "    </tr>\n",
              "  </thead>\n",
              "  <tbody>\n",
              "    <tr>\n",
              "      <th>ATL</th>\n",
              "      <td>2583</td>\n",
              "      <td>5189</td>\n",
              "      <td>0.4978</td>\n",
              "      <td>531868</td>\n",
              "      <td>533111</td>\n",
              "      <td>0.4988</td>\n",
              "    </tr>\n",
              "    <tr>\n",
              "      <th>BKN</th>\n",
              "      <td>1551</td>\n",
              "      <td>3622</td>\n",
              "      <td>0.4282</td>\n",
              "      <td>369031</td>\n",
              "      <td>376958</td>\n",
              "      <td>0.4894</td>\n",
              "    </tr>\n",
              "    <tr>\n",
              "      <th>BOS</th>\n",
              "      <td>3105</td>\n",
              "      <td>5256</td>\n",
              "      <td>0.5908</td>\n",
              "      <td>554328</td>\n",
              "      <td>539600</td>\n",
              "      <td>0.5135</td>\n",
              "    </tr>\n",
              "    <tr>\n",
              "      <th>CHA</th>\n",
              "      <td>1132</td>\n",
              "      <td>2549</td>\n",
              "      <td>0.4441</td>\n",
              "      <td>256910</td>\n",
              "      <td>261911</td>\n",
              "      <td>0.4904</td>\n",
              "    </tr>\n",
              "    <tr>\n",
              "      <th>CHI</th>\n",
              "      <td>2147</td>\n",
              "      <td>4189</td>\n",
              "      <td>0.5125</td>\n",
              "      <td>429550</td>\n",
              "      <td>428070</td>\n",
              "      <td>0.5017</td>\n",
              "    </tr>\n",
              "  </tbody>\n",
              "</table>\n",
              "</div>\n",
              "    <div class=\"colab-df-buttons\">\n",
              "\n",
              "  <div class=\"colab-df-container\">\n",
              "    <button class=\"colab-df-convert\" onclick=\"convertToInteractive('df-f11b41ee-1d20-477f-9379-7f870d0673e1')\"\n",
              "            title=\"Convert this dataframe to an interactive table.\"\n",
              "            style=\"display:none;\">\n",
              "\n",
              "  <svg xmlns=\"http://www.w3.org/2000/svg\" height=\"24px\" viewBox=\"0 -960 960 960\">\n",
              "    <path d=\"M120-120v-720h720v720H120Zm60-500h600v-160H180v160Zm220 220h160v-160H400v160Zm0 220h160v-160H400v160ZM180-400h160v-160H180v160Zm440 0h160v-160H620v160ZM180-180h160v-160H180v160Zm440 0h160v-160H620v160Z\"/>\n",
              "  </svg>\n",
              "    </button>\n",
              "\n",
              "  <style>\n",
              "    .colab-df-container {\n",
              "      display:flex;\n",
              "      gap: 12px;\n",
              "    }\n",
              "\n",
              "    .colab-df-convert {\n",
              "      background-color: #E8F0FE;\n",
              "      border: none;\n",
              "      border-radius: 50%;\n",
              "      cursor: pointer;\n",
              "      display: none;\n",
              "      fill: #1967D2;\n",
              "      height: 32px;\n",
              "      padding: 0 0 0 0;\n",
              "      width: 32px;\n",
              "    }\n",
              "\n",
              "    .colab-df-convert:hover {\n",
              "      background-color: #E2EBFA;\n",
              "      box-shadow: 0px 1px 2px rgba(60, 64, 67, 0.3), 0px 1px 3px 1px rgba(60, 64, 67, 0.15);\n",
              "      fill: #174EA6;\n",
              "    }\n",
              "\n",
              "    .colab-df-buttons div {\n",
              "      margin-bottom: 4px;\n",
              "    }\n",
              "\n",
              "    [theme=dark] .colab-df-convert {\n",
              "      background-color: #3B4455;\n",
              "      fill: #D2E3FC;\n",
              "    }\n",
              "\n",
              "    [theme=dark] .colab-df-convert:hover {\n",
              "      background-color: #434B5C;\n",
              "      box-shadow: 0px 1px 3px 1px rgba(0, 0, 0, 0.15);\n",
              "      filter: drop-shadow(0px 1px 2px rgba(0, 0, 0, 0.3));\n",
              "      fill: #FFFFFF;\n",
              "    }\n",
              "  </style>\n",
              "\n",
              "    <script>\n",
              "      const buttonEl =\n",
              "        document.querySelector('#df-f11b41ee-1d20-477f-9379-7f870d0673e1 button.colab-df-convert');\n",
              "      buttonEl.style.display =\n",
              "        google.colab.kernel.accessAllowed ? 'block' : 'none';\n",
              "\n",
              "      async function convertToInteractive(key) {\n",
              "        const element = document.querySelector('#df-f11b41ee-1d20-477f-9379-7f870d0673e1');\n",
              "        const dataTable =\n",
              "          await google.colab.kernel.invokeFunction('convertToInteractive',\n",
              "                                                    [key], {});\n",
              "        if (!dataTable) return;\n",
              "\n",
              "        const docLinkHtml = 'Like what you see? Visit the ' +\n",
              "          '<a target=\"_blank\" href=https://colab.research.google.com/notebooks/data_table.ipynb>data table notebook</a>'\n",
              "          + ' to learn more about interactive tables.';\n",
              "        element.innerHTML = '';\n",
              "        dataTable['output_type'] = 'display_data';\n",
              "        await google.colab.output.renderOutput(dataTable, element);\n",
              "        const docLink = document.createElement('div');\n",
              "        docLink.innerHTML = docLinkHtml;\n",
              "        element.appendChild(docLink);\n",
              "      }\n",
              "    </script>\n",
              "  </div>\n",
              "\n",
              "\n",
              "<div id=\"df-ceea1b05-4bd0-452d-8b61-ca2d9fc25df5\">\n",
              "  <button class=\"colab-df-quickchart\" onclick=\"quickchart('df-ceea1b05-4bd0-452d-8b61-ca2d9fc25df5')\"\n",
              "            title=\"Suggest charts\"\n",
              "            style=\"display:none;\">\n",
              "\n",
              "<svg xmlns=\"http://www.w3.org/2000/svg\" height=\"24px\"viewBox=\"0 0 24 24\"\n",
              "     width=\"24px\">\n",
              "    <g>\n",
              "        <path d=\"M19 3H5c-1.1 0-2 .9-2 2v14c0 1.1.9 2 2 2h14c1.1 0 2-.9 2-2V5c0-1.1-.9-2-2-2zM9 17H7v-7h2v7zm4 0h-2V7h2v10zm4 0h-2v-4h2v4z\"/>\n",
              "    </g>\n",
              "</svg>\n",
              "  </button>\n",
              "\n",
              "<style>\n",
              "  .colab-df-quickchart {\n",
              "      --bg-color: #E8F0FE;\n",
              "      --fill-color: #1967D2;\n",
              "      --hover-bg-color: #E2EBFA;\n",
              "      --hover-fill-color: #174EA6;\n",
              "      --disabled-fill-color: #AAA;\n",
              "      --disabled-bg-color: #DDD;\n",
              "  }\n",
              "\n",
              "  [theme=dark] .colab-df-quickchart {\n",
              "      --bg-color: #3B4455;\n",
              "      --fill-color: #D2E3FC;\n",
              "      --hover-bg-color: #434B5C;\n",
              "      --hover-fill-color: #FFFFFF;\n",
              "      --disabled-bg-color: #3B4455;\n",
              "      --disabled-fill-color: #666;\n",
              "  }\n",
              "\n",
              "  .colab-df-quickchart {\n",
              "    background-color: var(--bg-color);\n",
              "    border: none;\n",
              "    border-radius: 50%;\n",
              "    cursor: pointer;\n",
              "    display: none;\n",
              "    fill: var(--fill-color);\n",
              "    height: 32px;\n",
              "    padding: 0;\n",
              "    width: 32px;\n",
              "  }\n",
              "\n",
              "  .colab-df-quickchart:hover {\n",
              "    background-color: var(--hover-bg-color);\n",
              "    box-shadow: 0 1px 2px rgba(60, 64, 67, 0.3), 0 1px 3px 1px rgba(60, 64, 67, 0.15);\n",
              "    fill: var(--button-hover-fill-color);\n",
              "  }\n",
              "\n",
              "  .colab-df-quickchart-complete:disabled,\n",
              "  .colab-df-quickchart-complete:disabled:hover {\n",
              "    background-color: var(--disabled-bg-color);\n",
              "    fill: var(--disabled-fill-color);\n",
              "    box-shadow: none;\n",
              "  }\n",
              "\n",
              "  .colab-df-spinner {\n",
              "    border: 2px solid var(--fill-color);\n",
              "    border-color: transparent;\n",
              "    border-bottom-color: var(--fill-color);\n",
              "    animation:\n",
              "      spin 1s steps(1) infinite;\n",
              "  }\n",
              "\n",
              "  @keyframes spin {\n",
              "    0% {\n",
              "      border-color: transparent;\n",
              "      border-bottom-color: var(--fill-color);\n",
              "      border-left-color: var(--fill-color);\n",
              "    }\n",
              "    20% {\n",
              "      border-color: transparent;\n",
              "      border-left-color: var(--fill-color);\n",
              "      border-top-color: var(--fill-color);\n",
              "    }\n",
              "    30% {\n",
              "      border-color: transparent;\n",
              "      border-left-color: var(--fill-color);\n",
              "      border-top-color: var(--fill-color);\n",
              "      border-right-color: var(--fill-color);\n",
              "    }\n",
              "    40% {\n",
              "      border-color: transparent;\n",
              "      border-right-color: var(--fill-color);\n",
              "      border-top-color: var(--fill-color);\n",
              "    }\n",
              "    60% {\n",
              "      border-color: transparent;\n",
              "      border-right-color: var(--fill-color);\n",
              "    }\n",
              "    80% {\n",
              "      border-color: transparent;\n",
              "      border-right-color: var(--fill-color);\n",
              "      border-bottom-color: var(--fill-color);\n",
              "    }\n",
              "    90% {\n",
              "      border-color: transparent;\n",
              "      border-bottom-color: var(--fill-color);\n",
              "    }\n",
              "  }\n",
              "</style>\n",
              "\n",
              "  <script>\n",
              "    async function quickchart(key) {\n",
              "      const quickchartButtonEl =\n",
              "        document.querySelector('#' + key + ' button');\n",
              "      quickchartButtonEl.disabled = true;  // To prevent multiple clicks.\n",
              "      quickchartButtonEl.classList.add('colab-df-spinner');\n",
              "      try {\n",
              "        const charts = await google.colab.kernel.invokeFunction(\n",
              "            'suggestCharts', [key], {});\n",
              "      } catch (error) {\n",
              "        console.error('Error during call to suggestCharts:', error);\n",
              "      }\n",
              "      quickchartButtonEl.classList.remove('colab-df-spinner');\n",
              "      quickchartButtonEl.classList.add('colab-df-quickchart-complete');\n",
              "    }\n",
              "    (() => {\n",
              "      let quickchartButtonEl =\n",
              "        document.querySelector('#df-ceea1b05-4bd0-452d-8b61-ca2d9fc25df5 button');\n",
              "      quickchartButtonEl.style.display =\n",
              "        google.colab.kernel.accessAllowed ? 'block' : 'none';\n",
              "    })();\n",
              "  </script>\n",
              "</div>\n",
              "\n",
              "    </div>\n",
              "  </div>\n"
            ],
            "application/vnd.google.colaboratory.intrinsic+json": {
              "type": "dataframe",
              "variable_name": "pyth",
              "summary": "{\n  \"name\": \"pyth\",\n  \"rows\": 30,\n  \"fields\": [\n    {\n      \"column\": \"team\",\n      \"properties\": {\n        \"dtype\": \"string\",\n        \"num_unique_values\": 30,\n        \"samples\": [\n          \"TOR\",\n          \"MIA\",\n          \"PHX\"\n        ],\n        \"semantic_type\": \"\",\n        \"description\": \"\"\n      }\n    },\n    {\n      \"column\": \"wins\",\n      \"properties\": {\n        \"dtype\": \"number\",\n        \"std\": 614,\n        \"min\": 755,\n        \"max\": 3105,\n        \"num_unique_values\": 30,\n        \"samples\": [\n          1037,\n          1409,\n          2231\n        ],\n        \"semantic_type\": \"\",\n        \"description\": \"\"\n      }\n    },\n    {\n      \"column\": \"games\",\n      \"properties\": {\n        \"dtype\": \"number\",\n        \"std\": 1068,\n        \"min\": 1604,\n        \"max\": 5256,\n        \"num_unique_values\": 27,\n        \"samples\": [\n          5225,\n          2147,\n          5247\n        ],\n        \"semantic_type\": \"\",\n        \"description\": \"\"\n      }\n    },\n    {\n      \"column\": \"win_perc\",\n      \"properties\": {\n        \"dtype\": \"number\",\n        \"std\": 0.05056858049553432,\n        \"min\": 0.403,\n        \"max\": 0.6023,\n        \"num_unique_values\": 30,\n        \"samples\": [\n          0.4832,\n          0.5178,\n          0.5422\n        ],\n        \"semantic_type\": \"\",\n        \"description\": \"\"\n      }\n    },\n    {\n      \"column\": \"pts_made\",\n      \"properties\": {\n        \"dtype\": \"number\",\n        \"std\": 114779,\n        \"min\": 162833,\n        \"max\": 556559,\n        \"num_unique_values\": 30,\n        \"samples\": [\n          216600,\n          269527,\n          444019\n        ],\n        \"semantic_type\": \"\",\n        \"description\": \"\"\n      }\n    },\n    {\n      \"column\": \"pts_allow\",\n      \"properties\": {\n        \"dtype\": \"number\",\n        \"std\": 113494,\n        \"min\": 164107,\n        \"max\": 559188,\n        \"num_unique_values\": 30,\n        \"samples\": [\n          216982,\n          268667,\n          438076\n        ],\n        \"semantic_type\": \"\",\n        \"description\": \"\"\n      }\n    },\n    {\n      \"column\": \"pyth_exp\",\n      \"properties\": {\n        \"dtype\": \"number\",\n        \"std\": 0.0073776892622673396,\n        \"min\": 0.4864,\n        \"max\": 0.5148,\n        \"num_unique_values\": 29,\n        \"samples\": [\n          0.5077,\n          0.506,\n          0.4864\n        ],\n        \"semantic_type\": \"\",\n        \"description\": \"\"\n      }\n    }\n  ]\n}"
            }
          },
          "metadata": {},
          "execution_count": 547
        }
      ],
      "source": [
        "pyth=pd.read_csv('pythagorean.csv')\n",
        "pyth.set_index('team',inplace=True)\n",
        "pyth.head()"
      ]
    },
    {
      "cell_type": "code",
      "execution_count": 548,
      "metadata": {
        "colab": {
          "base_uri": "https://localhost:8080/",
          "height": 582
        },
        "id": "3nMGSz6YLhJf",
        "outputId": "e727558f-1fed-4a78-eb03-86c1e3ccfed8"
      },
      "outputs": [
        {
          "output_type": "execute_result",
          "data": {
            "text/plain": [
              "<matplotlib.collections.LineCollection at 0x7b7342365a80>"
            ]
          },
          "metadata": {},
          "execution_count": 548
        },
        {
          "output_type": "display_data",
          "data": {
            "text/plain": [
              "<Figure size 1000x600 with 1 Axes>"
            ],
            "image/png": "[encoded data removed]"
          },
          "metadata": {}
        }
      ],
      "source": [
        "x = pyth.pyth_exp\n",
        "y = pyth.win_perc\n",
        "\n",
        "ax = sns.scatterplot(data=pyth, x=\"pyth_exp\", y=\"win_perc\")\n",
        "ax.figure.set_size_inches(10, 6)\n",
        "ax.set_title(\"Expectativa pitagórica X porcentagem real de vitórias de cada time\")\n",
        "ax.hlines(y = y.mean(), xmin = x.min(), xmax = x.max(), colors='gray', linestyles='dashed')\n",
        "ax.vlines(x = x.mean(), ymin = y.min(), ymax = y.max(), colors='gray', linestyles='dashed')"
      ]
    },
    {
      "cell_type": "code",
      "execution_count": 549,
      "metadata": {
        "colab": {
          "base_uri": "https://localhost:8080/",
          "height": 564
        },
        "id": "LKh61oiWDofE",
        "outputId": "08f646a6-018e-4d6b-961c-c5c4599b93dd"
      },
      "outputs": [
        {
          "output_type": "execute_result",
          "data": {
            "text/plain": [
              "Text(0.5, 1.05, 'Expectativa pitagórica X porcentagem real de vitórias de cada time')"
            ]
          },
          "metadata": {},
          "execution_count": 549
        },
        {
          "output_type": "display_data",
          "data": {
            "text/plain": [
              "<Figure size 500x500 with 1 Axes>"
            ],
            "image/png": "[encoded data removed]"
          },
          "metadata": {}
        }
      ],
      "source": [
        "ax=sns.lmplot(x='pyth_exp',y='win_perc',data=pyth)\n",
        "ax.fig.suptitle(\"Expectativa pitagórica X porcentagem real de vitórias de cada time\",y=1.05)"
      ]
    },
    {
      "cell_type": "code",
      "source": [
        "corr=pyth.corr()\n",
        "corr"
      ],
      "metadata": {
        "colab": {
          "base_uri": "https://localhost:8080/",
          "height": 238
        },
        "id": "IRSGeXWI9-WF",
        "outputId": "4a96051f-696e-41c8-b688-d43022cb93ec"
      },
      "execution_count": 550,
      "outputs": [
        {
          "output_type": "execute_result",
          "data": {
            "text/plain": [
              "               wins     games  win_perc  pts_made  pts_allow  pyth_exp\n",
              "wins       1.000000  0.867366  0.606902  0.955113   0.938493  0.583713\n",
              "games      0.867366  1.000000  0.356588  0.900015   0.897278  0.325501\n",
              "win_perc   0.606902  0.356588  1.000000  0.358627   0.310600  0.991663\n",
              "pts_made   0.955113  0.900015  0.358627  1.000000   0.998609  0.334829\n",
              "pts_allow  0.938493  0.897278  0.310600  0.998609   1.000000  0.286120\n",
              "pyth_exp   0.583713  0.325501  0.991663  0.334829   0.286120  1.000000"
            ],
            "text/html": [
              "\n",
              "  <div id=\"df-e0bfe948-afcf-46c6-928a-80c34430bda0\" class=\"colab-df-container\">\n",
              "    <div>\n",
              "<style scoped>\n",
              "    .dataframe tbody tr th:only-of-type {\n",
              "        vertical-align: middle;\n",
              "    }\n",
              "\n",
              "    .dataframe tbody tr th {\n",
              "        vertical-align: top;\n",
              "    }\n",
              "\n",
              "    .dataframe thead th {\n",
              "        text-align: right;\n",
              "    }\n",
              "</style>\n",
              "<table border=\"1\" class=\"dataframe\">\n",
              "  <thead>\n",
              "    <tr style=\"text-align: right;\">\n",
              "      <th></th>\n",
              "      <th>wins</th>\n",
              "      <th>games</th>\n",
              "      <th>win_perc</th>\n",
              "      <th>pts_made</th>\n",
              "      <th>pts_allow</th>\n",
              "      <th>pyth_exp</th>\n",
              "    </tr>\n",
              "  </thead>\n",
              "  <tbody>\n",
              "    <tr>\n",
              "      <th>wins</th>\n",
              "      <td>1.000000</td>\n",
              "      <td>0.867366</td>\n",
              "      <td>0.606902</td>\n",
              "      <td>0.955113</td>\n",
              "      <td>0.938493</td>\n",
              "      <td>0.583713</td>\n",
              "    </tr>\n",
              "    <tr>\n",
              "      <th>games</th>\n",
              "      <td>0.867366</td>\n",
              "      <td>1.000000</td>\n",
              "      <td>0.356588</td>\n",
              "      <td>0.900015</td>\n",
              "      <td>0.897278</td>\n",
              "      <td>0.325501</td>\n",
              "    </tr>\n",
              "    <tr>\n",
              "      <th>win_perc</th>\n",
              "      <td>0.606902</td>\n",
              "      <td>0.356588</td>\n",
              "      <td>1.000000</td>\n",
              "      <td>0.358627</td>\n",
              "      <td>0.310600</td>\n",
              "      <td>0.991663</td>\n",
              "    </tr>\n",
              "    <tr>\n",
              "      <th>pts_made</th>\n",
              "      <td>0.955113</td>\n",
              "      <td>0.900015</td>\n",
              "      <td>0.358627</td>\n",
              "      <td>1.000000</td>\n",
              "      <td>0.998609</td>\n",
              "      <td>0.334829</td>\n",
              "    </tr>\n",
              "    <tr>\n",
              "      <th>pts_allow</th>\n",
              "      <td>0.938493</td>\n",
              "      <td>0.897278</td>\n",
              "      <td>0.310600</td>\n",
              "      <td>0.998609</td>\n",
              "      <td>1.000000</td>\n",
              "      <td>0.286120</td>\n",
              "    </tr>\n",
              "    <tr>\n",
              "      <th>pyth_exp</th>\n",
              "      <td>0.583713</td>\n",
              "      <td>0.325501</td>\n",
              "      <td>0.991663</td>\n",
              "      <td>0.334829</td>\n",
              "      <td>0.286120</td>\n",
              "      <td>1.000000</td>\n",
              "    </tr>\n",
              "  </tbody>\n",
              "</table>\n",
              "</div>\n",
              "    <div class=\"colab-df-buttons\">\n",
              "\n",
              "  <div class=\"colab-df-container\">\n",
              "    <button class=\"colab-df-convert\" onclick=\"convertToInteractive('df-e0bfe948-afcf-46c6-928a-80c34430bda0')\"\n",
              "            title=\"Convert this dataframe to an interactive table.\"\n",
              "            style=\"display:none;\">\n",
              "\n",
              "  <svg xmlns=\"http://www.w3.org/2000/svg\" height=\"24px\" viewBox=\"0 -960 960 960\">\n",
              "    <path d=\"M120-120v-720h720v720H120Zm60-500h600v-160H180v160Zm220 220h160v-160H400v160Zm0 220h160v-160H400v160ZM180-400h160v-160H180v160Zm440 0h160v-160H620v160ZM180-180h160v-160H180v160Zm440 0h160v-160H620v160Z\"/>\n",
              "  </svg>\n",
              "    </button>\n",
              "\n",
              "  <style>\n",
              "    .colab-df-container {\n",
              "      display:flex;\n",
              "      gap: 12px;\n",
              "    }\n",
              "\n",
              "    .colab-df-convert {\n",
              "      background-color: #E8F0FE;\n",
              "      border: none;\n",
              "      border-radius: 50%;\n",
              "      cursor: pointer;\n",
              "      display: none;\n",
              "      fill: #1967D2;\n",
              "      height: 32px;\n",
              "      padding: 0 0 0 0;\n",
              "      width: 32px;\n",
              "    }\n",
              "\n",
              "    .colab-df-convert:hover {\n",
              "      background-color: #E2EBFA;\n",
              "      box-shadow: 0px 1px 2px rgba(60, 64, 67, 0.3), 0px 1px 3px 1px rgba(60, 64, 67, 0.15);\n",
              "      fill: #174EA6;\n",
              "    }\n",
              "\n",
              "    .colab-df-buttons div {\n",
              "      margin-bottom: 4px;\n",
              "    }\n",
              "\n",
              "    [theme=dark] .colab-df-convert {\n",
              "      background-color: #3B4455;\n",
              "      fill: #D2E3FC;\n",
              "    }\n",
              "\n",
              "    [theme=dark] .colab-df-convert:hover {\n",
              "      background-color: #434B5C;\n",
              "      box-shadow: 0px 1px 3px 1px rgba(0, 0, 0, 0.15);\n",
              "      filter: drop-shadow(0px 1px 2px rgba(0, 0, 0, 0.3));\n",
              "      fill: #FFFFFF;\n",
              "    }\n",
              "  </style>\n",
              "\n",
              "    <script>\n",
              "      const buttonEl =\n",
              "        document.querySelector('#df-e0bfe948-afcf-46c6-928a-80c34430bda0 button.colab-df-convert');\n",
              "      buttonEl.style.display =\n",
              "        google.colab.kernel.accessAllowed ? 'block' : 'none';\n",
              "\n",
              "      async function convertToInteractive(key) {\n",
              "        const element = document.querySelector('#df-e0bfe948-afcf-46c6-928a-80c34430bda0');\n",
              "        const dataTable =\n",
              "          await google.colab.kernel.invokeFunction('convertToInteractive',\n",
              "                                                    [key], {});\n",
              "        if (!dataTable) return;\n",
              "\n",
              "        const docLinkHtml = 'Like what you see? Visit the ' +\n",
              "          '<a target=\"_blank\" href=https://colab.research.google.com/notebooks/data_table.ipynb>data table notebook</a>'\n",
              "          + ' to learn more about interactive tables.';\n",
              "        element.innerHTML = '';\n",
              "        dataTable['output_type'] = 'display_data';\n",
              "        await google.colab.output.renderOutput(dataTable, element);\n",
              "        const docLink = document.createElement('div');\n",
              "        docLink.innerHTML = docLinkHtml;\n",
              "        element.appendChild(docLink);\n",
              "      }\n",
              "    </script>\n",
              "  </div>\n",
              "\n",
              "\n",
              "<div id=\"df-3a4d2044-e198-4ebb-b02b-2330bc3147dd\">\n",
              "  <button class=\"colab-df-quickchart\" onclick=\"quickchart('df-3a4d2044-e198-4ebb-b02b-2330bc3147dd')\"\n",
              "            title=\"Suggest charts\"\n",
              "            style=\"display:none;\">\n",
              "\n",
              "<svg xmlns=\"http://www.w3.org/2000/svg\" height=\"24px\"viewBox=\"0 0 24 24\"\n",
              "     width=\"24px\">\n",
              "    <g>\n",
              "        <path d=\"M19 3H5c-1.1 0-2 .9-2 2v14c0 1.1.9 2 2 2h14c1.1 0 2-.9 2-2V5c0-1.1-.9-2-2-2zM9 17H7v-7h2v7zm4 0h-2V7h2v10zm4 0h-2v-4h2v4z\"/>\n",
              "    </g>\n",
              "</svg>\n",
              "  </button>\n",
              "\n",
              "<style>\n",
              "  .colab-df-quickchart {\n",
              "      --bg-color: #E8F0FE;\n",
              "      --fill-color: #1967D2;\n",
              "      --hover-bg-color: #E2EBFA;\n",
              "      --hover-fill-color: #174EA6;\n",
              "      --disabled-fill-color: #AAA;\n",
              "      --disabled-bg-color: #DDD;\n",
              "  }\n",
              "\n",
              "  [theme=dark] .colab-df-quickchart {\n",
              "      --bg-color: #3B4455;\n",
              "      --fill-color: #D2E3FC;\n",
              "      --hover-bg-color: #434B5C;\n",
              "      --hover-fill-color: #FFFFFF;\n",
              "      --disabled-bg-color: #3B4455;\n",
              "      --disabled-fill-color: #666;\n",
              "  }\n",
              "\n",
              "  .colab-df-quickchart {\n",
              "    background-color: var(--bg-color);\n",
              "    border: none;\n",
              "    border-radius: 50%;\n",
              "    cursor: pointer;\n",
              "    display: none;\n",
              "    fill: var(--fill-color);\n",
              "    height: 32px;\n",
              "    padding: 0;\n",
              "    width: 32px;\n",
              "  }\n",
              "\n",
              "  .colab-df-quickchart:hover {\n",
              "    background-color: var(--hover-bg-color);\n",
              "    box-shadow: 0 1px 2px rgba(60, 64, 67, 0.3), 0 1px 3px 1px rgba(60, 64, 67, 0.15);\n",
              "    fill: var(--button-hover-fill-color);\n",
              "  }\n",
              "\n",
              "  .colab-df-quickchart-complete:disabled,\n",
              "  .colab-df-quickchart-complete:disabled:hover {\n",
              "    background-color: var(--disabled-bg-color);\n",
              "    fill: var(--disabled-fill-color);\n",
              "    box-shadow: none;\n",
              "  }\n",
              "\n",
              "  .colab-df-spinner {\n",
              "    border: 2px solid var(--fill-color);\n",
              "    border-color: transparent;\n",
              "    border-bottom-color: var(--fill-color);\n",
              "    animation:\n",
              "      spin 1s steps(1) infinite;\n",
              "  }\n",
              "\n",
              "  @keyframes spin {\n",
              "    0% {\n",
              "      border-color: transparent;\n",
              "      border-bottom-color: var(--fill-color);\n",
              "      border-left-color: var(--fill-color);\n",
              "    }\n",
              "    20% {\n",
              "      border-color: transparent;\n",
              "      border-left-color: var(--fill-color);\n",
              "      border-top-color: var(--fill-color);\n",
              "    }\n",
              "    30% {\n",
              "      border-color: transparent;\n",
              "      border-left-color: var(--fill-color);\n",
              "      border-top-color: var(--fill-color);\n",
              "      border-right-color: var(--fill-color);\n",
              "    }\n",
              "    40% {\n",
              "      border-color: transparent;\n",
              "      border-right-color: var(--fill-color);\n",
              "      border-top-color: var(--fill-color);\n",
              "    }\n",
              "    60% {\n",
              "      border-color: transparent;\n",
              "      border-right-color: var(--fill-color);\n",
              "    }\n",
              "    80% {\n",
              "      border-color: transparent;\n",
              "      border-right-color: var(--fill-color);\n",
              "      border-bottom-color: var(--fill-color);\n",
              "    }\n",
              "    90% {\n",
              "      border-color: transparent;\n",
              "      border-bottom-color: var(--fill-color);\n",
              "    }\n",
              "  }\n",
              "</style>\n",
              "\n",
              "  <script>\n",
              "    async function quickchart(key) {\n",
              "      const quickchartButtonEl =\n",
              "        document.querySelector('#' + key + ' button');\n",
              "      quickchartButtonEl.disabled = true;  // To prevent multiple clicks.\n",
              "      quickchartButtonEl.classList.add('colab-df-spinner');\n",
              "      try {\n",
              "        const charts = await google.colab.kernel.invokeFunction(\n",
              "            'suggestCharts', [key], {});\n",
              "      } catch (error) {\n",
              "        console.error('Error during call to suggestCharts:', error);\n",
              "      }\n",
              "      quickchartButtonEl.classList.remove('colab-df-spinner');\n",
              "      quickchartButtonEl.classList.add('colab-df-quickchart-complete');\n",
              "    }\n",
              "    (() => {\n",
              "      let quickchartButtonEl =\n",
              "        document.querySelector('#df-3a4d2044-e198-4ebb-b02b-2330bc3147dd button');\n",
              "      quickchartButtonEl.style.display =\n",
              "        google.colab.kernel.accessAllowed ? 'block' : 'none';\n",
              "    })();\n",
              "  </script>\n",
              "</div>\n",
              "\n",
              "  <div id=\"id_ef04f38f-8a99-478a-9dd4-fc03f552995b\">\n",
              "    <style>\n",
              "      .colab-df-generate {\n",
              "        background-color: #E8F0FE;\n",
              "        border: none;\n",
              "        border-radius: 50%;\n",
              "        cursor: pointer;\n",
              "        display: none;\n",
              "        fill: #1967D2;\n",
              "        height: 32px;\n",
              "        padding: 0 0 0 0;\n",
              "        width: 32px;\n",
              "      }\n",
              "\n",
              "      .colab-df-generate:hover {\n",
              "        background-color: #E2EBFA;\n",
              "        box-shadow: 0px 1px 2px rgba(60, 64, 67, 0.3), 0px 1px 3px 1px rgba(60, 64, 67, 0.15);\n",
              "        fill: #174EA6;\n",
              "      }\n",
              "\n",
              "      [theme=dark] .colab-df-generate {\n",
              "        background-color: #3B4455;\n",
              "        fill: #D2E3FC;\n",
              "      }\n",
              "\n",
              "      [theme=dark] .colab-df-generate:hover {\n",
              "        background-color: #434B5C;\n",
              "        box-shadow: 0px 1px 3px 1px rgba(0, 0, 0, 0.15);\n",
              "        filter: drop-shadow(0px 1px 2px rgba(0, 0, 0, 0.3));\n",
              "        fill: #FFFFFF;\n",
              "      }\n",
              "    </style>\n",
              "    <button class=\"colab-df-generate\" onclick=\"generateWithVariable('corr')\"\n",
              "            title=\"Generate code using this dataframe.\"\n",
              "            style=\"display:none;\">\n",
              "\n",
              "  <svg xmlns=\"http://www.w3.org/2000/svg\" height=\"24px\"viewBox=\"0 0 24 24\"\n",
              "       width=\"24px\">\n",
              "    <path d=\"M7,19H8.4L18.45,9,17,7.55,7,17.6ZM5,21V16.75L18.45,3.32a2,2,0,0,1,2.83,0l1.4,1.43a1.91,1.91,0,0,1,.58,1.4,1.91,1.91,0,0,1-.58,1.4L9.25,21ZM18.45,9,17,7.55Zm-12,3A5.31,5.31,0,0,0,4.9,8.1,5.31,5.31,0,0,0,1,6.5,5.31,5.31,0,0,0,4.9,4.9,5.31,5.31,0,0,0,6.5,1,5.31,5.31,0,0,0,8.1,4.9,5.31,5.31,0,0,0,12,6.5,5.46,5.46,0,0,0,6.5,12Z\"/>\n",
              "  </svg>\n",
              "    </button>\n",
              "    <script>\n",
              "      (() => {\n",
              "      const buttonEl =\n",
              "        document.querySelector('#id_ef04f38f-8a99-478a-9dd4-fc03f552995b button.colab-df-generate');\n",
              "      buttonEl.style.display =\n",
              "        google.colab.kernel.accessAllowed ? 'block' : 'none';\n",
              "\n",
              "      buttonEl.onclick = () => {\n",
              "        google.colab.notebook.generateWithVariable('corr');\n",
              "      }\n",
              "      })();\n",
              "    </script>\n",
              "  </div>\n",
              "\n",
              "    </div>\n",
              "  </div>\n"
            ],
            "application/vnd.google.colaboratory.intrinsic+json": {
              "type": "dataframe",
              "variable_name": "corr",
              "summary": "{\n  \"name\": \"corr\",\n  \"rows\": 6,\n  \"fields\": [\n    {\n      \"column\": \"wins\",\n      \"properties\": {\n        \"dtype\": \"number\",\n        \"std\": 0.18331154934126978,\n        \"min\": 0.5837125573452697,\n        \"max\": 1.0,\n        \"num_unique_values\": 6,\n        \"samples\": [\n          1.0,\n          0.867366052798558,\n          0.5837125573452697\n        ],\n        \"semantic_type\": \"\",\n        \"description\": \"\"\n      }\n    },\n    {\n      \"column\": \"games\",\n      \"properties\": {\n        \"dtype\": \"number\",\n        \"std\": 0.3005089361683127,\n        \"min\": 0.3255009044686971,\n        \"max\": 1.0,\n        \"num_unique_values\": 6,\n        \"samples\": [\n          0.867366052798558,\n          1.0,\n          0.3255009044686971\n        ],\n        \"semantic_type\": \"\",\n        \"description\": \"\"\n      }\n    },\n    {\n      \"column\": \"win_perc\",\n      \"properties\": {\n        \"dtype\": \"number\",\n        \"std\": 0.3208148906380628,\n        \"min\": 0.31060033115526814,\n        \"max\": 1.0,\n        \"num_unique_values\": 6,\n        \"samples\": [\n          0.6069024272481065,\n          0.35658835603242595,\n          0.9916630217433073\n        ],\n        \"semantic_type\": \"\",\n        \"description\": \"\"\n      }\n    },\n    {\n      \"column\": \"pts_made\",\n      \"properties\": {\n        \"dtype\": \"number\",\n        \"std\": 0.320640195243829,\n        \"min\": 0.33482923610898746,\n        \"max\": 1.0,\n        \"num_unique_values\": 6,\n        \"samples\": [\n          0.9551127378546764,\n          0.9000149960785343,\n          0.33482923610898746\n        ],\n        \"semantic_type\": \"\",\n        \"description\": \"\"\n      }\n    },\n    {\n      \"column\": \"pts_allow\",\n      \"properties\": {\n        \"dtype\": \"number\",\n        \"std\": 0.3432177991466709,\n        \"min\": 0.28612007133027195,\n        \"max\": 1.0,\n        \"num_unique_values\": 6,\n        \"samples\": [\n          0.9384929602494173,\n          0.8972784280944499,\n          0.28612007133027195\n        ],\n        \"semantic_type\": \"\",\n        \"description\": \"\"\n      }\n    },\n    {\n      \"column\": \"pyth_exp\",\n      \"properties\": {\n        \"dtype\": \"number\",\n        \"std\": 0.3337162165639752,\n        \"min\": 0.28612007133027195,\n        \"max\": 1.0,\n        \"num_unique_values\": 6,\n        \"samples\": [\n          0.5837125573452697,\n          0.3255009044686971,\n          1.0\n        ],\n        \"semantic_type\": \"\",\n        \"description\": \"\"\n      }\n    }\n  ]\n}"
            }
          },
          "metadata": {},
          "execution_count": 550
        }
      ]
    },
    {
      "cell_type": "code",
      "source": [
        "sns.heatmap(corr,annot=True,cmap='plasma',linecolor='black',linewidths=0.6)"
      ],
      "metadata": {
        "colab": {
          "base_uri": "https://localhost:8080/",
          "height": 506
        },
        "id": "vO7mXjiB-BJm",
        "outputId": "7fa60c1d-a892-4d33-a749-b611dc0d49a3"
      },
      "execution_count": 601,
      "outputs": [
        {
          "output_type": "execute_result",
          "data": {
            "text/plain": [
              "<Axes: >"
            ]
          },
          "metadata": {},
          "execution_count": 601
        },
        {
          "output_type": "display_data",
          "data": {
            "text/plain": [
              "<Figure size 640x480 with 2 Axes>"
            ],
            "image/png": "[encoded data removed]"
          },
          "metadata": {}
        }
      ]
    },
    {
      "cell_type": "code",
      "execution_count": 552,
      "metadata": {
        "id": "QcPSWLEw2jgs"
      },
      "outputs": [],
      "source": [
        "pyth_lm=smf.ols(formula='win_perc ~ pyth_exp', data=pyth).fit()"
      ]
    },
    {
      "cell_type": "markdown",
      "metadata": {
        "id": "EtIcgqjKWKuj"
      },
      "source": [
        "#Primeiro modo de calcular R²"
      ]
    },
    {
      "cell_type": "code",
      "execution_count": 553,
      "metadata": {
        "colab": {
          "base_uri": "https://localhost:8080/"
        },
        "id": "QLEGnDsDWKHV",
        "outputId": "7fc24d92-1c98-4519-ca2c-d838d400839b"
      },
      "outputs": [
        {
          "output_type": "stream",
          "name": "stdout",
          "text": [
            "                            OLS Regression Results                            \n",
            "==============================================================================\n",
            "Dep. Variable:               win_perc   R-squared:                       0.983\n",
            "Model:                            OLS   Adj. R-squared:                  0.983\n",
            "Method:                 Least Squares   F-statistic:                     1658.\n",
            "Date:                Mon, 13 May 2024   Prob (F-statistic):           1.82e-26\n",
            "Time:                        18:34:31   Log-Likelihood:                 108.94\n",
            "No. Observations:                  30   AIC:                            -213.9\n",
            "Df Residuals:                      28   BIC:                            -211.1\n",
            "Df Model:                           1                                         \n",
            "Covariance Type:            nonrobust                                         \n",
            "==============================================================================\n",
            "                 coef    std err          t      P>|t|      [0.025      0.975]\n",
            "------------------------------------------------------------------------------\n",
            "Intercept     -2.8987      0.083    -34.773      0.000      -3.069      -2.728\n",
            "pyth_exp       6.7971      0.167     40.722      0.000       6.455       7.139\n",
            "==============================================================================\n",
            "Omnibus:                        1.216   Durbin-Watson:                   1.642\n",
            "Prob(Omnibus):                  0.545   Jarque-Bera (JB):                0.695\n",
            "Skew:                          -0.373   Prob(JB):                        0.706\n",
            "Kurtosis:                       3.023   Cond. No.                         172.\n",
            "==============================================================================\n",
            "\n",
            "Notes:\n",
            "[1] Standard Errors assume that the covariance matrix of the errors is correctly specified.\n"
          ]
        }
      ],
      "source": [
        "print(pyth_lm.summary())"
      ]
    },
    {
      "cell_type": "code",
      "source": [
        "x=pyth.pyth_exp\n",
        "y=pyth.win_perc\n",
        "SOMA_X = pyth.pyth_exp.sum()\n",
        "SOMA_Y = pyth.win_perc.sum()\n",
        "SOMA_X2 = pyth.pyth_exp.apply(lambda x: x**2).sum()\n",
        "SOMA_Y2 = pyth.win_perc.apply(lambda y: y**2).sum()\n",
        "SOMA_XY = pyth.apply(lambda data: data.pyth_exp * data.win_perc, axis = 1).sum()"
      ],
      "metadata": {
        "id": "AxVy4mRqIRDF"
      },
      "execution_count": 554,
      "outputs": []
    },
    {
      "cell_type": "code",
      "source": [
        "n=30\n",
        "numerador = n * SOMA_XY - SOMA_X * SOMA_Y\n",
        "denominador = n * SOMA_X2 - (SOMA_X)**2\n",
        "beta_2 = numerador / denominador\n",
        "print(\"O coeficiente angular da reta de regressão é\",beta_2.round(2))"
      ],
      "metadata": {
        "colab": {
          "base_uri": "https://localhost:8080/"
        },
        "id": "UUa00MOVIY0t",
        "outputId": "9720a8b7-b0b1-46e4-d89f-64ad87a89c56"
      },
      "execution_count": 555,
      "outputs": [
        {
          "output_type": "stream",
          "name": "stdout",
          "text": [
            "O coeficiente angular da reta de regressão é 6.8\n"
          ]
        }
      ]
    },
    {
      "cell_type": "code",
      "source": [
        "beta_1 = pyth.win_perc.mean() - beta_2 * pyth.pyth_exp.mean()\n",
        "print(\"O coeficiente linear da reta de regressão é\",beta_1.round(2))"
      ],
      "metadata": {
        "colab": {
          "base_uri": "https://localhost:8080/"
        },
        "id": "j25ou5wgIo6b",
        "outputId": "2fe61ad6-9831-4148-b3e9-06e7633a00bb"
      },
      "execution_count": 556,
      "outputs": [
        {
          "output_type": "stream",
          "name": "stdout",
          "text": [
            "O coeficiente linear da reta de regressão é -2.9\n"
          ]
        }
      ]
    },
    {
      "cell_type": "code",
      "source": [
        "print(\"A reta de regressão é y=%.2f+%.2fx\"%(beta_1,beta_2))"
      ],
      "metadata": {
        "colab": {
          "base_uri": "https://localhost:8080/"
        },
        "id": "CBfdNzIiJ-u1",
        "outputId": "78843bed-64aa-443f-cd6b-35eafc8fe8e9"
      },
      "execution_count": 557,
      "outputs": [
        {
          "output_type": "stream",
          "name": "stdout",
          "text": [
            "A reta de regressão é y=-2.90+6.80x\n"
          ]
        }
      ]
    },
    {
      "cell_type": "code",
      "source": [
        "def previsão(x):\n",
        "  print(\"Dada a expectativa pitagórica %.3f, a previsão da porcentagem real de vitórias é %.3f.\"%(x,beta_1 + beta_2 * x))\n",
        "previsão(0.515)"
      ],
      "metadata": {
        "colab": {
          "base_uri": "https://localhost:8080/"
        },
        "id": "iCxvz7YyL8uK",
        "outputId": "b8a9685f-fb0d-4724-91e2-6f3635bf213e"
      },
      "execution_count": 558,
      "outputs": [
        {
          "output_type": "stream",
          "name": "stdout",
          "text": [
            "Dada a expectativa pitagórica 0.515, a previsão da porcentagem real de vitórias é 0.602.\n"
          ]
        }
      ]
    },
    {
      "cell_type": "markdown",
      "source": [
        "### Outra maneira de obter os coeficientes"
      ],
      "metadata": {
        "id": "dld6vx_Yui1C"
      }
    },
    {
      "cell_type": "code",
      "source": [
        "pyth_lm.params"
      ],
      "metadata": {
        "colab": {
          "base_uri": "https://localhost:8080/"
        },
        "id": "5tzUQEGHti6X",
        "outputId": "2554c3cb-8dc7-489a-8bf3-931a571b038e"
      },
      "execution_count": 559,
      "outputs": [
        {
          "output_type": "execute_result",
          "data": {
            "text/plain": [
              "Intercept   -2.898724\n",
              "pyth_exp     6.797114\n",
              "dtype: float64"
            ]
          },
          "metadata": {},
          "execution_count": 559
        }
      ]
    },
    {
      "cell_type": "markdown",
      "source": [
        "$\\beta_1$ é o intercepto, enquanto $\\beta_2$ é o pyth_exp."
      ],
      "metadata": {
        "id": "cIVZlIP6uH57"
      }
    },
    {
      "cell_type": "markdown",
      "source": [
        "### Intervalos de confiança"
      ],
      "metadata": {
        "id": "tHdTJQpOuq5C"
      }
    },
    {
      "cell_type": "code",
      "source": [
        "pyth_lm.conf_int(alpha=0.05)"
      ],
      "metadata": {
        "colab": {
          "base_uri": "https://localhost:8080/",
          "height": 112
        },
        "id": "02NY1ewnti1l",
        "outputId": "f2a3c9e1-8cc7-40e1-a647-a36f0cc8e2cc"
      },
      "execution_count": 560,
      "outputs": [
        {
          "output_type": "execute_result",
          "data": {
            "text/plain": [
              "                  0         1\n",
              "Intercept -3.069482 -2.727966\n",
              "pyth_exp   6.455205  7.139022"
            ],
            "text/html": [
              "\n",
              "  <div id=\"df-06113246-97e5-4446-b514-872c79815abb\" class=\"colab-df-container\">\n",
              "    <div>\n",
              "<style scoped>\n",
              "    .dataframe tbody tr th:only-of-type {\n",
              "        vertical-align: middle;\n",
              "    }\n",
              "\n",
              "    .dataframe tbody tr th {\n",
              "        vertical-align: top;\n",
              "    }\n",
              "\n",
              "    .dataframe thead th {\n",
              "        text-align: right;\n",
              "    }\n",
              "</style>\n",
              "<table border=\"1\" class=\"dataframe\">\n",
              "  <thead>\n",
              "    <tr style=\"text-align: right;\">\n",
              "      <th></th>\n",
              "      <th>0</th>\n",
              "      <th>1</th>\n",
              "    </tr>\n",
              "  </thead>\n",
              "  <tbody>\n",
              "    <tr>\n",
              "      <th>Intercept</th>\n",
              "      <td>-3.069482</td>\n",
              "      <td>-2.727966</td>\n",
              "    </tr>\n",
              "    <tr>\n",
              "      <th>pyth_exp</th>\n",
              "      <td>6.455205</td>\n",
              "      <td>7.139022</td>\n",
              "    </tr>\n",
              "  </tbody>\n",
              "</table>\n",
              "</div>\n",
              "    <div class=\"colab-df-buttons\">\n",
              "\n",
              "  <div class=\"colab-df-container\">\n",
              "    <button class=\"colab-df-convert\" onclick=\"convertToInteractive('df-06113246-97e5-4446-b514-872c79815abb')\"\n",
              "            title=\"Convert this dataframe to an interactive table.\"\n",
              "            style=\"display:none;\">\n",
              "\n",
              "  <svg xmlns=\"http://www.w3.org/2000/svg\" height=\"24px\" viewBox=\"0 -960 960 960\">\n",
              "    <path d=\"M120-120v-720h720v720H120Zm60-500h600v-160H180v160Zm220 220h160v-160H400v160Zm0 220h160v-160H400v160ZM180-400h160v-160H180v160Zm440 0h160v-160H620v160ZM180-180h160v-160H180v160Zm440 0h160v-160H620v160Z\"/>\n",
              "  </svg>\n",
              "    </button>\n",
              "\n",
              "  <style>\n",
              "    .colab-df-container {\n",
              "      display:flex;\n",
              "      gap: 12px;\n",
              "    }\n",
              "\n",
              "    .colab-df-convert {\n",
              "      background-color: #E8F0FE;\n",
              "      border: none;\n",
              "      border-radius: 50%;\n",
              "      cursor: pointer;\n",
              "      display: none;\n",
              "      fill: #1967D2;\n",
              "      height: 32px;\n",
              "      padding: 0 0 0 0;\n",
              "      width: 32px;\n",
              "    }\n",
              "\n",
              "    .colab-df-convert:hover {\n",
              "      background-color: #E2EBFA;\n",
              "      box-shadow: 0px 1px 2px rgba(60, 64, 67, 0.3), 0px 1px 3px 1px rgba(60, 64, 67, 0.15);\n",
              "      fill: #174EA6;\n",
              "    }\n",
              "\n",
              "    .colab-df-buttons div {\n",
              "      margin-bottom: 4px;\n",
              "    }\n",
              "\n",
              "    [theme=dark] .colab-df-convert {\n",
              "      background-color: #3B4455;\n",
              "      fill: #D2E3FC;\n",
              "    }\n",
              "\n",
              "    [theme=dark] .colab-df-convert:hover {\n",
              "      background-color: #434B5C;\n",
              "      box-shadow: 0px 1px 3px 1px rgba(0, 0, 0, 0.15);\n",
              "      filter: drop-shadow(0px 1px 2px rgba(0, 0, 0, 0.3));\n",
              "      fill: #FFFFFF;\n",
              "    }\n",
              "  </style>\n",
              "\n",
              "    <script>\n",
              "      const buttonEl =\n",
              "        document.querySelector('#df-06113246-97e5-4446-b514-872c79815abb button.colab-df-convert');\n",
              "      buttonEl.style.display =\n",
              "        google.colab.kernel.accessAllowed ? 'block' : 'none';\n",
              "\n",
              "      async function convertToInteractive(key) {\n",
              "        const element = document.querySelector('#df-06113246-97e5-4446-b514-872c79815abb');\n",
              "        const dataTable =\n",
              "          await google.colab.kernel.invokeFunction('convertToInteractive',\n",
              "                                                    [key], {});\n",
              "        if (!dataTable) return;\n",
              "\n",
              "        const docLinkHtml = 'Like what you see? Visit the ' +\n",
              "          '<a target=\"_blank\" href=https://colab.research.google.com/notebooks/data_table.ipynb>data table notebook</a>'\n",
              "          + ' to learn more about interactive tables.';\n",
              "        element.innerHTML = '';\n",
              "        dataTable['output_type'] = 'display_data';\n",
              "        await google.colab.output.renderOutput(dataTable, element);\n",
              "        const docLink = document.createElement('div');\n",
              "        docLink.innerHTML = docLinkHtml;\n",
              "        element.appendChild(docLink);\n",
              "      }\n",
              "    </script>\n",
              "  </div>\n",
              "\n",
              "\n",
              "<div id=\"df-2c087f8d-ae2a-409f-a6f6-fb3486f149c3\">\n",
              "  <button class=\"colab-df-quickchart\" onclick=\"quickchart('df-2c087f8d-ae2a-409f-a6f6-fb3486f149c3')\"\n",
              "            title=\"Suggest charts\"\n",
              "            style=\"display:none;\">\n",
              "\n",
              "<svg xmlns=\"http://www.w3.org/2000/svg\" height=\"24px\"viewBox=\"0 0 24 24\"\n",
              "     width=\"24px\">\n",
              "    <g>\n",
              "        <path d=\"M19 3H5c-1.1 0-2 .9-2 2v14c0 1.1.9 2 2 2h14c1.1 0 2-.9 2-2V5c0-1.1-.9-2-2-2zM9 17H7v-7h2v7zm4 0h-2V7h2v10zm4 0h-2v-4h2v4z\"/>\n",
              "    </g>\n",
              "</svg>\n",
              "  </button>\n",
              "\n",
              "<style>\n",
              "  .colab-df-quickchart {\n",
              "      --bg-color: #E8F0FE;\n",
              "      --fill-color: #1967D2;\n",
              "      --hover-bg-color: #E2EBFA;\n",
              "      --hover-fill-color: #174EA6;\n",
              "      --disabled-fill-color: #AAA;\n",
              "      --disabled-bg-color: #DDD;\n",
              "  }\n",
              "\n",
              "  [theme=dark] .colab-df-quickchart {\n",
              "      --bg-color: #3B4455;\n",
              "      --fill-color: #D2E3FC;\n",
              "      --hover-bg-color: #434B5C;\n",
              "      --hover-fill-color: #FFFFFF;\n",
              "      --disabled-bg-color: #3B4455;\n",
              "      --disabled-fill-color: #666;\n",
              "  }\n",
              "\n",
              "  .colab-df-quickchart {\n",
              "    background-color: var(--bg-color);\n",
              "    border: none;\n",
              "    border-radius: 50%;\n",
              "    cursor: pointer;\n",
              "    display: none;\n",
              "    fill: var(--fill-color);\n",
              "    height: 32px;\n",
              "    padding: 0;\n",
              "    width: 32px;\n",
              "  }\n",
              "\n",
              "  .colab-df-quickchart:hover {\n",
              "    background-color: var(--hover-bg-color);\n",
              "    box-shadow: 0 1px 2px rgba(60, 64, 67, 0.3), 0 1px 3px 1px rgba(60, 64, 67, 0.15);\n",
              "    fill: var(--button-hover-fill-color);\n",
              "  }\n",
              "\n",
              "  .colab-df-quickchart-complete:disabled,\n",
              "  .colab-df-quickchart-complete:disabled:hover {\n",
              "    background-color: var(--disabled-bg-color);\n",
              "    fill: var(--disabled-fill-color);\n",
              "    box-shadow: none;\n",
              "  }\n",
              "\n",
              "  .colab-df-spinner {\n",
              "    border: 2px solid var(--fill-color);\n",
              "    border-color: transparent;\n",
              "    border-bottom-color: var(--fill-color);\n",
              "    animation:\n",
              "      spin 1s steps(1) infinite;\n",
              "  }\n",
              "\n",
              "  @keyframes spin {\n",
              "    0% {\n",
              "      border-color: transparent;\n",
              "      border-bottom-color: var(--fill-color);\n",
              "      border-left-color: var(--fill-color);\n",
              "    }\n",
              "    20% {\n",
              "      border-color: transparent;\n",
              "      border-left-color: var(--fill-color);\n",
              "      border-top-color: var(--fill-color);\n",
              "    }\n",
              "    30% {\n",
              "      border-color: transparent;\n",
              "      border-left-color: var(--fill-color);\n",
              "      border-top-color: var(--fill-color);\n",
              "      border-right-color: var(--fill-color);\n",
              "    }\n",
              "    40% {\n",
              "      border-color: transparent;\n",
              "      border-right-color: var(--fill-color);\n",
              "      border-top-color: var(--fill-color);\n",
              "    }\n",
              "    60% {\n",
              "      border-color: transparent;\n",
              "      border-right-color: var(--fill-color);\n",
              "    }\n",
              "    80% {\n",
              "      border-color: transparent;\n",
              "      border-right-color: var(--fill-color);\n",
              "      border-bottom-color: var(--fill-color);\n",
              "    }\n",
              "    90% {\n",
              "      border-color: transparent;\n",
              "      border-bottom-color: var(--fill-color);\n",
              "    }\n",
              "  }\n",
              "</style>\n",
              "\n",
              "  <script>\n",
              "    async function quickchart(key) {\n",
              "      const quickchartButtonEl =\n",
              "        document.querySelector('#' + key + ' button');\n",
              "      quickchartButtonEl.disabled = true;  // To prevent multiple clicks.\n",
              "      quickchartButtonEl.classList.add('colab-df-spinner');\n",
              "      try {\n",
              "        const charts = await google.colab.kernel.invokeFunction(\n",
              "            'suggestCharts', [key], {});\n",
              "      } catch (error) {\n",
              "        console.error('Error during call to suggestCharts:', error);\n",
              "      }\n",
              "      quickchartButtonEl.classList.remove('colab-df-spinner');\n",
              "      quickchartButtonEl.classList.add('colab-df-quickchart-complete');\n",
              "    }\n",
              "    (() => {\n",
              "      let quickchartButtonEl =\n",
              "        document.querySelector('#df-2c087f8d-ae2a-409f-a6f6-fb3486f149c3 button');\n",
              "      quickchartButtonEl.style.display =\n",
              "        google.colab.kernel.accessAllowed ? 'block' : 'none';\n",
              "    })();\n",
              "  </script>\n",
              "</div>\n",
              "\n",
              "    </div>\n",
              "  </div>\n"
            ],
            "application/vnd.google.colaboratory.intrinsic+json": {
              "type": "dataframe",
              "summary": "{\n  \"name\": \"pyth_lm\",\n  \"rows\": 2,\n  \"fields\": [\n    {\n      \"column\": 0,\n      \"properties\": {\n        \"dtype\": \"number\",\n        \"std\": 6.73497068739921,\n        \"min\": -3.069481908892614,\n        \"max\": 6.455204979412596,\n        \"num_unique_values\": 2,\n        \"samples\": [\n          6.455204979412596,\n          -3.069481908892614\n        ],\n        \"semantic_type\": \"\",\n        \"description\": \"\"\n      }\n    },\n    {\n      \"column\": 1,\n      \"properties\": {\n        \"dtype\": \"number\",\n        \"std\": 6.977014067349985,\n        \"min\": -2.727965883116398,\n        \"max\": 7.139022035797822,\n        \"num_unique_values\": 2,\n        \"samples\": [\n          7.139022035797822,\n          -2.727965883116398\n        ],\n        \"semantic_type\": \"\",\n        \"description\": \"\"\n      }\n    }\n  ]\n}"
            }
          },
          "metadata": {},
          "execution_count": 560
        }
      ]
    },
    {
      "cell_type": "markdown",
      "source": [
        "A um nível de 95%, o intervalo de confiança de $\\beta_1$ é [-3.07, -2.73], enquanto o de $\\beta_2$ é [6.46, 7.14]."
      ],
      "metadata": {
        "id": "hj5z034Su4T6"
      }
    },
    {
      "cell_type": "markdown",
      "source": [
        "### Previsões no *dataframe*"
      ],
      "metadata": {
        "id": "GzMV0mJJvl__"
      }
    },
    {
      "cell_type": "code",
      "source": [
        "pyth.insert(pyth.columns.get_loc(\"pts_made\"), 'prev_win_perc', (pyth_lm.predict()).round(4))\n",
        "pyth"
      ],
      "metadata": {
        "colab": {
          "base_uri": "https://localhost:8080/",
          "height": 1000
        },
        "id": "-ulZ0w_WvkCo",
        "outputId": "e41746ca-2583-4e0d-fc2d-ed5124e2b682"
      },
      "execution_count": 561,
      "outputs": [
        {
          "output_type": "execute_result",
          "data": {
            "text/plain": [
              "      wins  games  win_perc  prev_win_perc  pts_made  pts_allow  pyth_exp\n",
              "team                                                                     \n",
              "ATL   2583   5189    0.4978         0.4917    531868     533111    0.4988\n",
              "BKN   1551   3622    0.4282         0.4278    369031     376958    0.4894\n",
              "BOS   3105   5256    0.5908         0.5916    554328     539600    0.5135\n",
              "CHA   1132   2549    0.4441         0.4346    256910     261911    0.4904\n",
              "CHI   2147   4189    0.5125         0.5114    429550     428070    0.5017\n",
              "CLE   1853   3943    0.4699         0.4686    399130     402790    0.4954\n",
              "DAL   1706   3379    0.5049         0.5026    350205     349939    0.5004\n",
              "DEN   1790   3623    0.4941         0.4842    389525     391353    0.4977\n",
              "DET   2484   5225    0.4754         0.4767    532200     535839    0.4966\n",
              "GSW   2476   5247    0.4719         0.4754    555153     559188    0.4964\n",
              "HOU   2154   4196    0.5133         0.5134    441320     439578    0.5020\n",
              "IND   1798   3623    0.4963         0.5060    374059     373393    0.5009\n",
              "LAC   1638   3950    0.4147         0.4074    407568     418822    0.4864\n",
              "LAL   3100   5233    0.5924         0.5800    556559     543548    0.5118\n",
              "MEM    915   2147    0.4262         0.4257    212327     216995    0.4891\n",
              "MIA   1409   2721    0.5178         0.5107    269527     268667    0.5016\n",
              "MIL   2168   4115    0.5269         0.5406    431182     426042    0.5060\n",
              "MIN   1060   2630    0.4030         0.4176    265117     271632    0.4879\n",
              "NOP    755   1604    0.4707         0.4733    162833     164107    0.4961\n",
              "NYK   2524   2525    0.4806         0.4849    535672     538020    0.4978\n",
              "OKC   2232   4196    0.5319         0.5297    442762     438854    0.5044\n",
              "ORL   1248   2639    0.4729         0.4733    266933     269012    0.4961\n",
              "PHI   2658   5190    0.5121         0.5053    539556     538683    0.5008\n",
              "PHX   2231   4115    0.5422         0.5454    444019     438076    0.5067\n",
              "POR   2123   3952    0.5372         0.5399    414827     409947    0.5059\n",
              "SAC   2361   5230    0.4514         0.4489    546276     554560    0.4925\n",
              "SAS   2181   3621    0.6023         0.6004    380542     369416    0.5148\n",
              "TOR   1037   2146    0.4832         0.4937    216600     216982    0.4991\n",
              "UTA   2030   3704    0.5481         0.5522    383725     377880    0.5077\n",
              "WAS   2052   4516    0.4544         0.4543    471509     477840    0.4933"
            ],
            "text/html": [
              "\n",
              "  <div id=\"df-698f978d-951f-42b4-8ffc-305a21f49e83\" class=\"colab-df-container\">\n",
              "    <div>\n",
              "<style scoped>\n",
              "    .dataframe tbody tr th:only-of-type {\n",
              "        vertical-align: middle;\n",
              "    }\n",
              "\n",
              "    .dataframe tbody tr th {\n",
              "        vertical-align: top;\n",
              "    }\n",
              "\n",
              "    .dataframe thead th {\n",
              "        text-align: right;\n",
              "    }\n",
              "</style>\n",
              "<table border=\"1\" class=\"dataframe\">\n",
              "  <thead>\n",
              "    <tr style=\"text-align: right;\">\n",
              "      <th></th>\n",
              "      <th>wins</th>\n",
              "      <th>games</th>\n",
              "      <th>win_perc</th>\n",
              "      <th>prev_win_perc</th>\n",
              "      <th>pts_made</th>\n",
              "      <th>pts_allow</th>\n",
              "      <th>pyth_exp</th>\n",
              "    </tr>\n",
              "    <tr>\n",
              "      <th>team</th>\n",
              "      <th></th>\n",
              "      <th></th>\n",
              "      <th></th>\n",
              "      <th></th>\n",
              "      <th></th>\n",
              "      <th></th>\n",
              "      <th></th>\n",
              "    </tr>\n",
              "  </thead>\n",
              "  <tbody>\n",
              "    <tr>\n",
              "      <th>ATL</th>\n",
              "      <td>2583</td>\n",
              "      <td>5189</td>\n",
              "      <td>0.4978</td>\n",
              "      <td>0.4917</td>\n",
              "      <td>531868</td>\n",
              "      <td>533111</td>\n",
              "      <td>0.4988</td>\n",
              "    </tr>\n",
              "    <tr>\n",
              "      <th>BKN</th>\n",
              "      <td>1551</td>\n",
              "      <td>3622</td>\n",
              "      <td>0.4282</td>\n",
              "      <td>0.4278</td>\n",
              "      <td>369031</td>\n",
              "      <td>376958</td>\n",
              "      <td>0.4894</td>\n",
              "    </tr>\n",
              "    <tr>\n",
              "      <th>BOS</th>\n",
              "      <td>3105</td>\n",
              "      <td>5256</td>\n",
              "      <td>0.5908</td>\n",
              "      <td>0.5916</td>\n",
              "      <td>554328</td>\n",
              "      <td>539600</td>\n",
              "      <td>0.5135</td>\n",
              "    </tr>\n",
              "    <tr>\n",
              "      <th>CHA</th>\n",
              "      <td>1132</td>\n",
              "      <td>2549</td>\n",
              "      <td>0.4441</td>\n",
              "      <td>0.4346</td>\n",
              "      <td>256910</td>\n",
              "      <td>261911</td>\n",
              "      <td>0.4904</td>\n",
              "    </tr>\n",
              "    <tr>\n",
              "      <th>CHI</th>\n",
              "      <td>2147</td>\n",
              "      <td>4189</td>\n",
              "      <td>0.5125</td>\n",
              "      <td>0.5114</td>\n",
              "      <td>429550</td>\n",
              "      <td>428070</td>\n",
              "      <td>0.5017</td>\n",
              "    </tr>\n",
              "    <tr>\n",
              "      <th>CLE</th>\n",
              "      <td>1853</td>\n",
              "      <td>3943</td>\n",
              "      <td>0.4699</td>\n",
              "      <td>0.4686</td>\n",
              "      <td>399130</td>\n",
              "      <td>402790</td>\n",
              "      <td>0.4954</td>\n",
              "    </tr>\n",
              "    <tr>\n",
              "      <th>DAL</th>\n",
              "      <td>1706</td>\n",
              "      <td>3379</td>\n",
              "      <td>0.5049</td>\n",
              "      <td>0.5026</td>\n",
              "      <td>350205</td>\n",
              "      <td>349939</td>\n",
              "      <td>0.5004</td>\n",
              "    </tr>\n",
              "    <tr>\n",
              "      <th>DEN</th>\n",
              "      <td>1790</td>\n",
              "      <td>3623</td>\n",
              "      <td>0.4941</td>\n",
              "      <td>0.4842</td>\n",
              "      <td>389525</td>\n",
              "      <td>391353</td>\n",
              "      <td>0.4977</td>\n",
              "    </tr>\n",
              "    <tr>\n",
              "      <th>DET</th>\n",
              "      <td>2484</td>\n",
              "      <td>5225</td>\n",
              "      <td>0.4754</td>\n",
              "      <td>0.4767</td>\n",
              "      <td>532200</td>\n",
              "      <td>535839</td>\n",
              "      <td>0.4966</td>\n",
              "    </tr>\n",
              "    <tr>\n",
              "      <th>GSW</th>\n",
              "      <td>2476</td>\n",
              "      <td>5247</td>\n",
              "      <td>0.4719</td>\n",
              "      <td>0.4754</td>\n",
              "      <td>555153</td>\n",
              "      <td>559188</td>\n",
              "      <td>0.4964</td>\n",
              "    </tr>\n",
              "    <tr>\n",
              "      <th>HOU</th>\n",
              "      <td>2154</td>\n",
              "      <td>4196</td>\n",
              "      <td>0.5133</td>\n",
              "      <td>0.5134</td>\n",
              "      <td>441320</td>\n",
              "      <td>439578</td>\n",
              "      <td>0.5020</td>\n",
              "    </tr>\n",
              "    <tr>\n",
              "      <th>IND</th>\n",
              "      <td>1798</td>\n",
              "      <td>3623</td>\n",
              "      <td>0.4963</td>\n",
              "      <td>0.5060</td>\n",
              "      <td>374059</td>\n",
              "      <td>373393</td>\n",
              "      <td>0.5009</td>\n",
              "    </tr>\n",
              "    <tr>\n",
              "      <th>LAC</th>\n",
              "      <td>1638</td>\n",
              "      <td>3950</td>\n",
              "      <td>0.4147</td>\n",
              "      <td>0.4074</td>\n",
              "      <td>407568</td>\n",
              "      <td>418822</td>\n",
              "      <td>0.4864</td>\n",
              "    </tr>\n",
              "    <tr>\n",
              "      <th>LAL</th>\n",
              "      <td>3100</td>\n",
              "      <td>5233</td>\n",
              "      <td>0.5924</td>\n",
              "      <td>0.5800</td>\n",
              "      <td>556559</td>\n",
              "      <td>543548</td>\n",
              "      <td>0.5118</td>\n",
              "    </tr>\n",
              "    <tr>\n",
              "      <th>MEM</th>\n",
              "      <td>915</td>\n",
              "      <td>2147</td>\n",
              "      <td>0.4262</td>\n",
              "      <td>0.4257</td>\n",
              "      <td>212327</td>\n",
              "      <td>216995</td>\n",
              "      <td>0.4891</td>\n",
              "    </tr>\n",
              "    <tr>\n",
              "      <th>MIA</th>\n",
              "      <td>1409</td>\n",
              "      <td>2721</td>\n",
              "      <td>0.5178</td>\n",
              "      <td>0.5107</td>\n",
              "      <td>269527</td>\n",
              "      <td>268667</td>\n",
              "      <td>0.5016</td>\n",
              "    </tr>\n",
              "    <tr>\n",
              "      <th>MIL</th>\n",
              "      <td>2168</td>\n",
              "      <td>4115</td>\n",
              "      <td>0.5269</td>\n",
              "      <td>0.5406</td>\n",
              "      <td>431182</td>\n",
              "      <td>426042</td>\n",
              "      <td>0.5060</td>\n",
              "    </tr>\n",
              "    <tr>\n",
              "      <th>MIN</th>\n",
              "      <td>1060</td>\n",
              "      <td>2630</td>\n",
              "      <td>0.4030</td>\n",
              "      <td>0.4176</td>\n",
              "      <td>265117</td>\n",
              "      <td>271632</td>\n",
              "      <td>0.4879</td>\n",
              "    </tr>\n",
              "    <tr>\n",
              "      <th>NOP</th>\n",
              "      <td>755</td>\n",
              "      <td>1604</td>\n",
              "      <td>0.4707</td>\n",
              "      <td>0.4733</td>\n",
              "      <td>162833</td>\n",
              "      <td>164107</td>\n",
              "      <td>0.4961</td>\n",
              "    </tr>\n",
              "    <tr>\n",
              "      <th>NYK</th>\n",
              "      <td>2524</td>\n",
              "      <td>2525</td>\n",
              "      <td>0.4806</td>\n",
              "      <td>0.4849</td>\n",
              "      <td>535672</td>\n",
              "      <td>538020</td>\n",
              "      <td>0.4978</td>\n",
              "    </tr>\n",
              "    <tr>\n",
              "      <th>OKC</th>\n",
              "      <td>2232</td>\n",
              "      <td>4196</td>\n",
              "      <td>0.5319</td>\n",
              "      <td>0.5297</td>\n",
              "      <td>442762</td>\n",
              "      <td>438854</td>\n",
              "      <td>0.5044</td>\n",
              "    </tr>\n",
              "    <tr>\n",
              "      <th>ORL</th>\n",
              "      <td>1248</td>\n",
              "      <td>2639</td>\n",
              "      <td>0.4729</td>\n",
              "      <td>0.4733</td>\n",
              "      <td>266933</td>\n",
              "      <td>269012</td>\n",
              "      <td>0.4961</td>\n",
              "    </tr>\n",
              "    <tr>\n",
              "      <th>PHI</th>\n",
              "      <td>2658</td>\n",
              "      <td>5190</td>\n",
              "      <td>0.5121</td>\n",
              "      <td>0.5053</td>\n",
              "      <td>539556</td>\n",
              "      <td>538683</td>\n",
              "      <td>0.5008</td>\n",
              "    </tr>\n",
              "    <tr>\n",
              "      <th>PHX</th>\n",
              "      <td>2231</td>\n",
              "      <td>4115</td>\n",
              "      <td>0.5422</td>\n",
              "      <td>0.5454</td>\n",
              "      <td>444019</td>\n",
              "      <td>438076</td>\n",
              "      <td>0.5067</td>\n",
              "    </tr>\n",
              "    <tr>\n",
              "      <th>POR</th>\n",
              "      <td>2123</td>\n",
              "      <td>3952</td>\n",
              "      <td>0.5372</td>\n",
              "      <td>0.5399</td>\n",
              "      <td>414827</td>\n",
              "      <td>409947</td>\n",
              "      <td>0.5059</td>\n",
              "    </tr>\n",
              "    <tr>\n",
              "      <th>SAC</th>\n",
              "      <td>2361</td>\n",
              "      <td>5230</td>\n",
              "      <td>0.4514</td>\n",
              "      <td>0.4489</td>\n",
              "      <td>546276</td>\n",
              "      <td>554560</td>\n",
              "      <td>0.4925</td>\n",
              "    </tr>\n",
              "    <tr>\n",
              "      <th>SAS</th>\n",
              "      <td>2181</td>\n",
              "      <td>3621</td>\n",
              "      <td>0.6023</td>\n",
              "      <td>0.6004</td>\n",
              "      <td>380542</td>\n",
              "      <td>369416</td>\n",
              "      <td>0.5148</td>\n",
              "    </tr>\n",
              "    <tr>\n",
              "      <th>TOR</th>\n",
              "      <td>1037</td>\n",
              "      <td>2146</td>\n",
              "      <td>0.4832</td>\n",
              "      <td>0.4937</td>\n",
              "      <td>216600</td>\n",
              "      <td>216982</td>\n",
              "      <td>0.4991</td>\n",
              "    </tr>\n",
              "    <tr>\n",
              "      <th>UTA</th>\n",
              "      <td>2030</td>\n",
              "      <td>3704</td>\n",
              "      <td>0.5481</td>\n",
              "      <td>0.5522</td>\n",
              "      <td>383725</td>\n",
              "      <td>377880</td>\n",
              "      <td>0.5077</td>\n",
              "    </tr>\n",
              "    <tr>\n",
              "      <th>WAS</th>\n",
              "      <td>2052</td>\n",
              "      <td>4516</td>\n",
              "      <td>0.4544</td>\n",
              "      <td>0.4543</td>\n",
              "      <td>471509</td>\n",
              "      <td>477840</td>\n",
              "      <td>0.4933</td>\n",
              "    </tr>\n",
              "  </tbody>\n",
              "</table>\n",
              "</div>\n",
              "    <div class=\"colab-df-buttons\">\n",
              "\n",
              "  <div class=\"colab-df-container\">\n",
              "    <button class=\"colab-df-convert\" onclick=\"convertToInteractive('df-698f978d-951f-42b4-8ffc-305a21f49e83')\"\n",
              "            title=\"Convert this dataframe to an interactive table.\"\n",
              "            style=\"display:none;\">\n",
              "\n",
              "  <svg xmlns=\"http://www.w3.org/2000/svg\" height=\"24px\" viewBox=\"0 -960 960 960\">\n",
              "    <path d=\"M120-120v-720h720v720H120Zm60-500h600v-160H180v160Zm220 220h160v-160H400v160Zm0 220h160v-160H400v160ZM180-400h160v-160H180v160Zm440 0h160v-160H620v160ZM180-180h160v-160H180v160Zm440 0h160v-160H620v160Z\"/>\n",
              "  </svg>\n",
              "    </button>\n",
              "\n",
              "  <style>\n",
              "    .colab-df-container {\n",
              "      display:flex;\n",
              "      gap: 12px;\n",
              "    }\n",
              "\n",
              "    .colab-df-convert {\n",
              "      background-color: #E8F0FE;\n",
              "      border: none;\n",
              "      border-radius: 50%;\n",
              "      cursor: pointer;\n",
              "      display: none;\n",
              "      fill: #1967D2;\n",
              "      height: 32px;\n",
              "      padding: 0 0 0 0;\n",
              "      width: 32px;\n",
              "    }\n",
              "\n",
              "    .colab-df-convert:hover {\n",
              "      background-color: #E2EBFA;\n",
              "      box-shadow: 0px 1px 2px rgba(60, 64, 67, 0.3), 0px 1px 3px 1px rgba(60, 64, 67, 0.15);\n",
              "      fill: #174EA6;\n",
              "    }\n",
              "\n",
              "    .colab-df-buttons div {\n",
              "      margin-bottom: 4px;\n",
              "    }\n",
              "\n",
              "    [theme=dark] .colab-df-convert {\n",
              "      background-color: #3B4455;\n",
              "      fill: #D2E3FC;\n",
              "    }\n",
              "\n",
              "    [theme=dark] .colab-df-convert:hover {\n",
              "      background-color: #434B5C;\n",
              "      box-shadow: 0px 1px 3px 1px rgba(0, 0, 0, 0.15);\n",
              "      filter: drop-shadow(0px 1px 2px rgba(0, 0, 0, 0.3));\n",
              "      fill: #FFFFFF;\n",
              "    }\n",
              "  </style>\n",
              "\n",
              "    <script>\n",
              "      const buttonEl =\n",
              "        document.querySelector('#df-698f978d-951f-42b4-8ffc-305a21f49e83 button.colab-df-convert');\n",
              "      buttonEl.style.display =\n",
              "        google.colab.kernel.accessAllowed ? 'block' : 'none';\n",
              "\n",
              "      async function convertToInteractive(key) {\n",
              "        const element = document.querySelector('#df-698f978d-951f-42b4-8ffc-305a21f49e83');\n",
              "        const dataTable =\n",
              "          await google.colab.kernel.invokeFunction('convertToInteractive',\n",
              "                                                    [key], {});\n",
              "        if (!dataTable) return;\n",
              "\n",
              "        const docLinkHtml = 'Like what you see? Visit the ' +\n",
              "          '<a target=\"_blank\" href=https://colab.research.google.com/notebooks/data_table.ipynb>data table notebook</a>'\n",
              "          + ' to learn more about interactive tables.';\n",
              "        element.innerHTML = '';\n",
              "        dataTable['output_type'] = 'display_data';\n",
              "        await google.colab.output.renderOutput(dataTable, element);\n",
              "        const docLink = document.createElement('div');\n",
              "        docLink.innerHTML = docLinkHtml;\n",
              "        element.appendChild(docLink);\n",
              "      }\n",
              "    </script>\n",
              "  </div>\n",
              "\n",
              "\n",
              "<div id=\"df-cf233965-2003-4426-af88-66af14b35f6b\">\n",
              "  <button class=\"colab-df-quickchart\" onclick=\"quickchart('df-cf233965-2003-4426-af88-66af14b35f6b')\"\n",
              "            title=\"Suggest charts\"\n",
              "            style=\"display:none;\">\n",
              "\n",
              "<svg xmlns=\"http://www.w3.org/2000/svg\" height=\"24px\"viewBox=\"0 0 24 24\"\n",
              "     width=\"24px\">\n",
              "    <g>\n",
              "        <path d=\"M19 3H5c-1.1 0-2 .9-2 2v14c0 1.1.9 2 2 2h14c1.1 0 2-.9 2-2V5c0-1.1-.9-2-2-2zM9 17H7v-7h2v7zm4 0h-2V7h2v10zm4 0h-2v-4h2v4z\"/>\n",
              "    </g>\n",
              "</svg>\n",
              "  </button>\n",
              "\n",
              "<style>\n",
              "  .colab-df-quickchart {\n",
              "      --bg-color: #E8F0FE;\n",
              "      --fill-color: #1967D2;\n",
              "      --hover-bg-color: #E2EBFA;\n",
              "      --hover-fill-color: #174EA6;\n",
              "      --disabled-fill-color: #AAA;\n",
              "      --disabled-bg-color: #DDD;\n",
              "  }\n",
              "\n",
              "  [theme=dark] .colab-df-quickchart {\n",
              "      --bg-color: #3B4455;\n",
              "      --fill-color: #D2E3FC;\n",
              "      --hover-bg-color: #434B5C;\n",
              "      --hover-fill-color: #FFFFFF;\n",
              "      --disabled-bg-color: #3B4455;\n",
              "      --disabled-fill-color: #666;\n",
              "  }\n",
              "\n",
              "  .colab-df-quickchart {\n",
              "    background-color: var(--bg-color);\n",
              "    border: none;\n",
              "    border-radius: 50%;\n",
              "    cursor: pointer;\n",
              "    display: none;\n",
              "    fill: var(--fill-color);\n",
              "    height: 32px;\n",
              "    padding: 0;\n",
              "    width: 32px;\n",
              "  }\n",
              "\n",
              "  .colab-df-quickchart:hover {\n",
              "    background-color: var(--hover-bg-color);\n",
              "    box-shadow: 0 1px 2px rgba(60, 64, 67, 0.3), 0 1px 3px 1px rgba(60, 64, 67, 0.15);\n",
              "    fill: var(--button-hover-fill-color);\n",
              "  }\n",
              "\n",
              "  .colab-df-quickchart-complete:disabled,\n",
              "  .colab-df-quickchart-complete:disabled:hover {\n",
              "    background-color: var(--disabled-bg-color);\n",
              "    fill: var(--disabled-fill-color);\n",
              "    box-shadow: none;\n",
              "  }\n",
              "\n",
              "  .colab-df-spinner {\n",
              "    border: 2px solid var(--fill-color);\n",
              "    border-color: transparent;\n",
              "    border-bottom-color: var(--fill-color);\n",
              "    animation:\n",
              "      spin 1s steps(1) infinite;\n",
              "  }\n",
              "\n",
              "  @keyframes spin {\n",
              "    0% {\n",
              "      border-color: transparent;\n",
              "      border-bottom-color: var(--fill-color);\n",
              "      border-left-color: var(--fill-color);\n",
              "    }\n",
              "    20% {\n",
              "      border-color: transparent;\n",
              "      border-left-color: var(--fill-color);\n",
              "      border-top-color: var(--fill-color);\n",
              "    }\n",
              "    30% {\n",
              "      border-color: transparent;\n",
              "      border-left-color: var(--fill-color);\n",
              "      border-top-color: var(--fill-color);\n",
              "      border-right-color: var(--fill-color);\n",
              "    }\n",
              "    40% {\n",
              "      border-color: transparent;\n",
              "      border-right-color: var(--fill-color);\n",
              "      border-top-color: var(--fill-color);\n",
              "    }\n",
              "    60% {\n",
              "      border-color: transparent;\n",
              "      border-right-color: var(--fill-color);\n",
              "    }\n",
              "    80% {\n",
              "      border-color: transparent;\n",
              "      border-right-color: var(--fill-color);\n",
              "      border-bottom-color: var(--fill-color);\n",
              "    }\n",
              "    90% {\n",
              "      border-color: transparent;\n",
              "      border-bottom-color: var(--fill-color);\n",
              "    }\n",
              "  }\n",
              "</style>\n",
              "\n",
              "  <script>\n",
              "    async function quickchart(key) {\n",
              "      const quickchartButtonEl =\n",
              "        document.querySelector('#' + key + ' button');\n",
              "      quickchartButtonEl.disabled = true;  // To prevent multiple clicks.\n",
              "      quickchartButtonEl.classList.add('colab-df-spinner');\n",
              "      try {\n",
              "        const charts = await google.colab.kernel.invokeFunction(\n",
              "            'suggestCharts', [key], {});\n",
              "      } catch (error) {\n",
              "        console.error('Error during call to suggestCharts:', error);\n",
              "      }\n",
              "      quickchartButtonEl.classList.remove('colab-df-spinner');\n",
              "      quickchartButtonEl.classList.add('colab-df-quickchart-complete');\n",
              "    }\n",
              "    (() => {\n",
              "      let quickchartButtonEl =\n",
              "        document.querySelector('#df-cf233965-2003-4426-af88-66af14b35f6b button');\n",
              "      quickchartButtonEl.style.display =\n",
              "        google.colab.kernel.accessAllowed ? 'block' : 'none';\n",
              "    })();\n",
              "  </script>\n",
              "</div>\n",
              "\n",
              "  <div id=\"id_c74127cb-1e57-438e-bb57-c38b491942e4\">\n",
              "    <style>\n",
              "      .colab-df-generate {\n",
              "        background-color: #E8F0FE;\n",
              "        border: none;\n",
              "        border-radius: 50%;\n",
              "        cursor: pointer;\n",
              "        display: none;\n",
              "        fill: #1967D2;\n",
              "        height: 32px;\n",
              "        padding: 0 0 0 0;\n",
              "        width: 32px;\n",
              "      }\n",
              "\n",
              "      .colab-df-generate:hover {\n",
              "        background-color: #E2EBFA;\n",
              "        box-shadow: 0px 1px 2px rgba(60, 64, 67, 0.3), 0px 1px 3px 1px rgba(60, 64, 67, 0.15);\n",
              "        fill: #174EA6;\n",
              "      }\n",
              "\n",
              "      [theme=dark] .colab-df-generate {\n",
              "        background-color: #3B4455;\n",
              "        fill: #D2E3FC;\n",
              "      }\n",
              "\n",
              "      [theme=dark] .colab-df-generate:hover {\n",
              "        background-color: #434B5C;\n",
              "        box-shadow: 0px 1px 3px 1px rgba(0, 0, 0, 0.15);\n",
              "        filter: drop-shadow(0px 1px 2px rgba(0, 0, 0, 0.3));\n",
              "        fill: #FFFFFF;\n",
              "      }\n",
              "    </style>\n",
              "    <button class=\"colab-df-generate\" onclick=\"generateWithVariable('pyth')\"\n",
              "            title=\"Generate code using this dataframe.\"\n",
              "            style=\"display:none;\">\n",
              "\n",
              "  <svg xmlns=\"http://www.w3.org/2000/svg\" height=\"24px\"viewBox=\"0 0 24 24\"\n",
              "       width=\"24px\">\n",
              "    <path d=\"M7,19H8.4L18.45,9,17,7.55,7,17.6ZM5,21V16.75L18.45,3.32a2,2,0,0,1,2.83,0l1.4,1.43a1.91,1.91,0,0,1,.58,1.4,1.91,1.91,0,0,1-.58,1.4L9.25,21ZM18.45,9,17,7.55Zm-12,3A5.31,5.31,0,0,0,4.9,8.1,5.31,5.31,0,0,0,1,6.5,5.31,5.31,0,0,0,4.9,4.9,5.31,5.31,0,0,0,6.5,1,5.31,5.31,0,0,0,8.1,4.9,5.31,5.31,0,0,0,12,6.5,5.46,5.46,0,0,0,6.5,12Z\"/>\n",
              "  </svg>\n",
              "    </button>\n",
              "    <script>\n",
              "      (() => {\n",
              "      const buttonEl =\n",
              "        document.querySelector('#id_c74127cb-1e57-438e-bb57-c38b491942e4 button.colab-df-generate');\n",
              "      buttonEl.style.display =\n",
              "        google.colab.kernel.accessAllowed ? 'block' : 'none';\n",
              "\n",
              "      buttonEl.onclick = () => {\n",
              "        google.colab.notebook.generateWithVariable('pyth');\n",
              "      }\n",
              "      })();\n",
              "    </script>\n",
              "  </div>\n",
              "\n",
              "    </div>\n",
              "  </div>\n"
            ],
            "application/vnd.google.colaboratory.intrinsic+json": {
              "type": "dataframe",
              "variable_name": "pyth",
              "summary": "{\n  \"name\": \"pyth\",\n  \"rows\": 30,\n  \"fields\": [\n    {\n      \"column\": \"team\",\n      \"properties\": {\n        \"dtype\": \"string\",\n        \"num_unique_values\": 30,\n        \"samples\": [\n          \"TOR\",\n          \"MIA\",\n          \"PHX\"\n        ],\n        \"semantic_type\": \"\",\n        \"description\": \"\"\n      }\n    },\n    {\n      \"column\": \"wins\",\n      \"properties\": {\n        \"dtype\": \"number\",\n        \"std\": 614,\n        \"min\": 755,\n        \"max\": 3105,\n        \"num_unique_values\": 30,\n        \"samples\": [\n          1037,\n          1409,\n          2231\n        ],\n        \"semantic_type\": \"\",\n        \"description\": \"\"\n      }\n    },\n    {\n      \"column\": \"games\",\n      \"properties\": {\n        \"dtype\": \"number\",\n        \"std\": 1068,\n        \"min\": 1604,\n        \"max\": 5256,\n        \"num_unique_values\": 27,\n        \"samples\": [\n          5225,\n          2147,\n          5247\n        ],\n        \"semantic_type\": \"\",\n        \"description\": \"\"\n      }\n    },\n    {\n      \"column\": \"win_perc\",\n      \"properties\": {\n        \"dtype\": \"number\",\n        \"std\": 0.05056858049553432,\n        \"min\": 0.403,\n        \"max\": 0.6023,\n        \"num_unique_values\": 30,\n        \"samples\": [\n          0.4832,\n          0.5178,\n          0.5422\n        ],\n        \"semantic_type\": \"\",\n        \"description\": \"\"\n      }\n    },\n    {\n      \"column\": \"prev_win_perc\",\n      \"properties\": {\n        \"dtype\": \"number\",\n        \"std\": 0.05014042132426404,\n        \"min\": 0.4074,\n        \"max\": 0.6004,\n        \"num_unique_values\": 29,\n        \"samples\": [\n          0.5522,\n          0.5406,\n          0.4074\n        ],\n        \"semantic_type\": \"\",\n        \"description\": \"\"\n      }\n    },\n    {\n      \"column\": \"pts_made\",\n      \"properties\": {\n        \"dtype\": \"number\",\n        \"std\": 114779,\n        \"min\": 162833,\n        \"max\": 556559,\n        \"num_unique_values\": 30,\n        \"samples\": [\n          216600,\n          269527,\n          444019\n        ],\n        \"semantic_type\": \"\",\n        \"description\": \"\"\n      }\n    },\n    {\n      \"column\": \"pts_allow\",\n      \"properties\": {\n        \"dtype\": \"number\",\n        \"std\": 113494,\n        \"min\": 164107,\n        \"max\": 559188,\n        \"num_unique_values\": 30,\n        \"samples\": [\n          216982,\n          268667,\n          438076\n        ],\n        \"semantic_type\": \"\",\n        \"description\": \"\"\n      }\n    },\n    {\n      \"column\": \"pyth_exp\",\n      \"properties\": {\n        \"dtype\": \"number\",\n        \"std\": 0.0073776892622673396,\n        \"min\": 0.4864,\n        \"max\": 0.5148,\n        \"num_unique_values\": 29,\n        \"samples\": [\n          0.5077,\n          0.506,\n          0.4864\n        ],\n        \"semantic_type\": \"\",\n        \"description\": \"\"\n      }\n    }\n  ]\n}"
            }
          },
          "metadata": {},
          "execution_count": 561
        }
      ]
    },
    {
      "cell_type": "markdown",
      "metadata": {
        "id": "Q4kGQDu_WBIu"
      },
      "source": [
        "#Segundo modo"
      ]
    },
    {
      "cell_type": "code",
      "execution_count": 562,
      "metadata": {
        "id": "fI7bnF-3Bof6",
        "colab": {
          "base_uri": "https://localhost:8080/"
        },
        "outputId": "edd9de56-1bf6-4320-beab-6b7a8c9daf6d"
      },
      "outputs": [
        {
          "output_type": "stream",
          "name": "stdout",
          "text": [
            "A soma dos quadrados dos erros é 0.001\n",
            "A soma dos quadrados dos pontos da regressão é 0.073\n",
            "A soma dos quadrados totais é 0.074\n"
          ]
        }
      ],
      "source": [
        "SQE=pyth_lm.ssr\n",
        "SQR=pyth_lm.ess\n",
        "SQT=SQE+SQR\n",
        "print(\"A soma dos quadrados dos erros é\", SQE.round(3))\n",
        "print(\"A soma dos quadrados dos pontos da regressão é\",SQR.round(3))\n",
        "print(\"A soma dos quadrados totais é\",SQT.round(3))"
      ]
    },
    {
      "cell_type": "code",
      "execution_count": 563,
      "metadata": {
        "id": "8-zwg76WYD9J",
        "colab": {
          "base_uri": "https://localhost:8080/"
        },
        "outputId": "cd395cd7-1f77-458c-9f08-181d631e6df1"
      },
      "outputs": [
        {
          "output_type": "stream",
          "name": "stdout",
          "text": [
            "O erro quadrático médio é 4.3977042679913256e-05\n"
          ]
        }
      ],
      "source": [
        "EQM=pyth_lm.mse_resid\n",
        "print(\"O erro quadrático médio é\",EQM)"
      ]
    },
    {
      "cell_type": "code",
      "execution_count": 564,
      "metadata": {
        "id": "4b2KCDX-BodA",
        "colab": {
          "base_uri": "https://localhost:8080/"
        },
        "outputId": "0a132168-8d4e-4b59-8dde-078cde89d0c1"
      },
      "outputs": [
        {
          "output_type": "stream",
          "name": "stdout",
          "text": [
            "O coeficiente de regressão do modelo é 0.983\n"
          ]
        }
      ],
      "source": [
        "R2=SQR/SQT\n",
        "print(\"O coeficiente de regressão do modelo é\",R2.round(3))"
      ]
    },
    {
      "cell_type": "markdown",
      "metadata": {
        "id": "JGtJLy0XWEe8"
      },
      "source": [
        "#Terceiro modo"
      ]
    },
    {
      "cell_type": "code",
      "execution_count": 565,
      "metadata": {
        "id": "j30TxKgpRQuz",
        "colab": {
          "base_uri": "https://localhost:8080/"
        },
        "outputId": "067115f8-09be-4e98-da5a-bfd42425d53a"
      },
      "outputs": [
        {
          "output_type": "execute_result",
          "data": {
            "text/plain": [
              "0.983"
            ]
          },
          "metadata": {},
          "execution_count": 565
        }
      ],
      "source": [
        "pyth_lm.rsquared.round(3)"
      ]
    },
    {
      "cell_type": "markdown",
      "source": [
        "# Teste de hipótese para a nulidade do coeficiente angular\n",
        "\n",
        "## $H_0: \\beta_2 = 0$\n",
        "## $H_1: \\beta_2 \\neq 0$\n",
        "# $$E(b_2) = \\beta_2$$"
      ],
      "metadata": {
        "id": "owCdYPuXEKRZ"
      }
    },
    {
      "cell_type": "markdown",
      "source": [
        "### $$s_{b_2} = \\frac{s}{\\sqrt{\\sum{(X_i - \\bar{X})^2}}}$$"
      ],
      "metadata": {
        "id": "7MjASX_1Fcqm"
      }
    },
    {
      "cell_type": "code",
      "source": [
        "s = np.sqrt(pyth_lm.mse_resid)\n",
        "s"
      ],
      "metadata": {
        "colab": {
          "base_uri": "https://localhost:8080/"
        },
        "id": "DYyTEN6HDDwD",
        "outputId": "dcb3a470-ea52-473c-9eea-b364e142e7bf"
      },
      "execution_count": 566,
      "outputs": [
        {
          "output_type": "execute_result",
          "data": {
            "text/plain": [
              "0.006631518881818347"
            ]
          },
          "metadata": {},
          "execution_count": 566
        }
      ]
    },
    {
      "cell_type": "code",
      "source": [
        "SOMA_DESVIO2 = pyth.pyth_exp.apply(lambda x: (x - pyth.pyth_exp.mean())**2).sum()\n",
        "SOMA_DESVIO2"
      ],
      "metadata": {
        "colab": {
          "base_uri": "https://localhost:8080/"
        },
        "id": "cLQUuRn2DN37",
        "outputId": "4206de1a-5ef5-4fe4-b5a1-ae2df45a64c3"
      },
      "execution_count": 567,
      "outputs": [
        {
          "output_type": "execute_result",
          "data": {
            "text/plain": [
              "0.0015784786666666693"
            ]
          },
          "metadata": {},
          "execution_count": 567
        }
      ]
    },
    {
      "cell_type": "code",
      "source": [
        "s_beta_2 = s / np.sqrt(SOMA_DESVIO2)\n",
        "s_beta_2"
      ],
      "metadata": {
        "colab": {
          "base_uri": "https://localhost:8080/"
        },
        "id": "IZZLg-GEDXAa",
        "outputId": "c06950a7-0879-41bd-e0a0-abaf891a8b09"
      },
      "execution_count": 568,
      "outputs": [
        {
          "output_type": "execute_result",
          "data": {
            "text/plain": [
              "0.16691434100984504"
            ]
          },
          "metadata": {},
          "execution_count": 568
        }
      ]
    },
    {
      "cell_type": "markdown",
      "source": [
        "### Áreas de aceitação e rejeição de $H_0$"
      ],
      "metadata": {
        "id": "4V6dL32MFyNv"
      }
    },
    {
      "cell_type": "code",
      "source": [
        "from scipy.stats import t as t_student"
      ],
      "metadata": {
        "id": "1TFUXBlpDaqq"
      },
      "execution_count": 569,
      "outputs": []
    },
    {
      "cell_type": "code",
      "source": [
        "graus_de_liberdade = pyth_lm.df_resid\n",
        "graus_de_liberdade"
      ],
      "metadata": {
        "colab": {
          "base_uri": "https://localhost:8080/"
        },
        "id": "BBA4SDsBDcw4",
        "outputId": "f7c608c4-1975-4bda-8f65-0131bfb0b82d"
      },
      "execution_count": 570,
      "outputs": [
        {
          "output_type": "execute_result",
          "data": {
            "text/plain": [
              "28.0"
            ]
          },
          "metadata": {},
          "execution_count": 570
        }
      ]
    },
    {
      "cell_type": "code",
      "source": [
        "significancia=0.05\n",
        "confiança=1-significancia\n",
        "probabilidade = (0.5 + (0.95 / 2))\n",
        "probabilidade"
      ],
      "metadata": {
        "colab": {
          "base_uri": "https://localhost:8080/"
        },
        "id": "S2mVp5EFDe8z",
        "outputId": "abdf4c4a-00ad-4d5a-883f-0638cad52647"
      },
      "execution_count": 571,
      "outputs": [
        {
          "output_type": "execute_result",
          "data": {
            "text/plain": [
              "0.975"
            ]
          },
          "metadata": {},
          "execution_count": 571
        }
      ]
    },
    {
      "cell_type": "markdown",
      "source": [
        "![Região de Aceitação](https://caelum-online-public.s3.amazonaws.com/1273-estatistica-parte4/01/img031.png)"
      ],
      "metadata": {
        "id": "Mt1gTfEGF_8h"
      }
    },
    {
      "cell_type": "code",
      "source": [
        "t_alpha_2 = t_student.ppf(probabilidade, graus_de_liberdade)\n",
        "t_alpha_2"
      ],
      "metadata": {
        "colab": {
          "base_uri": "https://localhost:8080/"
        },
        "id": "YtEESLp-Difi",
        "outputId": "ef500954-b18d-4b05-bbfe-ea62c99b076d"
      },
      "execution_count": 572,
      "outputs": [
        {
          "output_type": "execute_result",
          "data": {
            "text/plain": [
              "2.048407141795244"
            ]
          },
          "metadata": {},
          "execution_count": 572
        }
      ]
    },
    {
      "cell_type": "markdown",
      "source": [
        "### $$t = \\frac{b_2 - \\beta_2}{s_{b_2}}$$"
      ],
      "metadata": {
        "id": "jFVtp6cgE_MX"
      }
    },
    {
      "cell_type": "code",
      "source": [
        "t = (beta_2 - 0) / s_beta_2\n",
        "t"
      ],
      "metadata": {
        "colab": {
          "base_uri": "https://localhost:8080/"
        },
        "id": "SyuR35g3DuGJ",
        "outputId": "8ff78132-029c-4820-a946-054d237406e9"
      },
      "execution_count": 573,
      "outputs": [
        {
          "output_type": "execute_result",
          "data": {
            "text/plain": [
              "40.72216603124802"
            ]
          },
          "metadata": {},
          "execution_count": 573
        }
      ]
    },
    {
      "cell_type": "markdown",
      "source": [
        "### Critério do valor crítico\n",
        "\n",
        "> ### Teste Bicaudal\n",
        "> ### <font color='lightgreen'>Rejeitar $H_0$ se $t \\leq -t_{\\alpha / 2}$ ou se $t \\geq t_{\\alpha / 2}$</font>"
      ],
      "metadata": {
        "id": "JeWK7XyaGW9s"
      }
    },
    {
      "cell_type": "code",
      "source": [
        "t <= -t_alpha_2"
      ],
      "metadata": {
        "colab": {
          "base_uri": "https://localhost:8080/"
        },
        "id": "oy28u5TUDy48",
        "outputId": "49f22159-bfd3-470b-a6d2-67e5eab53995"
      },
      "execution_count": 574,
      "outputs": [
        {
          "output_type": "execute_result",
          "data": {
            "text/plain": [
              "False"
            ]
          },
          "metadata": {},
          "execution_count": 574
        }
      ]
    },
    {
      "cell_type": "code",
      "source": [
        "t >= t_alpha_2"
      ],
      "metadata": {
        "colab": {
          "base_uri": "https://localhost:8080/"
        },
        "id": "4eeJsjQ3DzTB",
        "outputId": "8f115624-62eb-4401-8373-13df43481a27"
      },
      "execution_count": 575,
      "outputs": [
        {
          "output_type": "execute_result",
          "data": {
            "text/plain": [
              "True"
            ]
          },
          "metadata": {},
          "execution_count": 575
        }
      ]
    },
    {
      "cell_type": "markdown",
      "source": [
        "### Critério do p-valor\n",
        "\n",
        "> ### Teste Bicaudal\n",
        "> ### <font color='lightyellow'>Rejeitar $H_0$ se $p-valor\\leq\\alpha$</font>"
      ],
      "metadata": {
        "id": "vALr83M9GhHL"
      }
    },
    {
      "cell_type": "code",
      "source": [
        "p_valor = 2 * (t_student.sf(t, graus_de_liberdade))\n",
        "p_valor"
      ],
      "metadata": {
        "colab": {
          "base_uri": "https://localhost:8080/"
        },
        "id": "N5UA9MGFD3yP",
        "outputId": "a474d779-2438-41a2-b8ef-3ea73424370f"
      },
      "execution_count": 576,
      "outputs": [
        {
          "output_type": "execute_result",
          "data": {
            "text/plain": [
              "1.823977221052551e-26"
            ]
          },
          "metadata": {},
          "execution_count": 576
        }
      ]
    },
    {
      "cell_type": "code",
      "source": [
        "p_valor <= significancia"
      ],
      "metadata": {
        "colab": {
          "base_uri": "https://localhost:8080/"
        },
        "id": "CR4ucdobGrRa",
        "outputId": "6de149a0-49b2-4173-b292-0aadc68e5949"
      },
      "execution_count": 577,
      "outputs": [
        {
          "output_type": "execute_result",
          "data": {
            "text/plain": [
              "True"
            ]
          },
          "metadata": {},
          "execution_count": 577
        }
      ]
    },
    {
      "cell_type": "markdown",
      "source": [
        "### <font color='lightblue'>Rejeito $H_0$, logo existe uma relação significativa entre as duas variáveis.</font>"
      ],
      "metadata": {
        "id": "87E1o5AtGu3z"
      }
    },
    {
      "cell_type": "markdown",
      "source": [
        "#Teste F\n",
        "\n",
        "## $H_0: \\beta_2 = 0$\n",
        "## $H_0: \\beta_2 \\neq 0$"
      ],
      "metadata": {
        "id": "cIz2noRwHu-p"
      }
    },
    {
      "cell_type": "markdown",
      "source": [
        "### $$F = \\frac{\\frac{SQR}{k}}{\\frac{SQE}{n-k-1}}$$"
      ],
      "metadata": {
        "id": "g_Og6aMoH66X"
      }
    },
    {
      "cell_type": "code",
      "source": [
        "pyth_lm.fvalue"
      ],
      "metadata": {
        "colab": {
          "base_uri": "https://localhost:8080/"
        },
        "id": "ruRh9XjcHxJY",
        "outputId": "1ca9d49f-04e7-40e9-a69a-89831940ed3c"
      },
      "execution_count": 578,
      "outputs": [
        {
          "output_type": "execute_result",
          "data": {
            "text/plain": [
              "1658.2948062794328"
            ]
          },
          "metadata": {},
          "execution_count": 578
        }
      ]
    },
    {
      "cell_type": "markdown",
      "source": [
        "### Teste do p-valor"
      ],
      "metadata": {
        "id": "D8OaFzD3Lngl"
      }
    },
    {
      "cell_type": "code",
      "source": [
        "pyth_lm.f_pvalue"
      ],
      "metadata": {
        "colab": {
          "base_uri": "https://localhost:8080/"
        },
        "id": "yiiSgz1dIDFh",
        "outputId": "f5ed4dcb-983e-460a-d230-a0a01405cdf4"
      },
      "execution_count": 579,
      "outputs": [
        {
          "output_type": "execute_result",
          "data": {
            "text/plain": [
              "1.8239772210085797e-26"
            ]
          },
          "metadata": {},
          "execution_count": 579
        }
      ]
    },
    {
      "cell_type": "code",
      "source": [
        "p_valor <= 0.05"
      ],
      "metadata": {
        "colab": {
          "base_uri": "https://localhost:8080/"
        },
        "id": "OChPD8njINPf",
        "outputId": "0d756bf2-65c1-4bf7-d442-b34f442b054c"
      },
      "execution_count": 580,
      "outputs": [
        {
          "output_type": "execute_result",
          "data": {
            "text/plain": [
              "True"
            ]
          },
          "metadata": {},
          "execution_count": 580
        }
      ]
    },
    {
      "cell_type": "markdown",
      "source": [
        "### <font color='lightblue'>Rejeito $H_0$, logo $\\beta_2 \\neq 0$.</font>"
      ],
      "metadata": {
        "id": "nterYtDvLn8r"
      }
    },
    {
      "cell_type": "markdown",
      "source": [
        "# Resíduos"
      ],
      "metadata": {
        "id": "HBSuGwvNI6tG"
      }
    },
    {
      "cell_type": "code",
      "source": [
        "pyth['residue'] = (pyth_lm.resid).round(4)\n",
        "pyth.head()"
      ],
      "metadata": {
        "colab": {
          "base_uri": "https://localhost:8080/",
          "height": 238
        },
        "id": "H259hr1lI5qx",
        "outputId": "6cf0c425-bfa9-4f38-91da-f7d1954eba39"
      },
      "execution_count": 581,
      "outputs": [
        {
          "output_type": "execute_result",
          "data": {
            "text/plain": [
              "      wins  games  win_perc  prev_win_perc  pts_made  pts_allow  pyth_exp  \\\n",
              "team                                                                        \n",
              "ATL   2583   5189    0.4978         0.4917    531868     533111    0.4988   \n",
              "BKN   1551   3622    0.4282         0.4278    369031     376958    0.4894   \n",
              "BOS   3105   5256    0.5908         0.5916    554328     539600    0.5135   \n",
              "CHA   1132   2549    0.4441         0.4346    256910     261911    0.4904   \n",
              "CHI   2147   4189    0.5125         0.5114    429550     428070    0.5017   \n",
              "\n",
              "      residue  \n",
              "team           \n",
              "ATL    0.0061  \n",
              "BKN    0.0004  \n",
              "BOS   -0.0008  \n",
              "CHA    0.0095  \n",
              "CHI    0.0011  "
            ],
            "text/html": [
              "\n",
              "  <div id=\"df-1cf4b7b4-c072-4eda-b924-c115c687bb23\" class=\"colab-df-container\">\n",
              "    <div>\n",
              "<style scoped>\n",
              "    .dataframe tbody tr th:only-of-type {\n",
              "        vertical-align: middle;\n",
              "    }\n",
              "\n",
              "    .dataframe tbody tr th {\n",
              "        vertical-align: top;\n",
              "    }\n",
              "\n",
              "    .dataframe thead th {\n",
              "        text-align: right;\n",
              "    }\n",
              "</style>\n",
              "<table border=\"1\" class=\"dataframe\">\n",
              "  <thead>\n",
              "    <tr style=\"text-align: right;\">\n",
              "      <th></th>\n",
              "      <th>wins</th>\n",
              "      <th>games</th>\n",
              "      <th>win_perc</th>\n",
              "      <th>prev_win_perc</th>\n",
              "      <th>pts_made</th>\n",
              "      <th>pts_allow</th>\n",
              "      <th>pyth_exp</th>\n",
              "      <th>residue</th>\n",
              "    </tr>\n",
              "    <tr>\n",
              "      <th>team</th>\n",
              "      <th></th>\n",
              "      <th></th>\n",
              "      <th></th>\n",
              "      <th></th>\n",
              "      <th></th>\n",
              "      <th></th>\n",
              "      <th></th>\n",
              "      <th></th>\n",
              "    </tr>\n",
              "  </thead>\n",
              "  <tbody>\n",
              "    <tr>\n",
              "      <th>ATL</th>\n",
              "      <td>2583</td>\n",
              "      <td>5189</td>\n",
              "      <td>0.4978</td>\n",
              "      <td>0.4917</td>\n",
              "      <td>531868</td>\n",
              "      <td>533111</td>\n",
              "      <td>0.4988</td>\n",
              "      <td>0.0061</td>\n",
              "    </tr>\n",
              "    <tr>\n",
              "      <th>BKN</th>\n",
              "      <td>1551</td>\n",
              "      <td>3622</td>\n",
              "      <td>0.4282</td>\n",
              "      <td>0.4278</td>\n",
              "      <td>369031</td>\n",
              "      <td>376958</td>\n",
              "      <td>0.4894</td>\n",
              "      <td>0.0004</td>\n",
              "    </tr>\n",
              "    <tr>\n",
              "      <th>BOS</th>\n",
              "      <td>3105</td>\n",
              "      <td>5256</td>\n",
              "      <td>0.5908</td>\n",
              "      <td>0.5916</td>\n",
              "      <td>554328</td>\n",
              "      <td>539600</td>\n",
              "      <td>0.5135</td>\n",
              "      <td>-0.0008</td>\n",
              "    </tr>\n",
              "    <tr>\n",
              "      <th>CHA</th>\n",
              "      <td>1132</td>\n",
              "      <td>2549</td>\n",
              "      <td>0.4441</td>\n",
              "      <td>0.4346</td>\n",
              "      <td>256910</td>\n",
              "      <td>261911</td>\n",
              "      <td>0.4904</td>\n",
              "      <td>0.0095</td>\n",
              "    </tr>\n",
              "    <tr>\n",
              "      <th>CHI</th>\n",
              "      <td>2147</td>\n",
              "      <td>4189</td>\n",
              "      <td>0.5125</td>\n",
              "      <td>0.5114</td>\n",
              "      <td>429550</td>\n",
              "      <td>428070</td>\n",
              "      <td>0.5017</td>\n",
              "      <td>0.0011</td>\n",
              "    </tr>\n",
              "  </tbody>\n",
              "</table>\n",
              "</div>\n",
              "    <div class=\"colab-df-buttons\">\n",
              "\n",
              "  <div class=\"colab-df-container\">\n",
              "    <button class=\"colab-df-convert\" onclick=\"convertToInteractive('df-1cf4b7b4-c072-4eda-b924-c115c687bb23')\"\n",
              "            title=\"Convert this dataframe to an interactive table.\"\n",
              "            style=\"display:none;\">\n",
              "\n",
              "  <svg xmlns=\"http://www.w3.org/2000/svg\" height=\"24px\" viewBox=\"0 -960 960 960\">\n",
              "    <path d=\"M120-120v-720h720v720H120Zm60-500h600v-160H180v160Zm220 220h160v-160H400v160Zm0 220h160v-160H400v160ZM180-400h160v-160H180v160Zm440 0h160v-160H620v160ZM180-180h160v-160H180v160Zm440 0h160v-160H620v160Z\"/>\n",
              "  </svg>\n",
              "    </button>\n",
              "\n",
              "  <style>\n",
              "    .colab-df-container {\n",
              "      display:flex;\n",
              "      gap: 12px;\n",
              "    }\n",
              "\n",
              "    .colab-df-convert {\n",
              "      background-color: #E8F0FE;\n",
              "      border: none;\n",
              "      border-radius: 50%;\n",
              "      cursor: pointer;\n",
              "      display: none;\n",
              "      fill: #1967D2;\n",
              "      height: 32px;\n",
              "      padding: 0 0 0 0;\n",
              "      width: 32px;\n",
              "    }\n",
              "\n",
              "    .colab-df-convert:hover {\n",
              "      background-color: #E2EBFA;\n",
              "      box-shadow: 0px 1px 2px rgba(60, 64, 67, 0.3), 0px 1px 3px 1px rgba(60, 64, 67, 0.15);\n",
              "      fill: #174EA6;\n",
              "    }\n",
              "\n",
              "    .colab-df-buttons div {\n",
              "      margin-bottom: 4px;\n",
              "    }\n",
              "\n",
              "    [theme=dark] .colab-df-convert {\n",
              "      background-color: #3B4455;\n",
              "      fill: #D2E3FC;\n",
              "    }\n",
              "\n",
              "    [theme=dark] .colab-df-convert:hover {\n",
              "      background-color: #434B5C;\n",
              "      box-shadow: 0px 1px 3px 1px rgba(0, 0, 0, 0.15);\n",
              "      filter: drop-shadow(0px 1px 2px rgba(0, 0, 0, 0.3));\n",
              "      fill: #FFFFFF;\n",
              "    }\n",
              "  </style>\n",
              "\n",
              "    <script>\n",
              "      const buttonEl =\n",
              "        document.querySelector('#df-1cf4b7b4-c072-4eda-b924-c115c687bb23 button.colab-df-convert');\n",
              "      buttonEl.style.display =\n",
              "        google.colab.kernel.accessAllowed ? 'block' : 'none';\n",
              "\n",
              "      async function convertToInteractive(key) {\n",
              "        const element = document.querySelector('#df-1cf4b7b4-c072-4eda-b924-c115c687bb23');\n",
              "        const dataTable =\n",
              "          await google.colab.kernel.invokeFunction('convertToInteractive',\n",
              "                                                    [key], {});\n",
              "        if (!dataTable) return;\n",
              "\n",
              "        const docLinkHtml = 'Like what you see? Visit the ' +\n",
              "          '<a target=\"_blank\" href=https://colab.research.google.com/notebooks/data_table.ipynb>data table notebook</a>'\n",
              "          + ' to learn more about interactive tables.';\n",
              "        element.innerHTML = '';\n",
              "        dataTable['output_type'] = 'display_data';\n",
              "        await google.colab.output.renderOutput(dataTable, element);\n",
              "        const docLink = document.createElement('div');\n",
              "        docLink.innerHTML = docLinkHtml;\n",
              "        element.appendChild(docLink);\n",
              "      }\n",
              "    </script>\n",
              "  </div>\n",
              "\n",
              "\n",
              "<div id=\"df-f9af1816-7d12-44ce-8c29-be0c9f6f5d66\">\n",
              "  <button class=\"colab-df-quickchart\" onclick=\"quickchart('df-f9af1816-7d12-44ce-8c29-be0c9f6f5d66')\"\n",
              "            title=\"Suggest charts\"\n",
              "            style=\"display:none;\">\n",
              "\n",
              "<svg xmlns=\"http://www.w3.org/2000/svg\" height=\"24px\"viewBox=\"0 0 24 24\"\n",
              "     width=\"24px\">\n",
              "    <g>\n",
              "        <path d=\"M19 3H5c-1.1 0-2 .9-2 2v14c0 1.1.9 2 2 2h14c1.1 0 2-.9 2-2V5c0-1.1-.9-2-2-2zM9 17H7v-7h2v7zm4 0h-2V7h2v10zm4 0h-2v-4h2v4z\"/>\n",
              "    </g>\n",
              "</svg>\n",
              "  </button>\n",
              "\n",
              "<style>\n",
              "  .colab-df-quickchart {\n",
              "      --bg-color: #E8F0FE;\n",
              "      --fill-color: #1967D2;\n",
              "      --hover-bg-color: #E2EBFA;\n",
              "      --hover-fill-color: #174EA6;\n",
              "      --disabled-fill-color: #AAA;\n",
              "      --disabled-bg-color: #DDD;\n",
              "  }\n",
              "\n",
              "  [theme=dark] .colab-df-quickchart {\n",
              "      --bg-color: #3B4455;\n",
              "      --fill-color: #D2E3FC;\n",
              "      --hover-bg-color: #434B5C;\n",
              "      --hover-fill-color: #FFFFFF;\n",
              "      --disabled-bg-color: #3B4455;\n",
              "      --disabled-fill-color: #666;\n",
              "  }\n",
              "\n",
              "  .colab-df-quickchart {\n",
              "    background-color: var(--bg-color);\n",
              "    border: none;\n",
              "    border-radius: 50%;\n",
              "    cursor: pointer;\n",
              "    display: none;\n",
              "    fill: var(--fill-color);\n",
              "    height: 32px;\n",
              "    padding: 0;\n",
              "    width: 32px;\n",
              "  }\n",
              "\n",
              "  .colab-df-quickchart:hover {\n",
              "    background-color: var(--hover-bg-color);\n",
              "    box-shadow: 0 1px 2px rgba(60, 64, 67, 0.3), 0 1px 3px 1px rgba(60, 64, 67, 0.15);\n",
              "    fill: var(--button-hover-fill-color);\n",
              "  }\n",
              "\n",
              "  .colab-df-quickchart-complete:disabled,\n",
              "  .colab-df-quickchart-complete:disabled:hover {\n",
              "    background-color: var(--disabled-bg-color);\n",
              "    fill: var(--disabled-fill-color);\n",
              "    box-shadow: none;\n",
              "  }\n",
              "\n",
              "  .colab-df-spinner {\n",
              "    border: 2px solid var(--fill-color);\n",
              "    border-color: transparent;\n",
              "    border-bottom-color: var(--fill-color);\n",
              "    animation:\n",
              "      spin 1s steps(1) infinite;\n",
              "  }\n",
              "\n",
              "  @keyframes spin {\n",
              "    0% {\n",
              "      border-color: transparent;\n",
              "      border-bottom-color: var(--fill-color);\n",
              "      border-left-color: var(--fill-color);\n",
              "    }\n",
              "    20% {\n",
              "      border-color: transparent;\n",
              "      border-left-color: var(--fill-color);\n",
              "      border-top-color: var(--fill-color);\n",
              "    }\n",
              "    30% {\n",
              "      border-color: transparent;\n",
              "      border-left-color: var(--fill-color);\n",
              "      border-top-color: var(--fill-color);\n",
              "      border-right-color: var(--fill-color);\n",
              "    }\n",
              "    40% {\n",
              "      border-color: transparent;\n",
              "      border-right-color: var(--fill-color);\n",
              "      border-top-color: var(--fill-color);\n",
              "    }\n",
              "    60% {\n",
              "      border-color: transparent;\n",
              "      border-right-color: var(--fill-color);\n",
              "    }\n",
              "    80% {\n",
              "      border-color: transparent;\n",
              "      border-right-color: var(--fill-color);\n",
              "      border-bottom-color: var(--fill-color);\n",
              "    }\n",
              "    90% {\n",
              "      border-color: transparent;\n",
              "      border-bottom-color: var(--fill-color);\n",
              "    }\n",
              "  }\n",
              "</style>\n",
              "\n",
              "  <script>\n",
              "    async function quickchart(key) {\n",
              "      const quickchartButtonEl =\n",
              "        document.querySelector('#' + key + ' button');\n",
              "      quickchartButtonEl.disabled = true;  // To prevent multiple clicks.\n",
              "      quickchartButtonEl.classList.add('colab-df-spinner');\n",
              "      try {\n",
              "        const charts = await google.colab.kernel.invokeFunction(\n",
              "            'suggestCharts', [key], {});\n",
              "      } catch (error) {\n",
              "        console.error('Error during call to suggestCharts:', error);\n",
              "      }\n",
              "      quickchartButtonEl.classList.remove('colab-df-spinner');\n",
              "      quickchartButtonEl.classList.add('colab-df-quickchart-complete');\n",
              "    }\n",
              "    (() => {\n",
              "      let quickchartButtonEl =\n",
              "        document.querySelector('#df-f9af1816-7d12-44ce-8c29-be0c9f6f5d66 button');\n",
              "      quickchartButtonEl.style.display =\n",
              "        google.colab.kernel.accessAllowed ? 'block' : 'none';\n",
              "    })();\n",
              "  </script>\n",
              "</div>\n",
              "\n",
              "    </div>\n",
              "  </div>\n"
            ],
            "application/vnd.google.colaboratory.intrinsic+json": {
              "type": "dataframe",
              "variable_name": "pyth",
              "summary": "{\n  \"name\": \"pyth\",\n  \"rows\": 30,\n  \"fields\": [\n    {\n      \"column\": \"team\",\n      \"properties\": {\n        \"dtype\": \"string\",\n        \"num_unique_values\": 30,\n        \"samples\": [\n          \"TOR\",\n          \"MIA\",\n          \"PHX\"\n        ],\n        \"semantic_type\": \"\",\n        \"description\": \"\"\n      }\n    },\n    {\n      \"column\": \"wins\",\n      \"properties\": {\n        \"dtype\": \"number\",\n        \"std\": 614,\n        \"min\": 755,\n        \"max\": 3105,\n        \"num_unique_values\": 30,\n        \"samples\": [\n          1037,\n          1409,\n          2231\n        ],\n        \"semantic_type\": \"\",\n        \"description\": \"\"\n      }\n    },\n    {\n      \"column\": \"games\",\n      \"properties\": {\n        \"dtype\": \"number\",\n        \"std\": 1068,\n        \"min\": 1604,\n        \"max\": 5256,\n        \"num_unique_values\": 27,\n        \"samples\": [\n          5225,\n          2147,\n          5247\n        ],\n        \"semantic_type\": \"\",\n        \"description\": \"\"\n      }\n    },\n    {\n      \"column\": \"win_perc\",\n      \"properties\": {\n        \"dtype\": \"number\",\n        \"std\": 0.05056858049553432,\n        \"min\": 0.403,\n        \"max\": 0.6023,\n        \"num_unique_values\": 30,\n        \"samples\": [\n          0.4832,\n          0.5178,\n          0.5422\n        ],\n        \"semantic_type\": \"\",\n        \"description\": \"\"\n      }\n    },\n    {\n      \"column\": \"prev_win_perc\",\n      \"properties\": {\n        \"dtype\": \"number\",\n        \"std\": 0.05014042132426404,\n        \"min\": 0.4074,\n        \"max\": 0.6004,\n        \"num_unique_values\": 29,\n        \"samples\": [\n          0.5522,\n          0.5406,\n          0.4074\n        ],\n        \"semantic_type\": \"\",\n        \"description\": \"\"\n      }\n    },\n    {\n      \"column\": \"pts_made\",\n      \"properties\": {\n        \"dtype\": \"number\",\n        \"std\": 114779,\n        \"min\": 162833,\n        \"max\": 556559,\n        \"num_unique_values\": 30,\n        \"samples\": [\n          216600,\n          269527,\n          444019\n        ],\n        \"semantic_type\": \"\",\n        \"description\": \"\"\n      }\n    },\n    {\n      \"column\": \"pts_allow\",\n      \"properties\": {\n        \"dtype\": \"number\",\n        \"std\": 113494,\n        \"min\": 164107,\n        \"max\": 559188,\n        \"num_unique_values\": 30,\n        \"samples\": [\n          216982,\n          268667,\n          438076\n        ],\n        \"semantic_type\": \"\",\n        \"description\": \"\"\n      }\n    },\n    {\n      \"column\": \"pyth_exp\",\n      \"properties\": {\n        \"dtype\": \"number\",\n        \"std\": 0.0073776892622673396,\n        \"min\": 0.4864,\n        \"max\": 0.5148,\n        \"num_unique_values\": 29,\n        \"samples\": [\n          0.5077,\n          0.506,\n          0.4864\n        ],\n        \"semantic_type\": \"\",\n        \"description\": \"\"\n      }\n    },\n    {\n      \"column\": \"residue\",\n      \"properties\": {\n        \"dtype\": \"number\",\n        \"std\": 0.006517905488270215,\n        \"min\": -0.0146,\n        \"max\": 0.0124,\n        \"num_unique_values\": 30,\n        \"samples\": [\n          -0.0105,\n          0.0071,\n          -0.0032\n        ],\n        \"semantic_type\": \"\",\n        \"description\": \"\"\n      }\n    }\n  ]\n}"
            }
          },
          "metadata": {},
          "execution_count": 581
        }
      ]
    },
    {
      "cell_type": "code",
      "source": [
        "pyth.residue.mean()"
      ],
      "metadata": {
        "colab": {
          "base_uri": "https://localhost:8080/"
        },
        "id": "e2q9Gn0FJKjq",
        "outputId": "9e4b42c7-5da6-428a-c678-7a0d70118998"
      },
      "execution_count": 582,
      "outputs": [
        {
          "output_type": "execute_result",
          "data": {
            "text/plain": [
              "-3.333333333333264e-06"
            ]
          },
          "metadata": {},
          "execution_count": 582
        }
      ]
    },
    {
      "cell_type": "markdown",
      "source": [
        "## Normalidade dos resíduos: Omnibus\n",
        "> ### $H_0:$ Os dados se distribuem como uma normal"
      ],
      "metadata": {
        "id": "KXRerjsTJW_O"
      }
    },
    {
      "cell_type": "code",
      "source": [
        "from scipy.stats import normaltest\n",
        "statistic,p_valor=normaltest(pyth.residue)"
      ],
      "metadata": {
        "id": "MYcE6ezOJW0o"
      },
      "execution_count": 583,
      "outputs": []
    },
    {
      "cell_type": "code",
      "source": [
        "p_valor<=0.05"
      ],
      "metadata": {
        "colab": {
          "base_uri": "https://localhost:8080/"
        },
        "id": "rB2cHFBFJWxP",
        "outputId": "a1612ed3-7ad5-4d64-b283-a6c3c10ca721"
      },
      "execution_count": 584,
      "outputs": [
        {
          "output_type": "execute_result",
          "data": {
            "text/plain": [
              "False"
            ]
          },
          "metadata": {},
          "execution_count": 584
        }
      ]
    },
    {
      "cell_type": "markdown",
      "source": [
        "### <font color='red'>Rejeito $H_0$, logo os dados não se distribuem como uma normal.</font>"
      ],
      "metadata": {
        "id": "pOqmaWyjKrOF"
      }
    },
    {
      "cell_type": "markdown",
      "source": [
        "### DIstribuição dos resíduos"
      ],
      "metadata": {
        "id": "cVnIeRYeLWaj"
      }
    },
    {
      "cell_type": "code",
      "source": [
        "from scipy.stats import probplot\n",
        "import matplotlib.pyplot as plt"
      ],
      "metadata": {
        "id": "LliNK7dXJWsO"
      },
      "execution_count": 585,
      "outputs": []
    },
    {
      "cell_type": "code",
      "source": [
        "(_,(_,_,_))=probplot(pyth.residue,plot=plt)"
      ],
      "metadata": {
        "colab": {
          "base_uri": "https://localhost:8080/",
          "height": 472
        },
        "id": "g0h6bSICJysn",
        "outputId": "b698c011-588b-418d-b8e6-c05e211bb0ac"
      },
      "execution_count": 586,
      "outputs": [
        {
          "output_type": "display_data",
          "data": {
            "text/plain": [
              "<Figure size 640x480 with 1 Axes>"
            ],
            "image/png": "[encoded data removed]"
          },
          "metadata": {}
        }
      ]
    },
    {
      "cell_type": "markdown",
      "source": [
        "Os dados/pontos não estão alinhados à reta, logo não se distribuem como uma normal."
      ],
      "metadata": {
        "id": "JLBu-eZIzOGL"
      }
    },
    {
      "cell_type": "markdown",
      "source": [
        "## Normalidade dos resíduos: Jarque-Bera"
      ],
      "metadata": {
        "id": "OZAlBL8mKMUG"
      }
    },
    {
      "cell_type": "markdown",
      "source": [
        "### Simetria"
      ],
      "metadata": {
        "id": "L82sC-OWIsTu"
      }
    },
    {
      "cell_type": "code",
      "source": [
        "from scipy.stats import skew\n",
        "S=skew(pyth.residue)\n",
        "S"
      ],
      "metadata": {
        "colab": {
          "base_uri": "https://localhost:8080/"
        },
        "id": "vAoXbpE3Irtn",
        "outputId": "c427f5c5-d230-4df0-9090-c984f3211f8f"
      },
      "execution_count": 587,
      "outputs": [
        {
          "output_type": "execute_result",
          "data": {
            "text/plain": [
              "-0.3716096362952579"
            ]
          },
          "metadata": {},
          "execution_count": 587
        }
      ]
    },
    {
      "cell_type": "markdown",
      "source": [
        "### Curtose"
      ],
      "metadata": {
        "id": "guqeMsXnKDsq"
      }
    },
    {
      "cell_type": "code",
      "source": [
        "from scipy.stats import kurtosis\n",
        "C=3+kurtosis(pyth.residue)\n",
        "C"
      ],
      "metadata": {
        "colab": {
          "base_uri": "https://localhost:8080/"
        },
        "id": "CuKbu9EuIXPQ",
        "outputId": "cdb1a971-bc8c-4c54-95e5-28e8dc967f08"
      },
      "execution_count": 588,
      "outputs": [
        {
          "output_type": "execute_result",
          "data": {
            "text/plain": [
              "3.0244100681777164"
            ]
          },
          "metadata": {},
          "execution_count": 588
        }
      ]
    },
    {
      "cell_type": "markdown",
      "source": [
        "### $$JB = \\frac{n}{6}(S^2 + \\frac{1}{4}(C - 3)^2)$$"
      ],
      "metadata": {
        "id": "12T9stZvLJpT"
      }
    },
    {
      "cell_type": "code",
      "source": [
        "JB=(n/6)*(S**2+(1/4)*(C-3)**2)\n",
        "JB"
      ],
      "metadata": {
        "colab": {
          "base_uri": "https://localhost:8080/"
        },
        "id": "RG3SY2VLIXMP",
        "outputId": "9e368e18-97c8-40c5-877e-aa938f2e175f"
      },
      "execution_count": 589,
      "outputs": [
        {
          "output_type": "execute_result",
          "data": {
            "text/plain": [
              "0.6912134232230203"
            ]
          },
          "metadata": {},
          "execution_count": 589
        }
      ]
    },
    {
      "cell_type": "markdown",
      "source": [
        "### Teste do p-valor"
      ],
      "metadata": {
        "id": "CVdVIC8jLMqE"
      }
    },
    {
      "cell_type": "code",
      "source": [
        "from scipy.stats import chi2\n",
        "p_valor=chi2.sf(JB,2)\n",
        "p_valor"
      ],
      "metadata": {
        "colab": {
          "base_uri": "https://localhost:8080/"
        },
        "id": "JBD3SSXQIXJP",
        "outputId": "d7a6477c-af31-4f30-d916-2b4f85102afb"
      },
      "execution_count": 590,
      "outputs": [
        {
          "output_type": "execute_result",
          "data": {
            "text/plain": [
              "0.7077907982770808"
            ]
          },
          "metadata": {},
          "execution_count": 590
        }
      ]
    },
    {
      "cell_type": "code",
      "source": [
        "p_valor<=0.05"
      ],
      "metadata": {
        "colab": {
          "base_uri": "https://localhost:8080/"
        },
        "id": "HdBcKz2BIXGQ",
        "outputId": "58347881-0c9c-4509-fce0-f8695b7f255f"
      },
      "execution_count": 591,
      "outputs": [
        {
          "output_type": "execute_result",
          "data": {
            "text/plain": [
              "False"
            ]
          },
          "metadata": {},
          "execution_count": 591
        }
      ]
    },
    {
      "cell_type": "markdown",
      "source": [
        "### <font color='red'>Rejeito $H_0$, logo os dados não se distribuem como uma normal.</font>"
      ],
      "metadata": {
        "id": "DpJaf3uGKmZ3"
      }
    }
  ],
  "metadata": {
    "colab": {
      "provenance": []
    },
    "kernelspec": {
      "display_name": "Python 3",
      "name": "python3"
    },
    "language_info": {
      "name": "python"
    }
  },
  "nbformat": 4,
  "nbformat_minor": 0
}