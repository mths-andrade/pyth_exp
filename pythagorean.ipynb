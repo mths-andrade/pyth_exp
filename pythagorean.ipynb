{
  "cells": [
    {
      "cell_type": "code",
      "execution_count": null,
      "metadata": {
        "id": "H-5eycWjXrWa"
      },
      "outputs": [],
      "source": [
        "import pandas as pd\n",
        "import seaborn as sns\n",
        "import matplotlib.pyplot as plt\n",
        "import statsmodels.formula.api as smf\n",
        "import math\n",
        "import numpy as np"
      ]
    },
    {
      "cell_type": "code",
      "execution_count": null,
      "metadata": {
        "colab": {
          "base_uri": "https://localhost:8080/",
          "height": 206
        },
        "id": "V5hDifc0cQOy",
        "outputId": "d4eae36c-1471-448d-c6ac-a8d4fbb18b20"
      },
      "outputs": [
        {
          "output_type": "execute_result",
          "data": {
            "text/plain": [
              "   season home  pts_home  wl_home away  pts_away  wl_away\n",
              "0    1947  GSW        66        1  BOS        54        0\n",
              "1    1947  NYK        64        1  GSW        60        0\n",
              "2    1947  GSW        62        1  NYK        51        0\n",
              "3    1947  BOS        65        0  NYK        90        1\n",
              "4    1947  NYK        62        1  BOS        44        0"
            ],
            "text/html": [
              "\n",
              "  <div id=\"df-aaf7f825-cdb1-4c0e-85ec-cbd0345de32e\" class=\"colab-df-container\">\n",
              "    <div>\n",
              "<style scoped>\n",
              "    .dataframe tbody tr th:only-of-type {\n",
              "        vertical-align: middle;\n",
              "    }\n",
              "\n",
              "    .dataframe tbody tr th {\n",
              "        vertical-align: top;\n",
              "    }\n",
              "\n",
              "    .dataframe thead th {\n",
              "        text-align: right;\n",
              "    }\n",
              "</style>\n",
              "<table border=\"1\" class=\"dataframe\">\n",
              "  <thead>\n",
              "    <tr style=\"text-align: right;\">\n",
              "      <th></th>\n",
              "      <th>season</th>\n",
              "      <th>home</th>\n",
              "      <th>pts_home</th>\n",
              "      <th>wl_home</th>\n",
              "      <th>away</th>\n",
              "      <th>pts_away</th>\n",
              "      <th>wl_away</th>\n",
              "    </tr>\n",
              "  </thead>\n",
              "  <tbody>\n",
              "    <tr>\n",
              "      <th>0</th>\n",
              "      <td>1947</td>\n",
              "      <td>GSW</td>\n",
              "      <td>66</td>\n",
              "      <td>1</td>\n",
              "      <td>BOS</td>\n",
              "      <td>54</td>\n",
              "      <td>0</td>\n",
              "    </tr>\n",
              "    <tr>\n",
              "      <th>1</th>\n",
              "      <td>1947</td>\n",
              "      <td>NYK</td>\n",
              "      <td>64</td>\n",
              "      <td>1</td>\n",
              "      <td>GSW</td>\n",
              "      <td>60</td>\n",
              "      <td>0</td>\n",
              "    </tr>\n",
              "    <tr>\n",
              "      <th>2</th>\n",
              "      <td>1947</td>\n",
              "      <td>GSW</td>\n",
              "      <td>62</td>\n",
              "      <td>1</td>\n",
              "      <td>NYK</td>\n",
              "      <td>51</td>\n",
              "      <td>0</td>\n",
              "    </tr>\n",
              "    <tr>\n",
              "      <th>3</th>\n",
              "      <td>1947</td>\n",
              "      <td>BOS</td>\n",
              "      <td>65</td>\n",
              "      <td>0</td>\n",
              "      <td>NYK</td>\n",
              "      <td>90</td>\n",
              "      <td>1</td>\n",
              "    </tr>\n",
              "    <tr>\n",
              "      <th>4</th>\n",
              "      <td>1947</td>\n",
              "      <td>NYK</td>\n",
              "      <td>62</td>\n",
              "      <td>1</td>\n",
              "      <td>BOS</td>\n",
              "      <td>44</td>\n",
              "      <td>0</td>\n",
              "    </tr>\n",
              "  </tbody>\n",
              "</table>\n",
              "</div>\n",
              "    <div class=\"colab-df-buttons\">\n",
              "\n",
              "  <div class=\"colab-df-container\">\n",
              "    <button class=\"colab-df-convert\" onclick=\"convertToInteractive('df-aaf7f825-cdb1-4c0e-85ec-cbd0345de32e')\"\n",
              "            title=\"Convert this dataframe to an interactive table.\"\n",
              "            style=\"display:none;\">\n",
              "\n",
              "  <svg xmlns=\"http://www.w3.org/2000/svg\" height=\"24px\" viewBox=\"0 -960 960 960\">\n",
              "    <path d=\"M120-120v-720h720v720H120Zm60-500h600v-160H180v160Zm220 220h160v-160H400v160Zm0 220h160v-160H400v160ZM180-400h160v-160H180v160Zm440 0h160v-160H620v160ZM180-180h160v-160H180v160Zm440 0h160v-160H620v160Z\"/>\n",
              "  </svg>\n",
              "    </button>\n",
              "\n",
              "  <style>\n",
              "    .colab-df-container {\n",
              "      display:flex;\n",
              "      gap: 12px;\n",
              "    }\n",
              "\n",
              "    .colab-df-convert {\n",
              "      background-color: #E8F0FE;\n",
              "      border: none;\n",
              "      border-radius: 50%;\n",
              "      cursor: pointer;\n",
              "      display: none;\n",
              "      fill: #1967D2;\n",
              "      height: 32px;\n",
              "      padding: 0 0 0 0;\n",
              "      width: 32px;\n",
              "    }\n",
              "\n",
              "    .colab-df-convert:hover {\n",
              "      background-color: #E2EBFA;\n",
              "      box-shadow: 0px 1px 2px rgba(60, 64, 67, 0.3), 0px 1px 3px 1px rgba(60, 64, 67, 0.15);\n",
              "      fill: #174EA6;\n",
              "    }\n",
              "\n",
              "    .colab-df-buttons div {\n",
              "      margin-bottom: 4px;\n",
              "    }\n",
              "\n",
              "    [theme=dark] .colab-df-convert {\n",
              "      background-color: #3B4455;\n",
              "      fill: #D2E3FC;\n",
              "    }\n",
              "\n",
              "    [theme=dark] .colab-df-convert:hover {\n",
              "      background-color: #434B5C;\n",
              "      box-shadow: 0px 1px 3px 1px rgba(0, 0, 0, 0.15);\n",
              "      filter: drop-shadow(0px 1px 2px rgba(0, 0, 0, 0.3));\n",
              "      fill: #FFFFFF;\n",
              "    }\n",
              "  </style>\n",
              "\n",
              "    <script>\n",
              "      const buttonEl =\n",
              "        document.querySelector('#df-aaf7f825-cdb1-4c0e-85ec-cbd0345de32e button.colab-df-convert');\n",
              "      buttonEl.style.display =\n",
              "        google.colab.kernel.accessAllowed ? 'block' : 'none';\n",
              "\n",
              "      async function convertToInteractive(key) {\n",
              "        const element = document.querySelector('#df-aaf7f825-cdb1-4c0e-85ec-cbd0345de32e');\n",
              "        const dataTable =\n",
              "          await google.colab.kernel.invokeFunction('convertToInteractive',\n",
              "                                                    [key], {});\n",
              "        if (!dataTable) return;\n",
              "\n",
              "        const docLinkHtml = 'Like what you see? Visit the ' +\n",
              "          '<a target=\"_blank\" href=https://colab.research.google.com/notebooks/data_table.ipynb>data table notebook</a>'\n",
              "          + ' to learn more about interactive tables.';\n",
              "        element.innerHTML = '';\n",
              "        dataTable['output_type'] = 'display_data';\n",
              "        await google.colab.output.renderOutput(dataTable, element);\n",
              "        const docLink = document.createElement('div');\n",
              "        docLink.innerHTML = docLinkHtml;\n",
              "        element.appendChild(docLink);\n",
              "      }\n",
              "    </script>\n",
              "  </div>\n",
              "\n",
              "\n",
              "<div id=\"df-8d685246-e5d5-4e14-af33-f53d0fa84686\">\n",
              "  <button class=\"colab-df-quickchart\" onclick=\"quickchart('df-8d685246-e5d5-4e14-af33-f53d0fa84686')\"\n",
              "            title=\"Suggest charts\"\n",
              "            style=\"display:none;\">\n",
              "\n",
              "<svg xmlns=\"http://www.w3.org/2000/svg\" height=\"24px\"viewBox=\"0 0 24 24\"\n",
              "     width=\"24px\">\n",
              "    <g>\n",
              "        <path d=\"M19 3H5c-1.1 0-2 .9-2 2v14c0 1.1.9 2 2 2h14c1.1 0 2-.9 2-2V5c0-1.1-.9-2-2-2zM9 17H7v-7h2v7zm4 0h-2V7h2v10zm4 0h-2v-4h2v4z\"/>\n",
              "    </g>\n",
              "</svg>\n",
              "  </button>\n",
              "\n",
              "<style>\n",
              "  .colab-df-quickchart {\n",
              "      --bg-color: #E8F0FE;\n",
              "      --fill-color: #1967D2;\n",
              "      --hover-bg-color: #E2EBFA;\n",
              "      --hover-fill-color: #174EA6;\n",
              "      --disabled-fill-color: #AAA;\n",
              "      --disabled-bg-color: #DDD;\n",
              "  }\n",
              "\n",
              "  [theme=dark] .colab-df-quickchart {\n",
              "      --bg-color: #3B4455;\n",
              "      --fill-color: #D2E3FC;\n",
              "      --hover-bg-color: #434B5C;\n",
              "      --hover-fill-color: #FFFFFF;\n",
              "      --disabled-bg-color: #3B4455;\n",
              "      --disabled-fill-color: #666;\n",
              "  }\n",
              "\n",
              "  .colab-df-quickchart {\n",
              "    background-color: var(--bg-color);\n",
              "    border: none;\n",
              "    border-radius: 50%;\n",
              "    cursor: pointer;\n",
              "    display: none;\n",
              "    fill: var(--fill-color);\n",
              "    height: 32px;\n",
              "    padding: 0;\n",
              "    width: 32px;\n",
              "  }\n",
              "\n",
              "  .colab-df-quickchart:hover {\n",
              "    background-color: var(--hover-bg-color);\n",
              "    box-shadow: 0 1px 2px rgba(60, 64, 67, 0.3), 0 1px 3px 1px rgba(60, 64, 67, 0.15);\n",
              "    fill: var(--button-hover-fill-color);\n",
              "  }\n",
              "\n",
              "  .colab-df-quickchart-complete:disabled,\n",
              "  .colab-df-quickchart-complete:disabled:hover {\n",
              "    background-color: var(--disabled-bg-color);\n",
              "    fill: var(--disabled-fill-color);\n",
              "    box-shadow: none;\n",
              "  }\n",
              "\n",
              "  .colab-df-spinner {\n",
              "    border: 2px solid var(--fill-color);\n",
              "    border-color: transparent;\n",
              "    border-bottom-color: var(--fill-color);\n",
              "    animation:\n",
              "      spin 1s steps(1) infinite;\n",
              "  }\n",
              "\n",
              "  @keyframes spin {\n",
              "    0% {\n",
              "      border-color: transparent;\n",
              "      border-bottom-color: var(--fill-color);\n",
              "      border-left-color: var(--fill-color);\n",
              "    }\n",
              "    20% {\n",
              "      border-color: transparent;\n",
              "      border-left-color: var(--fill-color);\n",
              "      border-top-color: var(--fill-color);\n",
              "    }\n",
              "    30% {\n",
              "      border-color: transparent;\n",
              "      border-left-color: var(--fill-color);\n",
              "      border-top-color: var(--fill-color);\n",
              "      border-right-color: var(--fill-color);\n",
              "    }\n",
              "    40% {\n",
              "      border-color: transparent;\n",
              "      border-right-color: var(--fill-color);\n",
              "      border-top-color: var(--fill-color);\n",
              "    }\n",
              "    60% {\n",
              "      border-color: transparent;\n",
              "      border-right-color: var(--fill-color);\n",
              "    }\n",
              "    80% {\n",
              "      border-color: transparent;\n",
              "      border-right-color: var(--fill-color);\n",
              "      border-bottom-color: var(--fill-color);\n",
              "    }\n",
              "    90% {\n",
              "      border-color: transparent;\n",
              "      border-bottom-color: var(--fill-color);\n",
              "    }\n",
              "  }\n",
              "</style>\n",
              "\n",
              "  <script>\n",
              "    async function quickchart(key) {\n",
              "      const quickchartButtonEl =\n",
              "        document.querySelector('#' + key + ' button');\n",
              "      quickchartButtonEl.disabled = true;  // To prevent multiple clicks.\n",
              "      quickchartButtonEl.classList.add('colab-df-spinner');\n",
              "      try {\n",
              "        const charts = await google.colab.kernel.invokeFunction(\n",
              "            'suggestCharts', [key], {});\n",
              "      } catch (error) {\n",
              "        console.error('Error during call to suggestCharts:', error);\n",
              "      }\n",
              "      quickchartButtonEl.classList.remove('colab-df-spinner');\n",
              "      quickchartButtonEl.classList.add('colab-df-quickchart-complete');\n",
              "    }\n",
              "    (() => {\n",
              "      let quickchartButtonEl =\n",
              "        document.querySelector('#df-8d685246-e5d5-4e14-af33-f53d0fa84686 button');\n",
              "      quickchartButtonEl.style.display =\n",
              "        google.colab.kernel.accessAllowed ? 'block' : 'none';\n",
              "    })();\n",
              "  </script>\n",
              "</div>\n",
              "\n",
              "    </div>\n",
              "  </div>\n"
            ],
            "application/vnd.google.colaboratory.intrinsic+json": {
              "type": "dataframe",
              "variable_name": "dados",
              "summary": "{\n  \"name\": \"dados\",\n  \"rows\": 58501,\n  \"fields\": [\n    {\n      \"column\": \"season\",\n      \"properties\": {\n        \"dtype\": \"number\",\n        \"std\": 17,\n        \"min\": 1947,\n        \"max\": 2023,\n        \"num_unique_values\": 70,\n        \"samples\": [\n          1973,\n          1947,\n          2002\n        ],\n        \"semantic_type\": \"\",\n        \"description\": \"\"\n      }\n    },\n    {\n      \"column\": \"home\",\n      \"properties\": {\n        \"dtype\": \"category\",\n        \"num_unique_values\": 30,\n        \"samples\": [\n          \"TOR\",\n          \"POR\",\n          \"CHA\"\n        ],\n        \"semantic_type\": \"\",\n        \"description\": \"\"\n      }\n    },\n    {\n      \"column\": \"pts_home\",\n      \"properties\": {\n        \"dtype\": \"number\",\n        \"std\": 14,\n        \"min\": 18,\n        \"max\": 184,\n        \"num_unique_values\": 120,\n        \"samples\": [\n          102,\n          100,\n          77\n        ],\n        \"semantic_type\": \"\",\n        \"description\": \"\"\n      }\n    },\n    {\n      \"column\": \"wl_home\",\n      \"properties\": {\n        \"dtype\": \"number\",\n        \"std\": 0,\n        \"min\": 0,\n        \"max\": 1,\n        \"num_unique_values\": 2,\n        \"samples\": [\n          0,\n          1\n        ],\n        \"semantic_type\": \"\",\n        \"description\": \"\"\n      }\n    },\n    {\n      \"column\": \"away\",\n      \"properties\": {\n        \"dtype\": \"category\",\n        \"num_unique_values\": 30,\n        \"samples\": [\n          \"MEM\",\n          \"CLE\"\n        ],\n        \"semantic_type\": \"\",\n        \"description\": \"\"\n      }\n    },\n    {\n      \"column\": \"pts_away\",\n      \"properties\": {\n        \"dtype\": \"number\",\n        \"std\": 13,\n        \"min\": 19,\n        \"max\": 186,\n        \"num_unique_values\": 122,\n        \"samples\": [\n          67,\n          82\n        ],\n        \"semantic_type\": \"\",\n        \"description\": \"\"\n      }\n    },\n    {\n      \"column\": \"wl_away\",\n      \"properties\": {\n        \"dtype\": \"number\",\n        \"std\": 0,\n        \"min\": 0,\n        \"max\": 1,\n        \"num_unique_values\": 2,\n        \"samples\": [\n          1,\n          0\n        ],\n        \"semantic_type\": \"\",\n        \"description\": \"\"\n      }\n    }\n  ]\n}"
            }
          },
          "metadata": {},
          "execution_count": 18
        }
      ],
      "source": [
        "dados=pd.read_csv('games.csv')\n",
        "dados.head()"
      ]
    },
    {
      "cell_type": "code",
      "execution_count": null,
      "metadata": {
        "id": "kvpYjWwTxK1I"
      },
      "outputs": [],
      "source": [
        "def pyth_exp(made,allow):\n",
        "  return made**2/(made**2+allow**2)"
      ]
    },
    {
      "cell_type": "code",
      "execution_count": null,
      "metadata": {
        "colab": {
          "base_uri": "https://localhost:8080/"
        },
        "id": "OVDdjxyDnB3_",
        "outputId": "451aa051-70b7-480c-e867-30fb4a75c869"
      },
      "outputs": [
        {
          "output_type": "stream",
          "name": "stdout",
          "text": [
            "Ganhou 2052 jogos de 4516, portanto tem um aproveitamento de 0.4544.\n"
          ]
        }
      ],
      "source": [
        "home_w=dados.query(\"home=='WAS' and wl_home==1\")\n",
        "away_w=dados.query(\"away=='WAS' and wl_away==1\")\n",
        "home=dados.query(\"home=='WAS'\")\n",
        "away=dados.query(\"away=='WAS'\")\n",
        "games=home.shape[0]+away.shape[0]\n",
        "games_w=home_w.shape[0]+away_w.shape[0]\n",
        "win_perc=games_w/games\n",
        "win_perc = round(win_perc, 4)\n",
        "print(\"Ganhou %.0f jogos de %.0f, portanto tem um aproveitamento de %.4f.\"%(games_w,games,win_perc))"
      ]
    },
    {
      "cell_type": "code",
      "execution_count": null,
      "metadata": {
        "colab": {
          "base_uri": "https://localhost:8080/"
        },
        "id": "K0htLh2_ybod",
        "outputId": "2570253f-f09e-4c62-e69f-16846779df55"
      },
      "outputs": [
        {
          "output_type": "stream",
          "name": "stdout",
          "text": [
            "Os pontos marcados e permitidos são, respectivamente,471509 e 477840.\n",
            "A expectativa pitagórica é de 0.4933.\n"
          ]
        }
      ],
      "source": [
        "pth_m=dados.query(\"home=='WAS'\")[\"pts_home\"].sum()\n",
        "pth_a=dados.query(\"home=='WAS'\")[\"pts_away\"].sum()\n",
        "pta_m=dados.query(\"away=='WAS'\")[\"pts_away\"].sum()\n",
        "pta_a=dados.query(\"away=='WAS'\")[\"pts_home\"].sum()\n",
        "pt_made=pth_m+pta_m\n",
        "pt_allow = pth_a + pta_a\n",
        "print(\"Os pontos marcados e permitidos são, respectivamente,%.0f e %.0f.\"%(pt_made,pt_allow))\n",
        "print(\"A expectativa pitagórica é de %.4f.\"%(pyth_exp(pt_made,pt_allow)))"
      ]
    },
    {
      "cell_type": "code",
      "execution_count": null,
      "metadata": {
        "colab": {
          "base_uri": "https://localhost:8080/",
          "height": 237
        },
        "id": "iQ6idWF2D2MY",
        "outputId": "007587e1-da9e-4f03-d49f-7433e088f925"
      },
      "outputs": [
        {
          "output_type": "execute_result",
          "data": {
            "text/plain": [
              "      wins  games  win_perc  pts_made  pts_allow  pyth_exp\n",
              "team                                                      \n",
              "ATL   2583   5189    0.4978    531868     533111    0.4988\n",
              "BKN   1551   3622    0.4282    369031     376958    0.4894\n",
              "BOS   3105   5256    0.5908    554328     539600    0.5135\n",
              "CHA   1132   2549    0.4441    256910     261911    0.4904\n",
              "CHI   2147   4189    0.5125    429550     428070    0.5017"
            ],
            "text/html": [
              "\n",
              "  <div id=\"df-c89b1402-8f20-4f79-ae6e-b112ed126161\" class=\"colab-df-container\">\n",
              "    <div>\n",
              "<style scoped>\n",
              "    .dataframe tbody tr th:only-of-type {\n",
              "        vertical-align: middle;\n",
              "    }\n",
              "\n",
              "    .dataframe tbody tr th {\n",
              "        vertical-align: top;\n",
              "    }\n",
              "\n",
              "    .dataframe thead th {\n",
              "        text-align: right;\n",
              "    }\n",
              "</style>\n",
              "<table border=\"1\" class=\"dataframe\">\n",
              "  <thead>\n",
              "    <tr style=\"text-align: right;\">\n",
              "      <th></th>\n",
              "      <th>wins</th>\n",
              "      <th>games</th>\n",
              "      <th>win_perc</th>\n",
              "      <th>pts_made</th>\n",
              "      <th>pts_allow</th>\n",
              "      <th>pyth_exp</th>\n",
              "    </tr>\n",
              "    <tr>\n",
              "      <th>team</th>\n",
              "      <th></th>\n",
              "      <th></th>\n",
              "      <th></th>\n",
              "      <th></th>\n",
              "      <th></th>\n",
              "      <th></th>\n",
              "    </tr>\n",
              "  </thead>\n",
              "  <tbody>\n",
              "    <tr>\n",
              "      <th>ATL</th>\n",
              "      <td>2583</td>\n",
              "      <td>5189</td>\n",
              "      <td>0.4978</td>\n",
              "      <td>531868</td>\n",
              "      <td>533111</td>\n",
              "      <td>0.4988</td>\n",
              "    </tr>\n",
              "    <tr>\n",
              "      <th>BKN</th>\n",
              "      <td>1551</td>\n",
              "      <td>3622</td>\n",
              "      <td>0.4282</td>\n",
              "      <td>369031</td>\n",
              "      <td>376958</td>\n",
              "      <td>0.4894</td>\n",
              "    </tr>\n",
              "    <tr>\n",
              "      <th>BOS</th>\n",
              "      <td>3105</td>\n",
              "      <td>5256</td>\n",
              "      <td>0.5908</td>\n",
              "      <td>554328</td>\n",
              "      <td>539600</td>\n",
              "      <td>0.5135</td>\n",
              "    </tr>\n",
              "    <tr>\n",
              "      <th>CHA</th>\n",
              "      <td>1132</td>\n",
              "      <td>2549</td>\n",
              "      <td>0.4441</td>\n",
              "      <td>256910</td>\n",
              "      <td>261911</td>\n",
              "      <td>0.4904</td>\n",
              "    </tr>\n",
              "    <tr>\n",
              "      <th>CHI</th>\n",
              "      <td>2147</td>\n",
              "      <td>4189</td>\n",
              "      <td>0.5125</td>\n",
              "      <td>429550</td>\n",
              "      <td>428070</td>\n",
              "      <td>0.5017</td>\n",
              "    </tr>\n",
              "  </tbody>\n",
              "</table>\n",
              "</div>\n",
              "    <div class=\"colab-df-buttons\">\n",
              "\n",
              "  <div class=\"colab-df-container\">\n",
              "    <button class=\"colab-df-convert\" onclick=\"convertToInteractive('df-c89b1402-8f20-4f79-ae6e-b112ed126161')\"\n",
              "            title=\"Convert this dataframe to an interactive table.\"\n",
              "            style=\"display:none;\">\n",
              "\n",
              "  <svg xmlns=\"http://www.w3.org/2000/svg\" height=\"24px\" viewBox=\"0 -960 960 960\">\n",
              "    <path d=\"M120-120v-720h720v720H120Zm60-500h600v-160H180v160Zm220 220h160v-160H400v160Zm0 220h160v-160H400v160ZM180-400h160v-160H180v160Zm440 0h160v-160H620v160ZM180-180h160v-160H180v160Zm440 0h160v-160H620v160Z\"/>\n",
              "  </svg>\n",
              "    </button>\n",
              "\n",
              "  <style>\n",
              "    .colab-df-container {\n",
              "      display:flex;\n",
              "      gap: 12px;\n",
              "    }\n",
              "\n",
              "    .colab-df-convert {\n",
              "      background-color: #E8F0FE;\n",
              "      border: none;\n",
              "      border-radius: 50%;\n",
              "      cursor: pointer;\n",
              "      display: none;\n",
              "      fill: #1967D2;\n",
              "      height: 32px;\n",
              "      padding: 0 0 0 0;\n",
              "      width: 32px;\n",
              "    }\n",
              "\n",
              "    .colab-df-convert:hover {\n",
              "      background-color: #E2EBFA;\n",
              "      box-shadow: 0px 1px 2px rgba(60, 64, 67, 0.3), 0px 1px 3px 1px rgba(60, 64, 67, 0.15);\n",
              "      fill: #174EA6;\n",
              "    }\n",
              "\n",
              "    .colab-df-buttons div {\n",
              "      margin-bottom: 4px;\n",
              "    }\n",
              "\n",
              "    [theme=dark] .colab-df-convert {\n",
              "      background-color: #3B4455;\n",
              "      fill: #D2E3FC;\n",
              "    }\n",
              "\n",
              "    [theme=dark] .colab-df-convert:hover {\n",
              "      background-color: #434B5C;\n",
              "      box-shadow: 0px 1px 3px 1px rgba(0, 0, 0, 0.15);\n",
              "      filter: drop-shadow(0px 1px 2px rgba(0, 0, 0, 0.3));\n",
              "      fill: #FFFFFF;\n",
              "    }\n",
              "  </style>\n",
              "\n",
              "    <script>\n",
              "      const buttonEl =\n",
              "        document.querySelector('#df-c89b1402-8f20-4f79-ae6e-b112ed126161 button.colab-df-convert');\n",
              "      buttonEl.style.display =\n",
              "        google.colab.kernel.accessAllowed ? 'block' : 'none';\n",
              "\n",
              "      async function convertToInteractive(key) {\n",
              "        const element = document.querySelector('#df-c89b1402-8f20-4f79-ae6e-b112ed126161');\n",
              "        const dataTable =\n",
              "          await google.colab.kernel.invokeFunction('convertToInteractive',\n",
              "                                                    [key], {});\n",
              "        if (!dataTable) return;\n",
              "\n",
              "        const docLinkHtml = 'Like what you see? Visit the ' +\n",
              "          '<a target=\"_blank\" href=https://colab.research.google.com/notebooks/data_table.ipynb>data table notebook</a>'\n",
              "          + ' to learn more about interactive tables.';\n",
              "        element.innerHTML = '';\n",
              "        dataTable['output_type'] = 'display_data';\n",
              "        await google.colab.output.renderOutput(dataTable, element);\n",
              "        const docLink = document.createElement('div');\n",
              "        docLink.innerHTML = docLinkHtml;\n",
              "        element.appendChild(docLink);\n",
              "      }\n",
              "    </script>\n",
              "  </div>\n",
              "\n",
              "\n",
              "<div id=\"df-865abe1a-9bed-4b12-982e-e72945b7fcf4\">\n",
              "  <button class=\"colab-df-quickchart\" onclick=\"quickchart('df-865abe1a-9bed-4b12-982e-e72945b7fcf4')\"\n",
              "            title=\"Suggest charts\"\n",
              "            style=\"display:none;\">\n",
              "\n",
              "<svg xmlns=\"http://www.w3.org/2000/svg\" height=\"24px\"viewBox=\"0 0 24 24\"\n",
              "     width=\"24px\">\n",
              "    <g>\n",
              "        <path d=\"M19 3H5c-1.1 0-2 .9-2 2v14c0 1.1.9 2 2 2h14c1.1 0 2-.9 2-2V5c0-1.1-.9-2-2-2zM9 17H7v-7h2v7zm4 0h-2V7h2v10zm4 0h-2v-4h2v4z\"/>\n",
              "    </g>\n",
              "</svg>\n",
              "  </button>\n",
              "\n",
              "<style>\n",
              "  .colab-df-quickchart {\n",
              "      --bg-color: #E8F0FE;\n",
              "      --fill-color: #1967D2;\n",
              "      --hover-bg-color: #E2EBFA;\n",
              "      --hover-fill-color: #174EA6;\n",
              "      --disabled-fill-color: #AAA;\n",
              "      --disabled-bg-color: #DDD;\n",
              "  }\n",
              "\n",
              "  [theme=dark] .colab-df-quickchart {\n",
              "      --bg-color: #3B4455;\n",
              "      --fill-color: #D2E3FC;\n",
              "      --hover-bg-color: #434B5C;\n",
              "      --hover-fill-color: #FFFFFF;\n",
              "      --disabled-bg-color: #3B4455;\n",
              "      --disabled-fill-color: #666;\n",
              "  }\n",
              "\n",
              "  .colab-df-quickchart {\n",
              "    background-color: var(--bg-color);\n",
              "    border: none;\n",
              "    border-radius: 50%;\n",
              "    cursor: pointer;\n",
              "    display: none;\n",
              "    fill: var(--fill-color);\n",
              "    height: 32px;\n",
              "    padding: 0;\n",
              "    width: 32px;\n",
              "  }\n",
              "\n",
              "  .colab-df-quickchart:hover {\n",
              "    background-color: var(--hover-bg-color);\n",
              "    box-shadow: 0 1px 2px rgba(60, 64, 67, 0.3), 0 1px 3px 1px rgba(60, 64, 67, 0.15);\n",
              "    fill: var(--button-hover-fill-color);\n",
              "  }\n",
              "\n",
              "  .colab-df-quickchart-complete:disabled,\n",
              "  .colab-df-quickchart-complete:disabled:hover {\n",
              "    background-color: var(--disabled-bg-color);\n",
              "    fill: var(--disabled-fill-color);\n",
              "    box-shadow: none;\n",
              "  }\n",
              "\n",
              "  .colab-df-spinner {\n",
              "    border: 2px solid var(--fill-color);\n",
              "    border-color: transparent;\n",
              "    border-bottom-color: var(--fill-color);\n",
              "    animation:\n",
              "      spin 1s steps(1) infinite;\n",
              "  }\n",
              "\n",
              "  @keyframes spin {\n",
              "    0% {\n",
              "      border-color: transparent;\n",
              "      border-bottom-color: var(--fill-color);\n",
              "      border-left-color: var(--fill-color);\n",
              "    }\n",
              "    20% {\n",
              "      border-color: transparent;\n",
              "      border-left-color: var(--fill-color);\n",
              "      border-top-color: var(--fill-color);\n",
              "    }\n",
              "    30% {\n",
              "      border-color: transparent;\n",
              "      border-left-color: var(--fill-color);\n",
              "      border-top-color: var(--fill-color);\n",
              "      border-right-color: var(--fill-color);\n",
              "    }\n",
              "    40% {\n",
              "      border-color: transparent;\n",
              "      border-right-color: var(--fill-color);\n",
              "      border-top-color: var(--fill-color);\n",
              "    }\n",
              "    60% {\n",
              "      border-color: transparent;\n",
              "      border-right-color: var(--fill-color);\n",
              "    }\n",
              "    80% {\n",
              "      border-color: transparent;\n",
              "      border-right-color: var(--fill-color);\n",
              "      border-bottom-color: var(--fill-color);\n",
              "    }\n",
              "    90% {\n",
              "      border-color: transparent;\n",
              "      border-bottom-color: var(--fill-color);\n",
              "    }\n",
              "  }\n",
              "</style>\n",
              "\n",
              "  <script>\n",
              "    async function quickchart(key) {\n",
              "      const quickchartButtonEl =\n",
              "        document.querySelector('#' + key + ' button');\n",
              "      quickchartButtonEl.disabled = true;  // To prevent multiple clicks.\n",
              "      quickchartButtonEl.classList.add('colab-df-spinner');\n",
              "      try {\n",
              "        const charts = await google.colab.kernel.invokeFunction(\n",
              "            'suggestCharts', [key], {});\n",
              "      } catch (error) {\n",
              "        console.error('Error during call to suggestCharts:', error);\n",
              "      }\n",
              "      quickchartButtonEl.classList.remove('colab-df-spinner');\n",
              "      quickchartButtonEl.classList.add('colab-df-quickchart-complete');\n",
              "    }\n",
              "    (() => {\n",
              "      let quickchartButtonEl =\n",
              "        document.querySelector('#df-865abe1a-9bed-4b12-982e-e72945b7fcf4 button');\n",
              "      quickchartButtonEl.style.display =\n",
              "        google.colab.kernel.accessAllowed ? 'block' : 'none';\n",
              "    })();\n",
              "  </script>\n",
              "</div>\n",
              "\n",
              "    </div>\n",
              "  </div>\n"
            ],
            "application/vnd.google.colaboratory.intrinsic+json": {
              "type": "dataframe",
              "variable_name": "pyth",
              "summary": "{\n  \"name\": \"pyth\",\n  \"rows\": 30,\n  \"fields\": [\n    {\n      \"column\": \"team\",\n      \"properties\": {\n        \"dtype\": \"string\",\n        \"num_unique_values\": 30,\n        \"samples\": [\n          \"TOR\",\n          \"MIA\",\n          \"PHX\"\n        ],\n        \"semantic_type\": \"\",\n        \"description\": \"\"\n      }\n    },\n    {\n      \"column\": \"wins\",\n      \"properties\": {\n        \"dtype\": \"number\",\n        \"std\": 614,\n        \"min\": 755,\n        \"max\": 3105,\n        \"num_unique_values\": 30,\n        \"samples\": [\n          1037,\n          1409,\n          2231\n        ],\n        \"semantic_type\": \"\",\n        \"description\": \"\"\n      }\n    },\n    {\n      \"column\": \"games\",\n      \"properties\": {\n        \"dtype\": \"number\",\n        \"std\": 1068,\n        \"min\": 1604,\n        \"max\": 5256,\n        \"num_unique_values\": 27,\n        \"samples\": [\n          5225,\n          2147,\n          5247\n        ],\n        \"semantic_type\": \"\",\n        \"description\": \"\"\n      }\n    },\n    {\n      \"column\": \"win_perc\",\n      \"properties\": {\n        \"dtype\": \"number\",\n        \"std\": 0.05056858049553432,\n        \"min\": 0.403,\n        \"max\": 0.6023,\n        \"num_unique_values\": 30,\n        \"samples\": [\n          0.4832,\n          0.5178,\n          0.5422\n        ],\n        \"semantic_type\": \"\",\n        \"description\": \"\"\n      }\n    },\n    {\n      \"column\": \"pts_made\",\n      \"properties\": {\n        \"dtype\": \"number\",\n        \"std\": 114779,\n        \"min\": 162833,\n        \"max\": 556559,\n        \"num_unique_values\": 30,\n        \"samples\": [\n          216600,\n          269527,\n          444019\n        ],\n        \"semantic_type\": \"\",\n        \"description\": \"\"\n      }\n    },\n    {\n      \"column\": \"pts_allow\",\n      \"properties\": {\n        \"dtype\": \"number\",\n        \"std\": 113494,\n        \"min\": 164107,\n        \"max\": 559188,\n        \"num_unique_values\": 30,\n        \"samples\": [\n          216982,\n          268667,\n          438076\n        ],\n        \"semantic_type\": \"\",\n        \"description\": \"\"\n      }\n    },\n    {\n      \"column\": \"pyth_exp\",\n      \"properties\": {\n        \"dtype\": \"number\",\n        \"std\": 0.0073776892622673396,\n        \"min\": 0.4864,\n        \"max\": 0.5148,\n        \"num_unique_values\": 29,\n        \"samples\": [\n          0.5077,\n          0.506,\n          0.4864\n        ],\n        \"semantic_type\": \"\",\n        \"description\": \"\"\n      }\n    }\n  ]\n}"
            }
          },
          "metadata": {},
          "execution_count": 6
        }
      ],
      "source": [
        "pyth=pd.read_csv('pythagorean.csv')\n",
        "pyth.set_index('team',inplace=True)\n",
        "pyth.head()"
      ]
    },
    {
      "cell_type": "code",
      "execution_count": null,
      "metadata": {
        "colab": {
          "base_uri": "https://localhost:8080/",
          "height": 565
        },
        "id": "3nMGSz6YLhJf",
        "outputId": "4b007582-88f0-4265-e104-435826461fef"
      },
      "outputs": [
        {
          "output_type": "display_data",
          "data": {
            "text/plain": [
              "<Figure size 1000x600 with 1 Axes>"
            ],
            "image/png": "[encoded data removed]"
          },
          "metadata": {}
        }
      ],
      "source": [
        "x = pyth.pyth_exp\n",
        "y = pyth.win_perc\n",
        "\n",
        "ax = sns.scatterplot(data=pyth, x=\"pyth_exp\", y=\"win_perc\")\n",
        "ax.figure.set_size_inches(10, 6)\n",
        "ax.set_title(\"Expectativa pitagórica X porcentagem real de vitórias de cada time\")\n",
        "ax.hlines(y = y.mean(), xmin = x.min(), xmax = x.max(), colors='black', linestyles='dashed')\n",
        "ax.vlines(x = x.mean(), ymin = y.min(), ymax = y.max(), colors='gray', linestyles='dashed')\n",
        "ax.text(0.487, 0.5, 'Média da porcentagem de vitórias', fontsize=10, color = 'black', va = \"bottom\")\n",
        "ax.text(0.4997, 0.58, 'Média da expectativa pitagórica', fontsize=10, color = 'gray', ha = \"left\")\n",
        "plt.show()"
      ]
    },
    {
      "cell_type": "code",
      "execution_count": null,
      "metadata": {
        "colab": {
          "base_uri": "https://localhost:8080/",
          "height": 565
        },
        "id": "LKh61oiWDofE",
        "outputId": "60578912-187a-40b2-fbdf-9ee586b073b7"
      },
      "outputs": [
        {
          "output_type": "execute_result",
          "data": {
            "text/plain": [
              "Text(0.5, 1.05, 'Expectativa pitagórica X porcentagem real de vitórias de cada time')"
            ]
          },
          "metadata": {},
          "execution_count": 44
        },
        {
          "output_type": "display_data",
          "data": {
            "text/plain": [
              "<Figure size 500x500 with 1 Axes>"
            ],
            "image/png": "[encoded data removed]"
          },
          "metadata": {}
        }
      ],
      "source": [
        "ax=sns.lmplot(x='pyth_exp',y='win_perc',data=pyth)\n",
        "ax.fig.suptitle(\"Expectativa pitagórica X porcentagem real de vitórias de cada time\",y=1.05)"
      ]
    },
    {
      "cell_type": "code",
      "source": [
        "ax=sns.regplot(x='pyth_exp',y='win_perc',data=pyth)"
      ],
      "metadata": {
        "id": "F57evf9P5eIh",
        "outputId": "fe06470b-5502-4da3-fd23-d72cedeaf482",
        "colab": {
          "base_uri": "https://localhost:8080/",
          "height": 450
        }
      },
      "execution_count": null,
      "outputs": [
        {
          "output_type": "display_data",
          "data": {
            "text/plain": [
              "<Figure size 640x480 with 1 Axes>"
            ],
            "image/png": "[encoded data removed]"
          },
          "metadata": {}
        }
      ]
    },
    {
      "cell_type": "code",
      "source": [
        "corr=pyth.corr()\n",
        "corr"
      ],
      "metadata": {
        "colab": {
          "base_uri": "https://localhost:8080/",
          "height": 237
        },
        "id": "IRSGeXWI9-WF",
        "outputId": "974ecfe6-272d-4ec0-86e2-d073d2986ece"
      },
      "execution_count": null,
      "outputs": [
        {
          "output_type": "execute_result",
          "data": {
            "text/plain": [
              "               wins     games  win_perc  pts_made  pts_allow  pyth_exp\n",
              "wins       1.000000  0.867366  0.606902  0.955113   0.938493  0.583713\n",
              "games      0.867366  1.000000  0.356588  0.900015   0.897278  0.325501\n",
              "win_perc   0.606902  0.356588  1.000000  0.358627   0.310600  0.991663\n",
              "pts_made   0.955113  0.900015  0.358627  1.000000   0.998609  0.334829\n",
              "pts_allow  0.938493  0.897278  0.310600  0.998609   1.000000  0.286120\n",
              "pyth_exp   0.583713  0.325501  0.991663  0.334829   0.286120  1.000000"
            ],
            "text/html": [
              "\n",
              "  <div id=\"df-2b53e4b2-566d-40bd-8b1f-bd666c90467a\" class=\"colab-df-container\">\n",
              "    <div>\n",
              "<style scoped>\n",
              "    .dataframe tbody tr th:only-of-type {\n",
              "        vertical-align: middle;\n",
              "    }\n",
              "\n",
              "    .dataframe tbody tr th {\n",
              "        vertical-align: top;\n",
              "    }\n",
              "\n",
              "    .dataframe thead th {\n",
              "        text-align: right;\n",
              "    }\n",
              "</style>\n",
              "<table border=\"1\" class=\"dataframe\">\n",
              "  <thead>\n",
              "    <tr style=\"text-align: right;\">\n",
              "      <th></th>\n",
              "      <th>wins</th>\n",
              "      <th>games</th>\n",
              "      <th>win_perc</th>\n",
              "      <th>pts_made</th>\n",
              "      <th>pts_allow</th>\n",
              "      <th>pyth_exp</th>\n",
              "    </tr>\n",
              "  </thead>\n",
              "  <tbody>\n",
              "    <tr>\n",
              "      <th>wins</th>\n",
              "      <td>1.000000</td>\n",
              "      <td>0.867366</td>\n",
              "      <td>0.606902</td>\n",
              "      <td>0.955113</td>\n",
              "      <td>0.938493</td>\n",
              "      <td>0.583713</td>\n",
              "    </tr>\n",
              "    <tr>\n",
              "      <th>games</th>\n",
              "      <td>0.867366</td>\n",
              "      <td>1.000000</td>\n",
              "      <td>0.356588</td>\n",
              "      <td>0.900015</td>\n",
              "      <td>0.897278</td>\n",
              "      <td>0.325501</td>\n",
              "    </tr>\n",
              "    <tr>\n",
              "      <th>win_perc</th>\n",
              "      <td>0.606902</td>\n",
              "      <td>0.356588</td>\n",
              "      <td>1.000000</td>\n",
              "      <td>0.358627</td>\n",
              "      <td>0.310600</td>\n",
              "      <td>0.991663</td>\n",
              "    </tr>\n",
              "    <tr>\n",
              "      <th>pts_made</th>\n",
              "      <td>0.955113</td>\n",
              "      <td>0.900015</td>\n",
              "      <td>0.358627</td>\n",
              "      <td>1.000000</td>\n",
              "      <td>0.998609</td>\n",
              "      <td>0.334829</td>\n",
              "    </tr>\n",
              "    <tr>\n",
              "      <th>pts_allow</th>\n",
              "      <td>0.938493</td>\n",
              "      <td>0.897278</td>\n",
              "      <td>0.310600</td>\n",
              "      <td>0.998609</td>\n",
              "      <td>1.000000</td>\n",
              "      <td>0.286120</td>\n",
              "    </tr>\n",
              "    <tr>\n",
              "      <th>pyth_exp</th>\n",
              "      <td>0.583713</td>\n",
              "      <td>0.325501</td>\n",
              "      <td>0.991663</td>\n",
              "      <td>0.334829</td>\n",
              "      <td>0.286120</td>\n",
              "      <td>1.000000</td>\n",
              "    </tr>\n",
              "  </tbody>\n",
              "</table>\n",
              "</div>\n",
              "    <div class=\"colab-df-buttons\">\n",
              "\n",
              "  <div class=\"colab-df-container\">\n",
              "    <button class=\"colab-df-convert\" onclick=\"convertToInteractive('df-2b53e4b2-566d-40bd-8b1f-bd666c90467a')\"\n",
              "            title=\"Convert this dataframe to an interactive table.\"\n",
              "            style=\"display:none;\">\n",
              "\n",
              "  <svg xmlns=\"http://www.w3.org/2000/svg\" height=\"24px\" viewBox=\"0 -960 960 960\">\n",
              "    <path d=\"M120-120v-720h720v720H120Zm60-500h600v-160H180v160Zm220 220h160v-160H400v160Zm0 220h160v-160H400v160ZM180-400h160v-160H180v160Zm440 0h160v-160H620v160ZM180-180h160v-160H180v160Zm440 0h160v-160H620v160Z\"/>\n",
              "  </svg>\n",
              "    </button>\n",
              "\n",
              "  <style>\n",
              "    .colab-df-container {\n",
              "      display:flex;\n",
              "      gap: 12px;\n",
              "    }\n",
              "\n",
              "    .colab-df-convert {\n",
              "      background-color: #E8F0FE;\n",
              "      border: none;\n",
              "      border-radius: 50%;\n",
              "      cursor: pointer;\n",
              "      display: none;\n",
              "      fill: #1967D2;\n",
              "      height: 32px;\n",
              "      padding: 0 0 0 0;\n",
              "      width: 32px;\n",
              "    }\n",
              "\n",
              "    .colab-df-convert:hover {\n",
              "      background-color: #E2EBFA;\n",
              "      box-shadow: 0px 1px 2px rgba(60, 64, 67, 0.3), 0px 1px 3px 1px rgba(60, 64, 67, 0.15);\n",
              "      fill: #174EA6;\n",
              "    }\n",
              "\n",
              "    .colab-df-buttons div {\n",
              "      margin-bottom: 4px;\n",
              "    }\n",
              "\n",
              "    [theme=dark] .colab-df-convert {\n",
              "      background-color: #3B4455;\n",
              "      fill: #D2E3FC;\n",
              "    }\n",
              "\n",
              "    [theme=dark] .colab-df-convert:hover {\n",
              "      background-color: #434B5C;\n",
              "      box-shadow: 0px 1px 3px 1px rgba(0, 0, 0, 0.15);\n",
              "      filter: drop-shadow(0px 1px 2px rgba(0, 0, 0, 0.3));\n",
              "      fill: #FFFFFF;\n",
              "    }\n",
              "  </style>\n",
              "\n",
              "    <script>\n",
              "      const buttonEl =\n",
              "        document.querySelector('#df-2b53e4b2-566d-40bd-8b1f-bd666c90467a button.colab-df-convert');\n",
              "      buttonEl.style.display =\n",
              "        google.colab.kernel.accessAllowed ? 'block' : 'none';\n",
              "\n",
              "      async function convertToInteractive(key) {\n",
              "        const element = document.querySelector('#df-2b53e4b2-566d-40bd-8b1f-bd666c90467a');\n",
              "        const dataTable =\n",
              "          await google.colab.kernel.invokeFunction('convertToInteractive',\n",
              "                                                    [key], {});\n",
              "        if (!dataTable) return;\n",
              "\n",
              "        const docLinkHtml = 'Like what you see? Visit the ' +\n",
              "          '<a target=\"_blank\" href=https://colab.research.google.com/notebooks/data_table.ipynb>data table notebook</a>'\n",
              "          + ' to learn more about interactive tables.';\n",
              "        element.innerHTML = '';\n",
              "        dataTable['output_type'] = 'display_data';\n",
              "        await google.colab.output.renderOutput(dataTable, element);\n",
              "        const docLink = document.createElement('div');\n",
              "        docLink.innerHTML = docLinkHtml;\n",
              "        element.appendChild(docLink);\n",
              "      }\n",
              "    </script>\n",
              "  </div>\n",
              "\n",
              "\n",
              "<div id=\"df-db00ec84-e816-4074-b3f7-306c420fe4ed\">\n",
              "  <button class=\"colab-df-quickchart\" onclick=\"quickchart('df-db00ec84-e816-4074-b3f7-306c420fe4ed')\"\n",
              "            title=\"Suggest charts\"\n",
              "            style=\"display:none;\">\n",
              "\n",
              "<svg xmlns=\"http://www.w3.org/2000/svg\" height=\"24px\"viewBox=\"0 0 24 24\"\n",
              "     width=\"24px\">\n",
              "    <g>\n",
              "        <path d=\"M19 3H5c-1.1 0-2 .9-2 2v14c0 1.1.9 2 2 2h14c1.1 0 2-.9 2-2V5c0-1.1-.9-2-2-2zM9 17H7v-7h2v7zm4 0h-2V7h2v10zm4 0h-2v-4h2v4z\"/>\n",
              "    </g>\n",
              "</svg>\n",
              "  </button>\n",
              "\n",
              "<style>\n",
              "  .colab-df-quickchart {\n",
              "      --bg-color: #E8F0FE;\n",
              "      --fill-color: #1967D2;\n",
              "      --hover-bg-color: #E2EBFA;\n",
              "      --hover-fill-color: #174EA6;\n",
              "      --disabled-fill-color: #AAA;\n",
              "      --disabled-bg-color: #DDD;\n",
              "  }\n",
              "\n",
              "  [theme=dark] .colab-df-quickchart {\n",
              "      --bg-color: #3B4455;\n",
              "      --fill-color: #D2E3FC;\n",
              "      --hover-bg-color: #434B5C;\n",
              "      --hover-fill-color: #FFFFFF;\n",
              "      --disabled-bg-color: #3B4455;\n",
              "      --disabled-fill-color: #666;\n",
              "  }\n",
              "\n",
              "  .colab-df-quickchart {\n",
              "    background-color: var(--bg-color);\n",
              "    border: none;\n",
              "    border-radius: 50%;\n",
              "    cursor: pointer;\n",
              "    display: none;\n",
              "    fill: var(--fill-color);\n",
              "    height: 32px;\n",
              "    padding: 0;\n",
              "    width: 32px;\n",
              "  }\n",
              "\n",
              "  .colab-df-quickchart:hover {\n",
              "    background-color: var(--hover-bg-color);\n",
              "    box-shadow: 0 1px 2px rgba(60, 64, 67, 0.3), 0 1px 3px 1px rgba(60, 64, 67, 0.15);\n",
              "    fill: var(--button-hover-fill-color);\n",
              "  }\n",
              "\n",
              "  .colab-df-quickchart-complete:disabled,\n",
              "  .colab-df-quickchart-complete:disabled:hover {\n",
              "    background-color: var(--disabled-bg-color);\n",
              "    fill: var(--disabled-fill-color);\n",
              "    box-shadow: none;\n",
              "  }\n",
              "\n",
              "  .colab-df-spinner {\n",
              "    border: 2px solid var(--fill-color);\n",
              "    border-color: transparent;\n",
              "    border-bottom-color: var(--fill-color);\n",
              "    animation:\n",
              "      spin 1s steps(1) infinite;\n",
              "  }\n",
              "\n",
              "  @keyframes spin {\n",
              "    0% {\n",
              "      border-color: transparent;\n",
              "      border-bottom-color: var(--fill-color);\n",
              "      border-left-color: var(--fill-color);\n",
              "    }\n",
              "    20% {\n",
              "      border-color: transparent;\n",
              "      border-left-color: var(--fill-color);\n",
              "      border-top-color: var(--fill-color);\n",
              "    }\n",
              "    30% {\n",
              "      border-color: transparent;\n",
              "      border-left-color: var(--fill-color);\n",
              "      border-top-color: var(--fill-color);\n",
              "      border-right-color: var(--fill-color);\n",
              "    }\n",
              "    40% {\n",
              "      border-color: transparent;\n",
              "      border-right-color: var(--fill-color);\n",
              "      border-top-color: var(--fill-color);\n",
              "    }\n",
              "    60% {\n",
              "      border-color: transparent;\n",
              "      border-right-color: var(--fill-color);\n",
              "    }\n",
              "    80% {\n",
              "      border-color: transparent;\n",
              "      border-right-color: var(--fill-color);\n",
              "      border-bottom-color: var(--fill-color);\n",
              "    }\n",
              "    90% {\n",
              "      border-color: transparent;\n",
              "      border-bottom-color: var(--fill-color);\n",
              "    }\n",
              "  }\n",
              "</style>\n",
              "\n",
              "  <script>\n",
              "    async function quickchart(key) {\n",
              "      const quickchartButtonEl =\n",
              "        document.querySelector('#' + key + ' button');\n",
              "      quickchartButtonEl.disabled = true;  // To prevent multiple clicks.\n",
              "      quickchartButtonEl.classList.add('colab-df-spinner');\n",
              "      try {\n",
              "        const charts = await google.colab.kernel.invokeFunction(\n",
              "            'suggestCharts', [key], {});\n",
              "      } catch (error) {\n",
              "        console.error('Error during call to suggestCharts:', error);\n",
              "      }\n",
              "      quickchartButtonEl.classList.remove('colab-df-spinner');\n",
              "      quickchartButtonEl.classList.add('colab-df-quickchart-complete');\n",
              "    }\n",
              "    (() => {\n",
              "      let quickchartButtonEl =\n",
              "        document.querySelector('#df-db00ec84-e816-4074-b3f7-306c420fe4ed button');\n",
              "      quickchartButtonEl.style.display =\n",
              "        google.colab.kernel.accessAllowed ? 'block' : 'none';\n",
              "    })();\n",
              "  </script>\n",
              "</div>\n",
              "\n",
              "  <div id=\"id_5feea8fc-bd22-4ceb-82d7-e82c339ac9b6\">\n",
              "    <style>\n",
              "      .colab-df-generate {\n",
              "        background-color: #E8F0FE;\n",
              "        border: none;\n",
              "        border-radius: 50%;\n",
              "        cursor: pointer;\n",
              "        display: none;\n",
              "        fill: #1967D2;\n",
              "        height: 32px;\n",
              "        padding: 0 0 0 0;\n",
              "        width: 32px;\n",
              "      }\n",
              "\n",
              "      .colab-df-generate:hover {\n",
              "        background-color: #E2EBFA;\n",
              "        box-shadow: 0px 1px 2px rgba(60, 64, 67, 0.3), 0px 1px 3px 1px rgba(60, 64, 67, 0.15);\n",
              "        fill: #174EA6;\n",
              "      }\n",
              "\n",
              "      [theme=dark] .colab-df-generate {\n",
              "        background-color: #3B4455;\n",
              "        fill: #D2E3FC;\n",
              "      }\n",
              "\n",
              "      [theme=dark] .colab-df-generate:hover {\n",
              "        background-color: #434B5C;\n",
              "        box-shadow: 0px 1px 3px 1px rgba(0, 0, 0, 0.15);\n",
              "        filter: drop-shadow(0px 1px 2px rgba(0, 0, 0, 0.3));\n",
              "        fill: #FFFFFF;\n",
              "      }\n",
              "    </style>\n",
              "    <button class=\"colab-df-generate\" onclick=\"generateWithVariable('corr')\"\n",
              "            title=\"Generate code using this dataframe.\"\n",
              "            style=\"display:none;\">\n",
              "\n",
              "  <svg xmlns=\"http://www.w3.org/2000/svg\" height=\"24px\"viewBox=\"0 0 24 24\"\n",
              "       width=\"24px\">\n",
              "    <path d=\"M7,19H8.4L18.45,9,17,7.55,7,17.6ZM5,21V16.75L18.45,3.32a2,2,0,0,1,2.83,0l1.4,1.43a1.91,1.91,0,0,1,.58,1.4,1.91,1.91,0,0,1-.58,1.4L9.25,21ZM18.45,9,17,7.55Zm-12,3A5.31,5.31,0,0,0,4.9,8.1,5.31,5.31,0,0,0,1,6.5,5.31,5.31,0,0,0,4.9,4.9,5.31,5.31,0,0,0,6.5,1,5.31,5.31,0,0,0,8.1,4.9,5.31,5.31,0,0,0,12,6.5,5.46,5.46,0,0,0,6.5,12Z\"/>\n",
              "  </svg>\n",
              "    </button>\n",
              "    <script>\n",
              "      (() => {\n",
              "      const buttonEl =\n",
              "        document.querySelector('#id_5feea8fc-bd22-4ceb-82d7-e82c339ac9b6 button.colab-df-generate');\n",
              "      buttonEl.style.display =\n",
              "        google.colab.kernel.accessAllowed ? 'block' : 'none';\n",
              "\n",
              "      buttonEl.onclick = () => {\n",
              "        google.colab.notebook.generateWithVariable('corr');\n",
              "      }\n",
              "      })();\n",
              "    </script>\n",
              "  </div>\n",
              "\n",
              "    </div>\n",
              "  </div>\n"
            ],
            "application/vnd.google.colaboratory.intrinsic+json": {
              "type": "dataframe",
              "variable_name": "corr",
              "summary": "{\n  \"name\": \"corr\",\n  \"rows\": 6,\n  \"fields\": [\n    {\n      \"column\": \"wins\",\n      \"properties\": {\n        \"dtype\": \"number\",\n        \"std\": 0.18331154934126978,\n        \"min\": 0.5837125573452697,\n        \"max\": 1.0,\n        \"num_unique_values\": 6,\n        \"samples\": [\n          1.0,\n          0.867366052798558,\n          0.5837125573452697\n        ],\n        \"semantic_type\": \"\",\n        \"description\": \"\"\n      }\n    },\n    {\n      \"column\": \"games\",\n      \"properties\": {\n        \"dtype\": \"number\",\n        \"std\": 0.3005089361683127,\n        \"min\": 0.3255009044686971,\n        \"max\": 1.0,\n        \"num_unique_values\": 6,\n        \"samples\": [\n          0.867366052798558,\n          1.0,\n          0.3255009044686971\n        ],\n        \"semantic_type\": \"\",\n        \"description\": \"\"\n      }\n    },\n    {\n      \"column\": \"win_perc\",\n      \"properties\": {\n        \"dtype\": \"number\",\n        \"std\": 0.3208148906380628,\n        \"min\": 0.31060033115526814,\n        \"max\": 1.0,\n        \"num_unique_values\": 6,\n        \"samples\": [\n          0.6069024272481065,\n          0.35658835603242595,\n          0.9916630217433073\n        ],\n        \"semantic_type\": \"\",\n        \"description\": \"\"\n      }\n    },\n    {\n      \"column\": \"pts_made\",\n      \"properties\": {\n        \"dtype\": \"number\",\n        \"std\": 0.320640195243829,\n        \"min\": 0.33482923610898746,\n        \"max\": 1.0,\n        \"num_unique_values\": 6,\n        \"samples\": [\n          0.9551127378546764,\n          0.9000149960785343,\n          0.33482923610898746\n        ],\n        \"semantic_type\": \"\",\n        \"description\": \"\"\n      }\n    },\n    {\n      \"column\": \"pts_allow\",\n      \"properties\": {\n        \"dtype\": \"number\",\n        \"std\": 0.3432177991466709,\n        \"min\": 0.28612007133027195,\n        \"max\": 1.0,\n        \"num_unique_values\": 6,\n        \"samples\": [\n          0.9384929602494173,\n          0.8972784280944499,\n          0.28612007133027195\n        ],\n        \"semantic_type\": \"\",\n        \"description\": \"\"\n      }\n    },\n    {\n      \"column\": \"pyth_exp\",\n      \"properties\": {\n        \"dtype\": \"number\",\n        \"std\": 0.3337162165639752,\n        \"min\": 0.28612007133027195,\n        \"max\": 1.0,\n        \"num_unique_values\": 6,\n        \"samples\": [\n          0.5837125573452697,\n          0.3255009044686971,\n          1.0\n        ],\n        \"semantic_type\": \"\",\n        \"description\": \"\"\n      }\n    }\n  ]\n}"
            }
          },
          "metadata": {},
          "execution_count": 46
        }
      ]
    },
    {
      "cell_type": "code",
      "source": [
        "sns.heatmap(corr,cmap='plasma',linecolor='black',annot=True)"
      ],
      "metadata": {
        "colab": {
          "base_uri": "https://localhost:8080/",
          "height": 507
        },
        "id": "vO7mXjiB-BJm",
        "outputId": "ffe837bb-8ed0-4bd2-f03f-cc00a2772190"
      },
      "execution_count": null,
      "outputs": [
        {
          "output_type": "execute_result",
          "data": {
            "text/plain": [
              "<Axes: >"
            ]
          },
          "metadata": {},
          "execution_count": 88
        },
        {
          "output_type": "display_data",
          "data": {
            "text/plain": [
              "<Figure size 640x480 with 2 Axes>"
            ],
            "image/png": "[encoded data removed]"
          },
          "metadata": {}
        }
      ]
    },
    {
      "cell_type": "code",
      "execution_count": null,
      "metadata": {
        "id": "QcPSWLEw2jgs"
      },
      "outputs": [],
      "source": [
        "pyth_lm=smf.ols(formula='win_perc ~ pyth_exp', data=pyth).fit()"
      ]
    },
    {
      "cell_type": "markdown",
      "metadata": {
        "id": "EtIcgqjKWKuj"
      },
      "source": [
        "#Primeiro modo de calcular R²"
      ]
    },
    {
      "cell_type": "code",
      "execution_count": null,
      "metadata": {
        "colab": {
          "base_uri": "https://localhost:8080/"
        },
        "id": "QLEGnDsDWKHV",
        "outputId": "c360f26f-d034-47a4-f004-130c83940bcf"
      },
      "outputs": [
        {
          "output_type": "stream",
          "name": "stdout",
          "text": [
            "                            OLS Regression Results                            \n",
            "==============================================================================\n",
            "Dep. Variable:               win_perc   R-squared:                       0.983\n",
            "Model:                            OLS   Adj. R-squared:                  0.983\n",
            "Method:                 Least Squares   F-statistic:                     1658.\n",
            "Date:                Thu, 01 Aug 2024   Prob (F-statistic):           1.82e-26\n",
            "Time:                        20:31:22   Log-Likelihood:                 108.94\n",
            "No. Observations:                  30   AIC:                            -213.9\n",
            "Df Residuals:                      28   BIC:                            -211.1\n",
            "Df Model:                           1                                         \n",
            "Covariance Type:            nonrobust                                         \n",
            "==============================================================================\n",
            "                 coef    std err          t      P>|t|      [0.025      0.975]\n",
            "------------------------------------------------------------------------------\n",
            "Intercept     -2.8987      0.083    -34.773      0.000      -3.069      -2.728\n",
            "pyth_exp       6.7971      0.167     40.722      0.000       6.455       7.139\n",
            "==============================================================================\n",
            "Omnibus:                        1.216   Durbin-Watson:                   1.642\n",
            "Prob(Omnibus):                  0.545   Jarque-Bera (JB):                0.695\n",
            "Skew:                          -0.373   Prob(JB):                        0.706\n",
            "Kurtosis:                       3.023   Cond. No.                         172.\n",
            "==============================================================================\n",
            "\n",
            "Notes:\n",
            "[1] Standard Errors assume that the covariance matrix of the errors is correctly specified.\n"
          ]
        }
      ],
      "source": [
        "print(pyth_lm.summary())"
      ]
    },
    {
      "cell_type": "code",
      "source": [
        "x=pyth.pyth_exp\n",
        "y=pyth.win_perc\n",
        "SOMA_X = pyth.pyth_exp.sum()\n",
        "SOMA_Y = pyth.win_perc.sum()\n",
        "SOMA_X2 = pyth.pyth_exp.apply(lambda x: x**2).sum()\n",
        "SOMA_Y2 = pyth.win_perc.apply(lambda y: y**2).sum()\n",
        "SOMA_XY = pyth.apply(lambda data: data.pyth_exp * data.win_perc, axis = 1).sum()"
      ],
      "metadata": {
        "id": "AxVy4mRqIRDF"
      },
      "execution_count": null,
      "outputs": []
    },
    {
      "cell_type": "code",
      "source": [
        "n=30\n",
        "numerador = n * SOMA_XY - SOMA_X * SOMA_Y\n",
        "denominador = n * SOMA_X2 - (SOMA_X)**2\n",
        "beta_2 = numerador / denominador\n",
        "print(\"O coeficiente angular da reta de regressão é\",beta_2.round(2))"
      ],
      "metadata": {
        "colab": {
          "base_uri": "https://localhost:8080/"
        },
        "id": "UUa00MOVIY0t",
        "outputId": "fd43cd4e-33aa-4cf5-a2f5-3d6eb067d28b"
      },
      "execution_count": null,
      "outputs": [
        {
          "output_type": "stream",
          "name": "stdout",
          "text": [
            "O coeficiente angular da reta de regressão é 6.8\n"
          ]
        }
      ]
    },
    {
      "cell_type": "code",
      "source": [
        "beta_1 = pyth.win_perc.mean() - beta_2 * pyth.pyth_exp.mean()\n",
        "print(\"O coeficiente linear da reta de regressão é\",beta_1.round(2))"
      ],
      "metadata": {
        "colab": {
          "base_uri": "https://localhost:8080/"
        },
        "id": "j25ou5wgIo6b",
        "outputId": "c81f6e6d-9fb4-4f25-afa2-b0271f4ffddd"
      },
      "execution_count": null,
      "outputs": [
        {
          "output_type": "stream",
          "name": "stdout",
          "text": [
            "O coeficiente linear da reta de regressão é -2.9\n"
          ]
        }
      ]
    },
    {
      "cell_type": "code",
      "source": [
        "print(\"A reta de regressão é y=%.2f+%.2fx\"%(beta_1,beta_2))"
      ],
      "metadata": {
        "colab": {
          "base_uri": "https://localhost:8080/"
        },
        "id": "CBfdNzIiJ-u1",
        "outputId": "57afeaea-f8e5-43be-ee8d-a7046857625e"
      },
      "execution_count": null,
      "outputs": [
        {
          "output_type": "stream",
          "name": "stdout",
          "text": [
            "A reta de regressão é y=-2.90+6.80x\n"
          ]
        }
      ]
    },
    {
      "cell_type": "code",
      "source": [
        "def previsão(x):\n",
        "  print(\"Dada a expectativa pitagórica %.3f, a previsão da porcentagem real de vitórias é %.3f.\"%(x,beta_1 + beta_2 * x))\n",
        "previsão(0.515)"
      ],
      "metadata": {
        "colab": {
          "base_uri": "https://localhost:8080/"
        },
        "id": "iCxvz7YyL8uK",
        "outputId": "a6aacdba-2c79-4b9b-aa1d-98cafe4d606f"
      },
      "execution_count": null,
      "outputs": [
        {
          "output_type": "stream",
          "name": "stdout",
          "text": [
            "Dada a expectativa pitagórica 0.515, a previsão da porcentagem real de vitórias é 0.602.\n"
          ]
        }
      ]
    },
    {
      "cell_type": "markdown",
      "source": [
        "### Outra maneira de obter os coeficientes"
      ],
      "metadata": {
        "id": "dld6vx_Yui1C"
      }
    },
    {
      "cell_type": "code",
      "source": [
        "pyth_lm.params"
      ],
      "metadata": {
        "colab": {
          "base_uri": "https://localhost:8080/",
          "height": 147
        },
        "id": "5tzUQEGHti6X",
        "outputId": "48320725-19c4-424f-b0c8-4f12315a22d3"
      },
      "execution_count": null,
      "outputs": [
        {
          "output_type": "execute_result",
          "data": {
            "text/plain": [
              "Intercept   -2.898724\n",
              "pyth_exp     6.797114\n",
              "dtype: float64"
            ],
            "text/html": [
              "<table border=\"1\" class=\"dataframe\">\n",
              "  <thead>\n",
              "    <tr style=\"text-align: right;\">\n",
              "      <th></th>\n",
              "      <th>0</th>\n",
              "    </tr>\n",
              "  </thead>\n",
              "  <tbody>\n",
              "    <tr>\n",
              "      <th>Intercept</th>\n",
              "      <td>-2.898724</td>\n",
              "    </tr>\n",
              "    <tr>\n",
              "      <th>pyth_exp</th>\n",
              "      <td>6.797114</td>\n",
              "    </tr>\n",
              "  </tbody>\n",
              "</table><br><label><b>dtype:</b> float64</label>"
            ]
          },
          "metadata": {},
          "execution_count": 55
        }
      ]
    },
    {
      "cell_type": "markdown",
      "source": [
        "$\\beta_1$ é o intercepto, enquanto $\\beta_2$ é o pyth_exp."
      ],
      "metadata": {
        "id": "cIVZlIP6uH57"
      }
    },
    {
      "cell_type": "markdown",
      "source": [
        "### Intervalos de confiança"
      ],
      "metadata": {
        "id": "tHdTJQpOuq5C"
      }
    },
    {
      "cell_type": "code",
      "source": [
        "pyth_lm.conf_int(alpha=0.05)"
      ],
      "metadata": {
        "colab": {
          "base_uri": "https://localhost:8080/",
          "height": 112
        },
        "id": "02NY1ewnti1l",
        "outputId": "7beeaedb-02a0-4f07-8e30-272059ae3c24"
      },
      "execution_count": null,
      "outputs": [
        {
          "output_type": "execute_result",
          "data": {
            "text/plain": [
              "                  0         1\n",
              "Intercept -3.069482 -2.727966\n",
              "pyth_exp   6.455205  7.139022"
            ],
            "text/html": [
              "\n",
              "  <div id=\"df-34a7b18a-aacb-4e89-9c8e-9dd2074f3f55\" class=\"colab-df-container\">\n",
              "    <div>\n",
              "<style scoped>\n",
              "    .dataframe tbody tr th:only-of-type {\n",
              "        vertical-align: middle;\n",
              "    }\n",
              "\n",
              "    .dataframe tbody tr th {\n",
              "        vertical-align: top;\n",
              "    }\n",
              "\n",
              "    .dataframe thead th {\n",
              "        text-align: right;\n",
              "    }\n",
              "</style>\n",
              "<table border=\"1\" class=\"dataframe\">\n",
              "  <thead>\n",
              "    <tr style=\"text-align: right;\">\n",
              "      <th></th>\n",
              "      <th>0</th>\n",
              "      <th>1</th>\n",
              "    </tr>\n",
              "  </thead>\n",
              "  <tbody>\n",
              "    <tr>\n",
              "      <th>Intercept</th>\n",
              "      <td>-3.069482</td>\n",
              "      <td>-2.727966</td>\n",
              "    </tr>\n",
              "    <tr>\n",
              "      <th>pyth_exp</th>\n",
              "      <td>6.455205</td>\n",
              "      <td>7.139022</td>\n",
              "    </tr>\n",
              "  </tbody>\n",
              "</table>\n",
              "</div>\n",
              "    <div class=\"colab-df-buttons\">\n",
              "\n",
              "  <div class=\"colab-df-container\">\n",
              "    <button class=\"colab-df-convert\" onclick=\"convertToInteractive('df-34a7b18a-aacb-4e89-9c8e-9dd2074f3f55')\"\n",
              "            title=\"Convert this dataframe to an interactive table.\"\n",
              "            style=\"display:none;\">\n",
              "\n",
              "  <svg xmlns=\"http://www.w3.org/2000/svg\" height=\"24px\" viewBox=\"0 -960 960 960\">\n",
              "    <path d=\"M120-120v-720h720v720H120Zm60-500h600v-160H180v160Zm220 220h160v-160H400v160Zm0 220h160v-160H400v160ZM180-400h160v-160H180v160Zm440 0h160v-160H620v160ZM180-180h160v-160H180v160Zm440 0h160v-160H620v160Z\"/>\n",
              "  </svg>\n",
              "    </button>\n",
              "\n",
              "  <style>\n",
              "    .colab-df-container {\n",
              "      display:flex;\n",
              "      gap: 12px;\n",
              "    }\n",
              "\n",
              "    .colab-df-convert {\n",
              "      background-color: #E8F0FE;\n",
              "      border: none;\n",
              "      border-radius: 50%;\n",
              "      cursor: pointer;\n",
              "      display: none;\n",
              "      fill: #1967D2;\n",
              "      height: 32px;\n",
              "      padding: 0 0 0 0;\n",
              "      width: 32px;\n",
              "    }\n",
              "\n",
              "    .colab-df-convert:hover {\n",
              "      background-color: #E2EBFA;\n",
              "      box-shadow: 0px 1px 2px rgba(60, 64, 67, 0.3), 0px 1px 3px 1px rgba(60, 64, 67, 0.15);\n",
              "      fill: #174EA6;\n",
              "    }\n",
              "\n",
              "    .colab-df-buttons div {\n",
              "      margin-bottom: 4px;\n",
              "    }\n",
              "\n",
              "    [theme=dark] .colab-df-convert {\n",
              "      background-color: #3B4455;\n",
              "      fill: #D2E3FC;\n",
              "    }\n",
              "\n",
              "    [theme=dark] .colab-df-convert:hover {\n",
              "      background-color: #434B5C;\n",
              "      box-shadow: 0px 1px 3px 1px rgba(0, 0, 0, 0.15);\n",
              "      filter: drop-shadow(0px 1px 2px rgba(0, 0, 0, 0.3));\n",
              "      fill: #FFFFFF;\n",
              "    }\n",
              "  </style>\n",
              "\n",
              "    <script>\n",
              "      const buttonEl =\n",
              "        document.querySelector('#df-34a7b18a-aacb-4e89-9c8e-9dd2074f3f55 button.colab-df-convert');\n",
              "      buttonEl.style.display =\n",
              "        google.colab.kernel.accessAllowed ? 'block' : 'none';\n",
              "\n",
              "      async function convertToInteractive(key) {\n",
              "        const element = document.querySelector('#df-34a7b18a-aacb-4e89-9c8e-9dd2074f3f55');\n",
              "        const dataTable =\n",
              "          await google.colab.kernel.invokeFunction('convertToInteractive',\n",
              "                                                    [key], {});\n",
              "        if (!dataTable) return;\n",
              "\n",
              "        const docLinkHtml = 'Like what you see? Visit the ' +\n",
              "          '<a target=\"_blank\" href=https://colab.research.google.com/notebooks/data_table.ipynb>data table notebook</a>'\n",
              "          + ' to learn more about interactive tables.';\n",
              "        element.innerHTML = '';\n",
              "        dataTable['output_type'] = 'display_data';\n",
              "        await google.colab.output.renderOutput(dataTable, element);\n",
              "        const docLink = document.createElement('div');\n",
              "        docLink.innerHTML = docLinkHtml;\n",
              "        element.appendChild(docLink);\n",
              "      }\n",
              "    </script>\n",
              "  </div>\n",
              "\n",
              "\n",
              "<div id=\"df-3c8bc3ce-8bb7-4830-b8f0-6c2a66888770\">\n",
              "  <button class=\"colab-df-quickchart\" onclick=\"quickchart('df-3c8bc3ce-8bb7-4830-b8f0-6c2a66888770')\"\n",
              "            title=\"Suggest charts\"\n",
              "            style=\"display:none;\">\n",
              "\n",
              "<svg xmlns=\"http://www.w3.org/2000/svg\" height=\"24px\"viewBox=\"0 0 24 24\"\n",
              "     width=\"24px\">\n",
              "    <g>\n",
              "        <path d=\"M19 3H5c-1.1 0-2 .9-2 2v14c0 1.1.9 2 2 2h14c1.1 0 2-.9 2-2V5c0-1.1-.9-2-2-2zM9 17H7v-7h2v7zm4 0h-2V7h2v10zm4 0h-2v-4h2v4z\"/>\n",
              "    </g>\n",
              "</svg>\n",
              "  </button>\n",
              "\n",
              "<style>\n",
              "  .colab-df-quickchart {\n",
              "      --bg-color: #E8F0FE;\n",
              "      --fill-color: #1967D2;\n",
              "      --hover-bg-color: #E2EBFA;\n",
              "      --hover-fill-color: #174EA6;\n",
              "      --disabled-fill-color: #AAA;\n",
              "      --disabled-bg-color: #DDD;\n",
              "  }\n",
              "\n",
              "  [theme=dark] .colab-df-quickchart {\n",
              "      --bg-color: #3B4455;\n",
              "      --fill-color: #D2E3FC;\n",
              "      --hover-bg-color: #434B5C;\n",
              "      --hover-fill-color: #FFFFFF;\n",
              "      --disabled-bg-color: #3B4455;\n",
              "      --disabled-fill-color: #666;\n",
              "  }\n",
              "\n",
              "  .colab-df-quickchart {\n",
              "    background-color: var(--bg-color);\n",
              "    border: none;\n",
              "    border-radius: 50%;\n",
              "    cursor: pointer;\n",
              "    display: none;\n",
              "    fill: var(--fill-color);\n",
              "    height: 32px;\n",
              "    padding: 0;\n",
              "    width: 32px;\n",
              "  }\n",
              "\n",
              "  .colab-df-quickchart:hover {\n",
              "    background-color: var(--hover-bg-color);\n",
              "    box-shadow: 0 1px 2px rgba(60, 64, 67, 0.3), 0 1px 3px 1px rgba(60, 64, 67, 0.15);\n",
              "    fill: var(--button-hover-fill-color);\n",
              "  }\n",
              "\n",
              "  .colab-df-quickchart-complete:disabled,\n",
              "  .colab-df-quickchart-complete:disabled:hover {\n",
              "    background-color: var(--disabled-bg-color);\n",
              "    fill: var(--disabled-fill-color);\n",
              "    box-shadow: none;\n",
              "  }\n",
              "\n",
              "  .colab-df-spinner {\n",
              "    border: 2px solid var(--fill-color);\n",
              "    border-color: transparent;\n",
              "    border-bottom-color: var(--fill-color);\n",
              "    animation:\n",
              "      spin 1s steps(1) infinite;\n",
              "  }\n",
              "\n",
              "  @keyframes spin {\n",
              "    0% {\n",
              "      border-color: transparent;\n",
              "      border-bottom-color: var(--fill-color);\n",
              "      border-left-color: var(--fill-color);\n",
              "    }\n",
              "    20% {\n",
              "      border-color: transparent;\n",
              "      border-left-color: var(--fill-color);\n",
              "      border-top-color: var(--fill-color);\n",
              "    }\n",
              "    30% {\n",
              "      border-color: transparent;\n",
              "      border-left-color: var(--fill-color);\n",
              "      border-top-color: var(--fill-color);\n",
              "      border-right-color: var(--fill-color);\n",
              "    }\n",
              "    40% {\n",
              "      border-color: transparent;\n",
              "      border-right-color: var(--fill-color);\n",
              "      border-top-color: var(--fill-color);\n",
              "    }\n",
              "    60% {\n",
              "      border-color: transparent;\n",
              "      border-right-color: var(--fill-color);\n",
              "    }\n",
              "    80% {\n",
              "      border-color: transparent;\n",
              "      border-right-color: var(--fill-color);\n",
              "      border-bottom-color: var(--fill-color);\n",
              "    }\n",
              "    90% {\n",
              "      border-color: transparent;\n",
              "      border-bottom-color: var(--fill-color);\n",
              "    }\n",
              "  }\n",
              "</style>\n",
              "\n",
              "  <script>\n",
              "    async function quickchart(key) {\n",
              "      const quickchartButtonEl =\n",
              "        document.querySelector('#' + key + ' button');\n",
              "      quickchartButtonEl.disabled = true;  // To prevent multiple clicks.\n",
              "      quickchartButtonEl.classList.add('colab-df-spinner');\n",
              "      try {\n",
              "        const charts = await google.colab.kernel.invokeFunction(\n",
              "            'suggestCharts', [key], {});\n",
              "      } catch (error) {\n",
              "        console.error('Error during call to suggestCharts:', error);\n",
              "      }\n",
              "      quickchartButtonEl.classList.remove('colab-df-spinner');\n",
              "      quickchartButtonEl.classList.add('colab-df-quickchart-complete');\n",
              "    }\n",
              "    (() => {\n",
              "      let quickchartButtonEl =\n",
              "        document.querySelector('#df-3c8bc3ce-8bb7-4830-b8f0-6c2a66888770 button');\n",
              "      quickchartButtonEl.style.display =\n",
              "        google.colab.kernel.accessAllowed ? 'block' : 'none';\n",
              "    })();\n",
              "  </script>\n",
              "</div>\n",
              "\n",
              "    </div>\n",
              "  </div>\n"
            ],
            "application/vnd.google.colaboratory.intrinsic+json": {
              "type": "dataframe",
              "summary": "{\n  \"name\": \"pyth_lm\",\n  \"rows\": 2,\n  \"fields\": [\n    {\n      \"column\": 0,\n      \"properties\": {\n        \"dtype\": \"number\",\n        \"std\": 6.73497068739921,\n        \"min\": -3.069481908892614,\n        \"max\": 6.455204979412596,\n        \"num_unique_values\": 2,\n        \"samples\": [\n          6.455204979412596,\n          -3.069481908892614\n        ],\n        \"semantic_type\": \"\",\n        \"description\": \"\"\n      }\n    },\n    {\n      \"column\": 1,\n      \"properties\": {\n        \"dtype\": \"number\",\n        \"std\": 6.977014067349985,\n        \"min\": -2.727965883116398,\n        \"max\": 7.139022035797822,\n        \"num_unique_values\": 2,\n        \"samples\": [\n          7.139022035797822,\n          -2.727965883116398\n        ],\n        \"semantic_type\": \"\",\n        \"description\": \"\"\n      }\n    }\n  ]\n}"
            }
          },
          "metadata": {},
          "execution_count": 56
        }
      ]
    },
    {
      "cell_type": "markdown",
      "source": [
        "A um nível de 95%, o intervalo de confiança de $\\beta_1$ é [-3.07, -2.73], enquanto o de $\\beta_2$ é [6.46, 7.14]."
      ],
      "metadata": {
        "id": "hj5z034Su4T6"
      }
    },
    {
      "cell_type": "markdown",
      "source": [
        "### Previsões no *dataframe*"
      ],
      "metadata": {
        "id": "GzMV0mJJvl__"
      }
    },
    {
      "cell_type": "code",
      "source": [
        "pyth.insert(pyth.columns.get_loc(\"pts_made\"), 'prev_win_perc', (pyth_lm.predict()).round(4))\n",
        "pyth"
      ],
      "metadata": {
        "colab": {
          "base_uri": "https://localhost:8080/",
          "height": 1000
        },
        "id": "-ulZ0w_WvkCo",
        "outputId": "c68257a9-c1f3-479e-873b-5c8304a12850"
      },
      "execution_count": null,
      "outputs": [
        {
          "output_type": "execute_result",
          "data": {
            "text/plain": [
              "      wins  games  win_perc  prev_win_perc  pts_made  pts_allow  pyth_exp\n",
              "team                                                                     \n",
              "ATL   2583   5189    0.4978         0.4917    531868     533111    0.4988\n",
              "BKN   1551   3622    0.4282         0.4278    369031     376958    0.4894\n",
              "BOS   3105   5256    0.5908         0.5916    554328     539600    0.5135\n",
              "CHA   1132   2549    0.4441         0.4346    256910     261911    0.4904\n",
              "CHI   2147   4189    0.5125         0.5114    429550     428070    0.5017\n",
              "CLE   1853   3943    0.4699         0.4686    399130     402790    0.4954\n",
              "DAL   1706   3379    0.5049         0.5026    350205     349939    0.5004\n",
              "DEN   1790   3623    0.4941         0.4842    389525     391353    0.4977\n",
              "DET   2484   5225    0.4754         0.4767    532200     535839    0.4966\n",
              "GSW   2476   5247    0.4719         0.4754    555153     559188    0.4964\n",
              "HOU   2154   4196    0.5133         0.5134    441320     439578    0.5020\n",
              "IND   1798   3623    0.4963         0.5060    374059     373393    0.5009\n",
              "LAC   1638   3950    0.4147         0.4074    407568     418822    0.4864\n",
              "LAL   3100   5233    0.5924         0.5800    556559     543548    0.5118\n",
              "MEM    915   2147    0.4262         0.4257    212327     216995    0.4891\n",
              "MIA   1409   2721    0.5178         0.5107    269527     268667    0.5016\n",
              "MIL   2168   4115    0.5269         0.5406    431182     426042    0.5060\n",
              "MIN   1060   2630    0.4030         0.4176    265117     271632    0.4879\n",
              "NOP    755   1604    0.4707         0.4733    162833     164107    0.4961\n",
              "NYK   2524   2525    0.4806         0.4849    535672     538020    0.4978\n",
              "OKC   2232   4196    0.5319         0.5297    442762     438854    0.5044\n",
              "ORL   1248   2639    0.4729         0.4733    266933     269012    0.4961\n",
              "PHI   2658   5190    0.5121         0.5053    539556     538683    0.5008\n",
              "PHX   2231   4115    0.5422         0.5454    444019     438076    0.5067\n",
              "POR   2123   3952    0.5372         0.5399    414827     409947    0.5059\n",
              "SAC   2361   5230    0.4514         0.4489    546276     554560    0.4925\n",
              "SAS   2181   3621    0.6023         0.6004    380542     369416    0.5148\n",
              "TOR   1037   2146    0.4832         0.4937    216600     216982    0.4991\n",
              "UTA   2030   3704    0.5481         0.5522    383725     377880    0.5077\n",
              "WAS   2052   4516    0.4544         0.4543    471509     477840    0.4933"
            ],
            "text/html": [
              "\n",
              "  <div id=\"df-de4d83bf-0ac0-44e5-b787-72822a5fc77e\" class=\"colab-df-container\">\n",
              "    <div>\n",
              "<style scoped>\n",
              "    .dataframe tbody tr th:only-of-type {\n",
              "        vertical-align: middle;\n",
              "    }\n",
              "\n",
              "    .dataframe tbody tr th {\n",
              "        vertical-align: top;\n",
              "    }\n",
              "\n",
              "    .dataframe thead th {\n",
              "        text-align: right;\n",
              "    }\n",
              "</style>\n",
              "<table border=\"1\" class=\"dataframe\">\n",
              "  <thead>\n",
              "    <tr style=\"text-align: right;\">\n",
              "      <th></th>\n",
              "      <th>wins</th>\n",
              "      <th>games</th>\n",
              "      <th>win_perc</th>\n",
              "      <th>prev_win_perc</th>\n",
              "      <th>pts_made</th>\n",
              "      <th>pts_allow</th>\n",
              "      <th>pyth_exp</th>\n",
              "    </tr>\n",
              "    <tr>\n",
              "      <th>team</th>\n",
              "      <th></th>\n",
              "      <th></th>\n",
              "      <th></th>\n",
              "      <th></th>\n",
              "      <th></th>\n",
              "      <th></th>\n",
              "      <th></th>\n",
              "    </tr>\n",
              "  </thead>\n",
              "  <tbody>\n",
              "    <tr>\n",
              "      <th>ATL</th>\n",
              "      <td>2583</td>\n",
              "      <td>5189</td>\n",
              "      <td>0.4978</td>\n",
              "      <td>0.4917</td>\n",
              "      <td>531868</td>\n",
              "      <td>533111</td>\n",
              "      <td>0.4988</td>\n",
              "    </tr>\n",
              "    <tr>\n",
              "      <th>BKN</th>\n",
              "      <td>1551</td>\n",
              "      <td>3622</td>\n",
              "      <td>0.4282</td>\n",
              "      <td>0.4278</td>\n",
              "      <td>369031</td>\n",
              "      <td>376958</td>\n",
              "      <td>0.4894</td>\n",
              "    </tr>\n",
              "    <tr>\n",
              "      <th>BOS</th>\n",
              "      <td>3105</td>\n",
              "      <td>5256</td>\n",
              "      <td>0.5908</td>\n",
              "      <td>0.5916</td>\n",
              "      <td>554328</td>\n",
              "      <td>539600</td>\n",
              "      <td>0.5135</td>\n",
              "    </tr>\n",
              "    <tr>\n",
              "      <th>CHA</th>\n",
              "      <td>1132</td>\n",
              "      <td>2549</td>\n",
              "      <td>0.4441</td>\n",
              "      <td>0.4346</td>\n",
              "      <td>256910</td>\n",
              "      <td>261911</td>\n",
              "      <td>0.4904</td>\n",
              "    </tr>\n",
              "    <tr>\n",
              "      <th>CHI</th>\n",
              "      <td>2147</td>\n",
              "      <td>4189</td>\n",
              "      <td>0.5125</td>\n",
              "      <td>0.5114</td>\n",
              "      <td>429550</td>\n",
              "      <td>428070</td>\n",
              "      <td>0.5017</td>\n",
              "    </tr>\n",
              "    <tr>\n",
              "      <th>CLE</th>\n",
              "      <td>1853</td>\n",
              "      <td>3943</td>\n",
              "      <td>0.4699</td>\n",
              "      <td>0.4686</td>\n",
              "      <td>399130</td>\n",
              "      <td>402790</td>\n",
              "      <td>0.4954</td>\n",
              "    </tr>\n",
              "    <tr>\n",
              "      <th>DAL</th>\n",
              "      <td>1706</td>\n",
              "      <td>3379</td>\n",
              "      <td>0.5049</td>\n",
              "      <td>0.5026</td>\n",
              "      <td>350205</td>\n",
              "      <td>349939</td>\n",
              "      <td>0.5004</td>\n",
              "    </tr>\n",
              "    <tr>\n",
              "      <th>DEN</th>\n",
              "      <td>1790</td>\n",
              "      <td>3623</td>\n",
              "      <td>0.4941</td>\n",
              "      <td>0.4842</td>\n",
              "      <td>389525</td>\n",
              "      <td>391353</td>\n",
              "      <td>0.4977</td>\n",
              "    </tr>\n",
              "    <tr>\n",
              "      <th>DET</th>\n",
              "      <td>2484</td>\n",
              "      <td>5225</td>\n",
              "      <td>0.4754</td>\n",
              "      <td>0.4767</td>\n",
              "      <td>532200</td>\n",
              "      <td>535839</td>\n",
              "      <td>0.4966</td>\n",
              "    </tr>\n",
              "    <tr>\n",
              "      <th>GSW</th>\n",
              "      <td>2476</td>\n",
              "      <td>5247</td>\n",
              "      <td>0.4719</td>\n",
              "      <td>0.4754</td>\n",
              "      <td>555153</td>\n",
              "      <td>559188</td>\n",
              "      <td>0.4964</td>\n",
              "    </tr>\n",
              "    <tr>\n",
              "      <th>HOU</th>\n",
              "      <td>2154</td>\n",
              "      <td>4196</td>\n",
              "      <td>0.5133</td>\n",
              "      <td>0.5134</td>\n",
              "      <td>441320</td>\n",
              "      <td>439578</td>\n",
              "      <td>0.5020</td>\n",
              "    </tr>\n",
              "    <tr>\n",
              "      <th>IND</th>\n",
              "      <td>1798</td>\n",
              "      <td>3623</td>\n",
              "      <td>0.4963</td>\n",
              "      <td>0.5060</td>\n",
              "      <td>374059</td>\n",
              "      <td>373393</td>\n",
              "      <td>0.5009</td>\n",
              "    </tr>\n",
              "    <tr>\n",
              "      <th>LAC</th>\n",
              "      <td>1638</td>\n",
              "      <td>3950</td>\n",
              "      <td>0.4147</td>\n",
              "      <td>0.4074</td>\n",
              "      <td>407568</td>\n",
              "      <td>418822</td>\n",
              "      <td>0.4864</td>\n",
              "    </tr>\n",
              "    <tr>\n",
              "      <th>LAL</th>\n",
              "      <td>3100</td>\n",
              "      <td>5233</td>\n",
              "      <td>0.5924</td>\n",
              "      <td>0.5800</td>\n",
              "      <td>556559</td>\n",
              "      <td>543548</td>\n",
              "      <td>0.5118</td>\n",
              "    </tr>\n",
              "    <tr>\n",
              "      <th>MEM</th>\n",
              "      <td>915</td>\n",
              "      <td>2147</td>\n",
              "      <td>0.4262</td>\n",
              "      <td>0.4257</td>\n",
              "      <td>212327</td>\n",
              "      <td>216995</td>\n",
              "      <td>0.4891</td>\n",
              "    </tr>\n",
              "    <tr>\n",
              "      <th>MIA</th>\n",
              "      <td>1409</td>\n",
              "      <td>2721</td>\n",
              "      <td>0.5178</td>\n",
              "      <td>0.5107</td>\n",
              "      <td>269527</td>\n",
              "      <td>268667</td>\n",
              "      <td>0.5016</td>\n",
              "    </tr>\n",
              "    <tr>\n",
              "      <th>MIL</th>\n",
              "      <td>2168</td>\n",
              "      <td>4115</td>\n",
              "      <td>0.5269</td>\n",
              "      <td>0.5406</td>\n",
              "      <td>431182</td>\n",
              "      <td>426042</td>\n",
              "      <td>0.5060</td>\n",
              "    </tr>\n",
              "    <tr>\n",
              "      <th>MIN</th>\n",
              "      <td>1060</td>\n",
              "      <td>2630</td>\n",
              "      <td>0.4030</td>\n",
              "      <td>0.4176</td>\n",
              "      <td>265117</td>\n",
              "      <td>271632</td>\n",
              "      <td>0.4879</td>\n",
              "    </tr>\n",
              "    <tr>\n",
              "      <th>NOP</th>\n",
              "      <td>755</td>\n",
              "      <td>1604</td>\n",
              "      <td>0.4707</td>\n",
              "      <td>0.4733</td>\n",
              "      <td>162833</td>\n",
              "      <td>164107</td>\n",
              "      <td>0.4961</td>\n",
              "    </tr>\n",
              "    <tr>\n",
              "      <th>NYK</th>\n",
              "      <td>2524</td>\n",
              "      <td>2525</td>\n",
              "      <td>0.4806</td>\n",
              "      <td>0.4849</td>\n",
              "      <td>535672</td>\n",
              "      <td>538020</td>\n",
              "      <td>0.4978</td>\n",
              "    </tr>\n",
              "    <tr>\n",
              "      <th>OKC</th>\n",
              "      <td>2232</td>\n",
              "      <td>4196</td>\n",
              "      <td>0.5319</td>\n",
              "      <td>0.5297</td>\n",
              "      <td>442762</td>\n",
              "      <td>438854</td>\n",
              "      <td>0.5044</td>\n",
              "    </tr>\n",
              "    <tr>\n",
              "      <th>ORL</th>\n",
              "      <td>1248</td>\n",
              "      <td>2639</td>\n",
              "      <td>0.4729</td>\n",
              "      <td>0.4733</td>\n",
              "      <td>266933</td>\n",
              "      <td>269012</td>\n",
              "      <td>0.4961</td>\n",
              "    </tr>\n",
              "    <tr>\n",
              "      <th>PHI</th>\n",
              "      <td>2658</td>\n",
              "      <td>5190</td>\n",
              "      <td>0.5121</td>\n",
              "      <td>0.5053</td>\n",
              "      <td>539556</td>\n",
              "      <td>538683</td>\n",
              "      <td>0.5008</td>\n",
              "    </tr>\n",
              "    <tr>\n",
              "      <th>PHX</th>\n",
              "      <td>2231</td>\n",
              "      <td>4115</td>\n",
              "      <td>0.5422</td>\n",
              "      <td>0.5454</td>\n",
              "      <td>444019</td>\n",
              "      <td>438076</td>\n",
              "      <td>0.5067</td>\n",
              "    </tr>\n",
              "    <tr>\n",
              "      <th>POR</th>\n",
              "      <td>2123</td>\n",
              "      <td>3952</td>\n",
              "      <td>0.5372</td>\n",
              "      <td>0.5399</td>\n",
              "      <td>414827</td>\n",
              "      <td>409947</td>\n",
              "      <td>0.5059</td>\n",
              "    </tr>\n",
              "    <tr>\n",
              "      <th>SAC</th>\n",
              "      <td>2361</td>\n",
              "      <td>5230</td>\n",
              "      <td>0.4514</td>\n",
              "      <td>0.4489</td>\n",
              "      <td>546276</td>\n",
              "      <td>554560</td>\n",
              "      <td>0.4925</td>\n",
              "    </tr>\n",
              "    <tr>\n",
              "      <th>SAS</th>\n",
              "      <td>2181</td>\n",
              "      <td>3621</td>\n",
              "      <td>0.6023</td>\n",
              "      <td>0.6004</td>\n",
              "      <td>380542</td>\n",
              "      <td>369416</td>\n",
              "      <td>0.5148</td>\n",
              "    </tr>\n",
              "    <tr>\n",
              "      <th>TOR</th>\n",
              "      <td>1037</td>\n",
              "      <td>2146</td>\n",
              "      <td>0.4832</td>\n",
              "      <td>0.4937</td>\n",
              "      <td>216600</td>\n",
              "      <td>216982</td>\n",
              "      <td>0.4991</td>\n",
              "    </tr>\n",
              "    <tr>\n",
              "      <th>UTA</th>\n",
              "      <td>2030</td>\n",
              "      <td>3704</td>\n",
              "      <td>0.5481</td>\n",
              "      <td>0.5522</td>\n",
              "      <td>383725</td>\n",
              "      <td>377880</td>\n",
              "      <td>0.5077</td>\n",
              "    </tr>\n",
              "    <tr>\n",
              "      <th>WAS</th>\n",
              "      <td>2052</td>\n",
              "      <td>4516</td>\n",
              "      <td>0.4544</td>\n",
              "      <td>0.4543</td>\n",
              "      <td>471509</td>\n",
              "      <td>477840</td>\n",
              "      <td>0.4933</td>\n",
              "    </tr>\n",
              "  </tbody>\n",
              "</table>\n",
              "</div>\n",
              "    <div class=\"colab-df-buttons\">\n",
              "\n",
              "  <div class=\"colab-df-container\">\n",
              "    <button class=\"colab-df-convert\" onclick=\"convertToInteractive('df-de4d83bf-0ac0-44e5-b787-72822a5fc77e')\"\n",
              "            title=\"Convert this dataframe to an interactive table.\"\n",
              "            style=\"display:none;\">\n",
              "\n",
              "  <svg xmlns=\"http://www.w3.org/2000/svg\" height=\"24px\" viewBox=\"0 -960 960 960\">\n",
              "    <path d=\"M120-120v-720h720v720H120Zm60-500h600v-160H180v160Zm220 220h160v-160H400v160Zm0 220h160v-160H400v160ZM180-400h160v-160H180v160Zm440 0h160v-160H620v160ZM180-180h160v-160H180v160Zm440 0h160v-160H620v160Z\"/>\n",
              "  </svg>\n",
              "    </button>\n",
              "\n",
              "  <style>\n",
              "    .colab-df-container {\n",
              "      display:flex;\n",
              "      gap: 12px;\n",
              "    }\n",
              "\n",
              "    .colab-df-convert {\n",
              "      background-color: #E8F0FE;\n",
              "      border: none;\n",
              "      border-radius: 50%;\n",
              "      cursor: pointer;\n",
              "      display: none;\n",
              "      fill: #1967D2;\n",
              "      height: 32px;\n",
              "      padding: 0 0 0 0;\n",
              "      width: 32px;\n",
              "    }\n",
              "\n",
              "    .colab-df-convert:hover {\n",
              "      background-color: #E2EBFA;\n",
              "      box-shadow: 0px 1px 2px rgba(60, 64, 67, 0.3), 0px 1px 3px 1px rgba(60, 64, 67, 0.15);\n",
              "      fill: #174EA6;\n",
              "    }\n",
              "\n",
              "    .colab-df-buttons div {\n",
              "      margin-bottom: 4px;\n",
              "    }\n",
              "\n",
              "    [theme=dark] .colab-df-convert {\n",
              "      background-color: #3B4455;\n",
              "      fill: #D2E3FC;\n",
              "    }\n",
              "\n",
              "    [theme=dark] .colab-df-convert:hover {\n",
              "      background-color: #434B5C;\n",
              "      box-shadow: 0px 1px 3px 1px rgba(0, 0, 0, 0.15);\n",
              "      filter: drop-shadow(0px 1px 2px rgba(0, 0, 0, 0.3));\n",
              "      fill: #FFFFFF;\n",
              "    }\n",
              "  </style>\n",
              "\n",
              "    <script>\n",
              "      const buttonEl =\n",
              "        document.querySelector('#df-de4d83bf-0ac0-44e5-b787-72822a5fc77e button.colab-df-convert');\n",
              "      buttonEl.style.display =\n",
              "        google.colab.kernel.accessAllowed ? 'block' : 'none';\n",
              "\n",
              "      async function convertToInteractive(key) {\n",
              "        const element = document.querySelector('#df-de4d83bf-0ac0-44e5-b787-72822a5fc77e');\n",
              "        const dataTable =\n",
              "          await google.colab.kernel.invokeFunction('convertToInteractive',\n",
              "                                                    [key], {});\n",
              "        if (!dataTable) return;\n",
              "\n",
              "        const docLinkHtml = 'Like what you see? Visit the ' +\n",
              "          '<a target=\"_blank\" href=https://colab.research.google.com/notebooks/data_table.ipynb>data table notebook</a>'\n",
              "          + ' to learn more about interactive tables.';\n",
              "        element.innerHTML = '';\n",
              "        dataTable['output_type'] = 'display_data';\n",
              "        await google.colab.output.renderOutput(dataTable, element);\n",
              "        const docLink = document.createElement('div');\n",
              "        docLink.innerHTML = docLinkHtml;\n",
              "        element.appendChild(docLink);\n",
              "      }\n",
              "    </script>\n",
              "  </div>\n",
              "\n",
              "\n",
              "<div id=\"df-c45eb0c0-2c25-4d95-bfd4-d6d091df42a2\">\n",
              "  <button class=\"colab-df-quickchart\" onclick=\"quickchart('df-c45eb0c0-2c25-4d95-bfd4-d6d091df42a2')\"\n",
              "            title=\"Suggest charts\"\n",
              "            style=\"display:none;\">\n",
              "\n",
              "<svg xmlns=\"http://www.w3.org/2000/svg\" height=\"24px\"viewBox=\"0 0 24 24\"\n",
              "     width=\"24px\">\n",
              "    <g>\n",
              "        <path d=\"M19 3H5c-1.1 0-2 .9-2 2v14c0 1.1.9 2 2 2h14c1.1 0 2-.9 2-2V5c0-1.1-.9-2-2-2zM9 17H7v-7h2v7zm4 0h-2V7h2v10zm4 0h-2v-4h2v4z\"/>\n",
              "    </g>\n",
              "</svg>\n",
              "  </button>\n",
              "\n",
              "<style>\n",
              "  .colab-df-quickchart {\n",
              "      --bg-color: #E8F0FE;\n",
              "      --fill-color: #1967D2;\n",
              "      --hover-bg-color: #E2EBFA;\n",
              "      --hover-fill-color: #174EA6;\n",
              "      --disabled-fill-color: #AAA;\n",
              "      --disabled-bg-color: #DDD;\n",
              "  }\n",
              "\n",
              "  [theme=dark] .colab-df-quickchart {\n",
              "      --bg-color: #3B4455;\n",
              "      --fill-color: #D2E3FC;\n",
              "      --hover-bg-color: #434B5C;\n",
              "      --hover-fill-color: #FFFFFF;\n",
              "      --disabled-bg-color: #3B4455;\n",
              "      --disabled-fill-color: #666;\n",
              "  }\n",
              "\n",
              "  .colab-df-quickchart {\n",
              "    background-color: var(--bg-color);\n",
              "    border: none;\n",
              "    border-radius: 50%;\n",
              "    cursor: pointer;\n",
              "    display: none;\n",
              "    fill: var(--fill-color);\n",
              "    height: 32px;\n",
              "    padding: 0;\n",
              "    width: 32px;\n",
              "  }\n",
              "\n",
              "  .colab-df-quickchart:hover {\n",
              "    background-color: var(--hover-bg-color);\n",
              "    box-shadow: 0 1px 2px rgba(60, 64, 67, 0.3), 0 1px 3px 1px rgba(60, 64, 67, 0.15);\n",
              "    fill: var(--button-hover-fill-color);\n",
              "  }\n",
              "\n",
              "  .colab-df-quickchart-complete:disabled,\n",
              "  .colab-df-quickchart-complete:disabled:hover {\n",
              "    background-color: var(--disabled-bg-color);\n",
              "    fill: var(--disabled-fill-color);\n",
              "    box-shadow: none;\n",
              "  }\n",
              "\n",
              "  .colab-df-spinner {\n",
              "    border: 2px solid var(--fill-color);\n",
              "    border-color: transparent;\n",
              "    border-bottom-color: var(--fill-color);\n",
              "    animation:\n",
              "      spin 1s steps(1) infinite;\n",
              "  }\n",
              "\n",
              "  @keyframes spin {\n",
              "    0% {\n",
              "      border-color: transparent;\n",
              "      border-bottom-color: var(--fill-color);\n",
              "      border-left-color: var(--fill-color);\n",
              "    }\n",
              "    20% {\n",
              "      border-color: transparent;\n",
              "      border-left-color: var(--fill-color);\n",
              "      border-top-color: var(--fill-color);\n",
              "    }\n",
              "    30% {\n",
              "      border-color: transparent;\n",
              "      border-left-color: var(--fill-color);\n",
              "      border-top-color: var(--fill-color);\n",
              "      border-right-color: var(--fill-color);\n",
              "    }\n",
              "    40% {\n",
              "      border-color: transparent;\n",
              "      border-right-color: var(--fill-color);\n",
              "      border-top-color: var(--fill-color);\n",
              "    }\n",
              "    60% {\n",
              "      border-color: transparent;\n",
              "      border-right-color: var(--fill-color);\n",
              "    }\n",
              "    80% {\n",
              "      border-color: transparent;\n",
              "      border-right-color: var(--fill-color);\n",
              "      border-bottom-color: var(--fill-color);\n",
              "    }\n",
              "    90% {\n",
              "      border-color: transparent;\n",
              "      border-bottom-color: var(--fill-color);\n",
              "    }\n",
              "  }\n",
              "</style>\n",
              "\n",
              "  <script>\n",
              "    async function quickchart(key) {\n",
              "      const quickchartButtonEl =\n",
              "        document.querySelector('#' + key + ' button');\n",
              "      quickchartButtonEl.disabled = true;  // To prevent multiple clicks.\n",
              "      quickchartButtonEl.classList.add('colab-df-spinner');\n",
              "      try {\n",
              "        const charts = await google.colab.kernel.invokeFunction(\n",
              "            'suggestCharts', [key], {});\n",
              "      } catch (error) {\n",
              "        console.error('Error during call to suggestCharts:', error);\n",
              "      }\n",
              "      quickchartButtonEl.classList.remove('colab-df-spinner');\n",
              "      quickchartButtonEl.classList.add('colab-df-quickchart-complete');\n",
              "    }\n",
              "    (() => {\n",
              "      let quickchartButtonEl =\n",
              "        document.querySelector('#df-c45eb0c0-2c25-4d95-bfd4-d6d091df42a2 button');\n",
              "      quickchartButtonEl.style.display =\n",
              "        google.colab.kernel.accessAllowed ? 'block' : 'none';\n",
              "    })();\n",
              "  </script>\n",
              "</div>\n",
              "\n",
              "  <div id=\"id_47d22b97-6214-416d-969d-6a987fd9590d\">\n",
              "    <style>\n",
              "      .colab-df-generate {\n",
              "        background-color: #E8F0FE;\n",
              "        border: none;\n",
              "        border-radius: 50%;\n",
              "        cursor: pointer;\n",
              "        display: none;\n",
              "        fill: #1967D2;\n",
              "        height: 32px;\n",
              "        padding: 0 0 0 0;\n",
              "        width: 32px;\n",
              "      }\n",
              "\n",
              "      .colab-df-generate:hover {\n",
              "        background-color: #E2EBFA;\n",
              "        box-shadow: 0px 1px 2px rgba(60, 64, 67, 0.3), 0px 1px 3px 1px rgba(60, 64, 67, 0.15);\n",
              "        fill: #174EA6;\n",
              "      }\n",
              "\n",
              "      [theme=dark] .colab-df-generate {\n",
              "        background-color: #3B4455;\n",
              "        fill: #D2E3FC;\n",
              "      }\n",
              "\n",
              "      [theme=dark] .colab-df-generate:hover {\n",
              "        background-color: #434B5C;\n",
              "        box-shadow: 0px 1px 3px 1px rgba(0, 0, 0, 0.15);\n",
              "        filter: drop-shadow(0px 1px 2px rgba(0, 0, 0, 0.3));\n",
              "        fill: #FFFFFF;\n",
              "      }\n",
              "    </style>\n",
              "    <button class=\"colab-df-generate\" onclick=\"generateWithVariable('pyth')\"\n",
              "            title=\"Generate code using this dataframe.\"\n",
              "            style=\"display:none;\">\n",
              "\n",
              "  <svg xmlns=\"http://www.w3.org/2000/svg\" height=\"24px\"viewBox=\"0 0 24 24\"\n",
              "       width=\"24px\">\n",
              "    <path d=\"M7,19H8.4L18.45,9,17,7.55,7,17.6ZM5,21V16.75L18.45,3.32a2,2,0,0,1,2.83,0l1.4,1.43a1.91,1.91,0,0,1,.58,1.4,1.91,1.91,0,0,1-.58,1.4L9.25,21ZM18.45,9,17,7.55Zm-12,3A5.31,5.31,0,0,0,4.9,8.1,5.31,5.31,0,0,0,1,6.5,5.31,5.31,0,0,0,4.9,4.9,5.31,5.31,0,0,0,6.5,1,5.31,5.31,0,0,0,8.1,4.9,5.31,5.31,0,0,0,12,6.5,5.46,5.46,0,0,0,6.5,12Z\"/>\n",
              "  </svg>\n",
              "    </button>\n",
              "    <script>\n",
              "      (() => {\n",
              "      const buttonEl =\n",
              "        document.querySelector('#id_47d22b97-6214-416d-969d-6a987fd9590d button.colab-df-generate');\n",
              "      buttonEl.style.display =\n",
              "        google.colab.kernel.accessAllowed ? 'block' : 'none';\n",
              "\n",
              "      buttonEl.onclick = () => {\n",
              "        google.colab.notebook.generateWithVariable('pyth');\n",
              "      }\n",
              "      })();\n",
              "    </script>\n",
              "  </div>\n",
              "\n",
              "    </div>\n",
              "  </div>\n"
            ],
            "application/vnd.google.colaboratory.intrinsic+json": {
              "type": "dataframe",
              "variable_name": "pyth",
              "summary": "{\n  \"name\": \"pyth\",\n  \"rows\": 30,\n  \"fields\": [\n    {\n      \"column\": \"team\",\n      \"properties\": {\n        \"dtype\": \"string\",\n        \"num_unique_values\": 30,\n        \"samples\": [\n          \"TOR\",\n          \"MIA\",\n          \"PHX\"\n        ],\n        \"semantic_type\": \"\",\n        \"description\": \"\"\n      }\n    },\n    {\n      \"column\": \"wins\",\n      \"properties\": {\n        \"dtype\": \"number\",\n        \"std\": 614,\n        \"min\": 755,\n        \"max\": 3105,\n        \"num_unique_values\": 30,\n        \"samples\": [\n          1037,\n          1409,\n          2231\n        ],\n        \"semantic_type\": \"\",\n        \"description\": \"\"\n      }\n    },\n    {\n      \"column\": \"games\",\n      \"properties\": {\n        \"dtype\": \"number\",\n        \"std\": 1068,\n        \"min\": 1604,\n        \"max\": 5256,\n        \"num_unique_values\": 27,\n        \"samples\": [\n          5225,\n          2147,\n          5247\n        ],\n        \"semantic_type\": \"\",\n        \"description\": \"\"\n      }\n    },\n    {\n      \"column\": \"win_perc\",\n      \"properties\": {\n        \"dtype\": \"number\",\n        \"std\": 0.05056858049553432,\n        \"min\": 0.403,\n        \"max\": 0.6023,\n        \"num_unique_values\": 30,\n        \"samples\": [\n          0.4832,\n          0.5178,\n          0.5422\n        ],\n        \"semantic_type\": \"\",\n        \"description\": \"\"\n      }\n    },\n    {\n      \"column\": \"prev_win_perc\",\n      \"properties\": {\n        \"dtype\": \"number\",\n        \"std\": 0.05014042132426404,\n        \"min\": 0.4074,\n        \"max\": 0.6004,\n        \"num_unique_values\": 29,\n        \"samples\": [\n          0.5522,\n          0.5406,\n          0.4074\n        ],\n        \"semantic_type\": \"\",\n        \"description\": \"\"\n      }\n    },\n    {\n      \"column\": \"pts_made\",\n      \"properties\": {\n        \"dtype\": \"number\",\n        \"std\": 114779,\n        \"min\": 162833,\n        \"max\": 556559,\n        \"num_unique_values\": 30,\n        \"samples\": [\n          216600,\n          269527,\n          444019\n        ],\n        \"semantic_type\": \"\",\n        \"description\": \"\"\n      }\n    },\n    {\n      \"column\": \"pts_allow\",\n      \"properties\": {\n        \"dtype\": \"number\",\n        \"std\": 113494,\n        \"min\": 164107,\n        \"max\": 559188,\n        \"num_unique_values\": 30,\n        \"samples\": [\n          216982,\n          268667,\n          438076\n        ],\n        \"semantic_type\": \"\",\n        \"description\": \"\"\n      }\n    },\n    {\n      \"column\": \"pyth_exp\",\n      \"properties\": {\n        \"dtype\": \"number\",\n        \"std\": 0.0073776892622673396,\n        \"min\": 0.4864,\n        \"max\": 0.5148,\n        \"num_unique_values\": 29,\n        \"samples\": [\n          0.5077,\n          0.506,\n          0.4864\n        ],\n        \"semantic_type\": \"\",\n        \"description\": \"\"\n      }\n    }\n  ]\n}"
            }
          },
          "metadata": {},
          "execution_count": 57
        }
      ]
    },
    {
      "cell_type": "markdown",
      "metadata": {
        "id": "Q4kGQDu_WBIu"
      },
      "source": [
        "#Segundo modo"
      ]
    },
    {
      "cell_type": "code",
      "execution_count": null,
      "metadata": {
        "id": "fI7bnF-3Bof6",
        "colab": {
          "base_uri": "https://localhost:8080/"
        },
        "outputId": "04550b5b-1bae-4ada-b7d3-1f1348b857c4"
      },
      "outputs": [
        {
          "output_type": "stream",
          "name": "stdout",
          "text": [
            "A soma dos quadrados dos erros é 0.001\n",
            "A soma dos quadrados dos pontos da regressão é 0.073\n",
            "A soma dos quadrados totais é 0.074\n"
          ]
        }
      ],
      "source": [
        "SQE=pyth_lm.ssr\n",
        "SQR=pyth_lm.ess\n",
        "SQT=SQE+SQR\n",
        "print(\"A soma dos quadrados dos erros é\", SQE.round(3))\n",
        "print(\"A soma dos quadrados dos pontos da regressão é\",SQR.round(3))\n",
        "print(\"A soma dos quadrados totais é\",SQT.round(3))"
      ]
    },
    {
      "cell_type": "code",
      "execution_count": null,
      "metadata": {
        "id": "8-zwg76WYD9J",
        "colab": {
          "base_uri": "https://localhost:8080/"
        },
        "outputId": "b22edbd0-b620-477c-e9ec-a8b42e973aab"
      },
      "outputs": [
        {
          "output_type": "stream",
          "name": "stdout",
          "text": [
            "O erro quadrático médio é 4.3977042679913256e-05\n"
          ]
        }
      ],
      "source": [
        "EQM=pyth_lm.mse_resid\n",
        "print(\"O erro quadrático médio é\",EQM)"
      ]
    },
    {
      "cell_type": "code",
      "execution_count": null,
      "metadata": {
        "id": "4b2KCDX-BodA",
        "colab": {
          "base_uri": "https://localhost:8080/"
        },
        "outputId": "767b0ded-1587-47d6-996a-d45a1c25332e"
      },
      "outputs": [
        {
          "output_type": "stream",
          "name": "stdout",
          "text": [
            "O coeficiente de regressão do modelo é 0.983\n"
          ]
        }
      ],
      "source": [
        "R2=SQR/SQT\n",
        "print(\"O coeficiente de regressão do modelo é\",R2.round(3))"
      ]
    },
    {
      "cell_type": "markdown",
      "metadata": {
        "id": "JGtJLy0XWEe8"
      },
      "source": [
        "#Terceiro modo"
      ]
    },
    {
      "cell_type": "code",
      "execution_count": null,
      "metadata": {
        "id": "j30TxKgpRQuz",
        "colab": {
          "base_uri": "https://localhost:8080/"
        },
        "outputId": "26f3e95c-43c0-44d3-f11b-97c198a311fc"
      },
      "outputs": [
        {
          "output_type": "execute_result",
          "data": {
            "text/plain": [
              "0.983"
            ]
          },
          "metadata": {},
          "execution_count": 61
        }
      ],
      "source": [
        "pyth_lm.rsquared.round(3)"
      ]
    },
    {
      "cell_type": "markdown",
      "source": [
        "# Teste de hipótese para a nulidade do coeficiente angular\n",
        "\n",
        "## $H_0: \\beta_2 = 0$\n",
        "## $H_1: \\beta_2 \\neq 0$\n",
        "# $$E(b_2) = \\beta_2$$"
      ],
      "metadata": {
        "id": "owCdYPuXEKRZ"
      }
    },
    {
      "cell_type": "markdown",
      "source": [
        "### $$s_{b_2} = \\frac{s}{\\sqrt{\\sum{(X_i - \\bar{X})^2}}}$$"
      ],
      "metadata": {
        "id": "7MjASX_1Fcqm"
      }
    },
    {
      "cell_type": "code",
      "source": [
        "s = np.sqrt(pyth_lm.mse_resid)\n",
        "s"
      ],
      "metadata": {
        "colab": {
          "base_uri": "https://localhost:8080/"
        },
        "id": "DYyTEN6HDDwD",
        "outputId": "46ef352c-34cb-4d88-c848-cb0e98b50d8d"
      },
      "execution_count": null,
      "outputs": [
        {
          "output_type": "execute_result",
          "data": {
            "text/plain": [
              "0.006631518881818347"
            ]
          },
          "metadata": {},
          "execution_count": 62
        }
      ]
    },
    {
      "cell_type": "code",
      "source": [
        "SOMA_DESVIO2 = pyth.pyth_exp.apply(lambda x: (x - pyth.pyth_exp.mean())**2).sum()\n",
        "SOMA_DESVIO2"
      ],
      "metadata": {
        "colab": {
          "base_uri": "https://localhost:8080/"
        },
        "id": "cLQUuRn2DN37",
        "outputId": "e000de44-a001-402c-d835-f763f2c3421d"
      },
      "execution_count": null,
      "outputs": [
        {
          "output_type": "execute_result",
          "data": {
            "text/plain": [
              "0.0015784786666666693"
            ]
          },
          "metadata": {},
          "execution_count": 63
        }
      ]
    },
    {
      "cell_type": "code",
      "source": [
        "s_beta_2 = s / np.sqrt(SOMA_DESVIO2)\n",
        "s_beta_2"
      ],
      "metadata": {
        "colab": {
          "base_uri": "https://localhost:8080/"
        },
        "id": "IZZLg-GEDXAa",
        "outputId": "de2e8248-1e30-48a8-e1ff-39b7d381161f"
      },
      "execution_count": null,
      "outputs": [
        {
          "output_type": "execute_result",
          "data": {
            "text/plain": [
              "0.16691434100984504"
            ]
          },
          "metadata": {},
          "execution_count": 64
        }
      ]
    },
    {
      "cell_type": "markdown",
      "source": [
        "### Áreas de aceitação e rejeição de $H_0$"
      ],
      "metadata": {
        "id": "4V6dL32MFyNv"
      }
    },
    {
      "cell_type": "code",
      "source": [
        "from scipy.stats import t as t_student"
      ],
      "metadata": {
        "id": "1TFUXBlpDaqq"
      },
      "execution_count": null,
      "outputs": []
    },
    {
      "cell_type": "code",
      "source": [
        "graus_de_liberdade = pyth_lm.df_resid\n",
        "graus_de_liberdade"
      ],
      "metadata": {
        "colab": {
          "base_uri": "https://localhost:8080/"
        },
        "id": "BBA4SDsBDcw4",
        "outputId": "da21d090-93f1-4d51-d44c-7030c8e2c911"
      },
      "execution_count": null,
      "outputs": [
        {
          "output_type": "execute_result",
          "data": {
            "text/plain": [
              "28.0"
            ]
          },
          "metadata": {},
          "execution_count": 66
        }
      ]
    },
    {
      "cell_type": "code",
      "source": [
        "significancia=0.05\n",
        "confiança=1-significancia\n",
        "probabilidade = (0.5 + (0.95 / 2))\n",
        "probabilidade"
      ],
      "metadata": {
        "colab": {
          "base_uri": "https://localhost:8080/"
        },
        "id": "S2mVp5EFDe8z",
        "outputId": "e69d2e5e-f31e-49e8-bd28-84c149f2f2d0"
      },
      "execution_count": null,
      "outputs": [
        {
          "output_type": "execute_result",
          "data": {
            "text/plain": [
              "0.975"
            ]
          },
          "metadata": {},
          "execution_count": 67
        }
      ]
    },
    {
      "cell_type": "markdown",
      "source": [
        "![Região de Aceitação](https://caelum-online-public.s3.amazonaws.com/1273-estatistica-parte4/01/img031.png)"
      ],
      "metadata": {
        "id": "Mt1gTfEGF_8h"
      }
    },
    {
      "cell_type": "code",
      "source": [
        "t_alpha_2 = t_student.ppf(probabilidade, graus_de_liberdade)\n",
        "t_alpha_2"
      ],
      "metadata": {
        "colab": {
          "base_uri": "https://localhost:8080/"
        },
        "id": "YtEESLp-Difi",
        "outputId": "aeaa91cc-00d3-4dd1-a9fc-867f71206d9e"
      },
      "execution_count": null,
      "outputs": [
        {
          "output_type": "execute_result",
          "data": {
            "text/plain": [
              "2.048407141795244"
            ]
          },
          "metadata": {},
          "execution_count": 68
        }
      ]
    },
    {
      "cell_type": "markdown",
      "source": [
        "### $$t = \\frac{b_2 - \\beta_2}{s_{b_2}}$$"
      ],
      "metadata": {
        "id": "jFVtp6cgE_MX"
      }
    },
    {
      "cell_type": "code",
      "source": [
        "t = (beta_2 - 0) / s_beta_2\n",
        "t"
      ],
      "metadata": {
        "colab": {
          "base_uri": "https://localhost:8080/"
        },
        "id": "SyuR35g3DuGJ",
        "outputId": "94c509ce-3f99-4525-b739-6ed465058dd9"
      },
      "execution_count": null,
      "outputs": [
        {
          "output_type": "execute_result",
          "data": {
            "text/plain": [
              "40.72216603124802"
            ]
          },
          "metadata": {},
          "execution_count": 69
        }
      ]
    },
    {
      "cell_type": "markdown",
      "source": [
        "### Critério do valor crítico\n",
        "\n",
        "> ### Teste Bicaudal\n",
        "> ### <font color='lightgreen'>Rejeitar $H_0$ se $t \\leq -t_{\\alpha / 2}$ ou se $t \\geq t_{\\alpha / 2}$</font>"
      ],
      "metadata": {
        "id": "JeWK7XyaGW9s"
      }
    },
    {
      "cell_type": "code",
      "source": [
        "t <= -t_alpha_2"
      ],
      "metadata": {
        "colab": {
          "base_uri": "https://localhost:8080/"
        },
        "id": "oy28u5TUDy48",
        "outputId": "598d42ee-bbbb-4ccb-ee91-6b059bbe43d0"
      },
      "execution_count": null,
      "outputs": [
        {
          "output_type": "execute_result",
          "data": {
            "text/plain": [
              "False"
            ]
          },
          "metadata": {},
          "execution_count": 70
        }
      ]
    },
    {
      "cell_type": "code",
      "source": [
        "t >= t_alpha_2"
      ],
      "metadata": {
        "colab": {
          "base_uri": "https://localhost:8080/"
        },
        "id": "4eeJsjQ3DzTB",
        "outputId": "92a0b80f-81a0-4004-af1b-ae14d7d5190c"
      },
      "execution_count": null,
      "outputs": [
        {
          "output_type": "execute_result",
          "data": {
            "text/plain": [
              "True"
            ]
          },
          "metadata": {},
          "execution_count": 71
        }
      ]
    },
    {
      "cell_type": "markdown",
      "source": [
        "### Critério do p-valor\n",
        "\n",
        "> ### Teste Bicaudal\n",
        "> ### <font color='lightyellow'>Rejeitar $H_0$ se $p-valor\\leq\\alpha$</font>"
      ],
      "metadata": {
        "id": "vALr83M9GhHL"
      }
    },
    {
      "cell_type": "code",
      "source": [
        "p_valor = 2 * (t_student.sf(t, graus_de_liberdade))\n",
        "p_valor"
      ],
      "metadata": {
        "colab": {
          "base_uri": "https://localhost:8080/"
        },
        "id": "N5UA9MGFD3yP",
        "outputId": "f1dd0dce-395b-4003-ee92-ec1a8a302b45"
      },
      "execution_count": null,
      "outputs": [
        {
          "output_type": "execute_result",
          "data": {
            "text/plain": [
              "1.823977221052551e-26"
            ]
          },
          "metadata": {},
          "execution_count": 72
        }
      ]
    },
    {
      "cell_type": "code",
      "source": [
        "p_valor <= significancia"
      ],
      "metadata": {
        "colab": {
          "base_uri": "https://localhost:8080/"
        },
        "id": "CR4ucdobGrRa",
        "outputId": "2399bca4-d365-4644-decc-55b7858842ae"
      },
      "execution_count": null,
      "outputs": [
        {
          "output_type": "execute_result",
          "data": {
            "text/plain": [
              "True"
            ]
          },
          "metadata": {},
          "execution_count": 73
        }
      ]
    },
    {
      "cell_type": "markdown",
      "source": [
        "### <font color='lightblue'>Rejeito $H_0$, logo existe uma relação significativa entre as duas variáveis.</font>"
      ],
      "metadata": {
        "id": "87E1o5AtGu3z"
      }
    },
    {
      "cell_type": "markdown",
      "source": [
        "#Teste F\n",
        "\n",
        "## $H_0: \\beta_2 = 0$\n",
        "## $H_0: \\beta_2 \\neq 0$"
      ],
      "metadata": {
        "id": "cIz2noRwHu-p"
      }
    },
    {
      "cell_type": "markdown",
      "source": [
        "### $$F = \\frac{\\frac{SQR}{k}}{\\frac{SQE}{n-k-1}}$$"
      ],
      "metadata": {
        "id": "g_Og6aMoH66X"
      }
    },
    {
      "cell_type": "code",
      "source": [
        "pyth_lm.fvalue"
      ],
      "metadata": {
        "colab": {
          "base_uri": "https://localhost:8080/"
        },
        "id": "ruRh9XjcHxJY",
        "outputId": "7f3065d9-ac94-43e0-f4ec-8911aee4f716"
      },
      "execution_count": null,
      "outputs": [
        {
          "output_type": "execute_result",
          "data": {
            "text/plain": [
              "1658.2948062794328"
            ]
          },
          "metadata": {},
          "execution_count": 74
        }
      ]
    },
    {
      "cell_type": "markdown",
      "source": [
        "### Teste do p-valor"
      ],
      "metadata": {
        "id": "D8OaFzD3Lngl"
      }
    },
    {
      "cell_type": "code",
      "source": [
        "pyth_lm.f_pvalue"
      ],
      "metadata": {
        "colab": {
          "base_uri": "https://localhost:8080/"
        },
        "id": "yiiSgz1dIDFh",
        "outputId": "0cce8d66-8bd2-4e14-e21e-f3dd12f8bdd1"
      },
      "execution_count": null,
      "outputs": [
        {
          "output_type": "execute_result",
          "data": {
            "text/plain": [
              "1.8239772210085797e-26"
            ]
          },
          "metadata": {},
          "execution_count": 75
        }
      ]
    },
    {
      "cell_type": "code",
      "source": [
        "p_valor <= 0.05"
      ],
      "metadata": {
        "colab": {
          "base_uri": "https://localhost:8080/"
        },
        "id": "OChPD8njINPf",
        "outputId": "146d3fd9-8d67-4982-acaa-bdac7033d7e7"
      },
      "execution_count": null,
      "outputs": [
        {
          "output_type": "execute_result",
          "data": {
            "text/plain": [
              "True"
            ]
          },
          "metadata": {},
          "execution_count": 76
        }
      ]
    },
    {
      "cell_type": "markdown",
      "source": [
        "### <font color='lightblue'>Rejeito $H_0$, logo $\\beta_2 \\neq 0$.</font>"
      ],
      "metadata": {
        "id": "nterYtDvLn8r"
      }
    },
    {
      "cell_type": "markdown",
      "source": [
        "# Resíduos"
      ],
      "metadata": {
        "id": "HBSuGwvNI6tG"
      }
    },
    {
      "cell_type": "code",
      "source": [
        "pyth['residue'] = (pyth_lm.resid).round(4)\n",
        "pyth.head()"
      ],
      "metadata": {
        "colab": {
          "base_uri": "https://localhost:8080/",
          "height": 237
        },
        "id": "H259hr1lI5qx",
        "outputId": "ed576f6f-05ba-4a99-fe58-d1d4b99fb349"
      },
      "execution_count": null,
      "outputs": [
        {
          "output_type": "execute_result",
          "data": {
            "text/plain": [
              "      wins  games  win_perc  prev_win_perc  pts_made  pts_allow  pyth_exp  \\\n",
              "team                                                                        \n",
              "ATL   2583   5189    0.4978         0.4917    531868     533111    0.4988   \n",
              "BKN   1551   3622    0.4282         0.4278    369031     376958    0.4894   \n",
              "BOS   3105   5256    0.5908         0.5916    554328     539600    0.5135   \n",
              "CHA   1132   2549    0.4441         0.4346    256910     261911    0.4904   \n",
              "CHI   2147   4189    0.5125         0.5114    429550     428070    0.5017   \n",
              "\n",
              "      residue  \n",
              "team           \n",
              "ATL    0.0061  \n",
              "BKN    0.0004  \n",
              "BOS   -0.0008  \n",
              "CHA    0.0095  \n",
              "CHI    0.0011  "
            ],
            "text/html": [
              "\n",
              "  <div id=\"df-37cfa7e3-06c6-495a-91dc-db6308d32b2e\" class=\"colab-df-container\">\n",
              "    <div>\n",
              "<style scoped>\n",
              "    .dataframe tbody tr th:only-of-type {\n",
              "        vertical-align: middle;\n",
              "    }\n",
              "\n",
              "    .dataframe tbody tr th {\n",
              "        vertical-align: top;\n",
              "    }\n",
              "\n",
              "    .dataframe thead th {\n",
              "        text-align: right;\n",
              "    }\n",
              "</style>\n",
              "<table border=\"1\" class=\"dataframe\">\n",
              "  <thead>\n",
              "    <tr style=\"text-align: right;\">\n",
              "      <th></th>\n",
              "      <th>wins</th>\n",
              "      <th>games</th>\n",
              "      <th>win_perc</th>\n",
              "      <th>prev_win_perc</th>\n",
              "      <th>pts_made</th>\n",
              "      <th>pts_allow</th>\n",
              "      <th>pyth_exp</th>\n",
              "      <th>residue</th>\n",
              "    </tr>\n",
              "    <tr>\n",
              "      <th>team</th>\n",
              "      <th></th>\n",
              "      <th></th>\n",
              "      <th></th>\n",
              "      <th></th>\n",
              "      <th></th>\n",
              "      <th></th>\n",
              "      <th></th>\n",
              "      <th></th>\n",
              "    </tr>\n",
              "  </thead>\n",
              "  <tbody>\n",
              "    <tr>\n",
              "      <th>ATL</th>\n",
              "      <td>2583</td>\n",
              "      <td>5189</td>\n",
              "      <td>0.4978</td>\n",
              "      <td>0.4917</td>\n",
              "      <td>531868</td>\n",
              "      <td>533111</td>\n",
              "      <td>0.4988</td>\n",
              "      <td>0.0061</td>\n",
              "    </tr>\n",
              "    <tr>\n",
              "      <th>BKN</th>\n",
              "      <td>1551</td>\n",
              "      <td>3622</td>\n",
              "      <td>0.4282</td>\n",
              "      <td>0.4278</td>\n",
              "      <td>369031</td>\n",
              "      <td>376958</td>\n",
              "      <td>0.4894</td>\n",
              "      <td>0.0004</td>\n",
              "    </tr>\n",
              "    <tr>\n",
              "      <th>BOS</th>\n",
              "      <td>3105</td>\n",
              "      <td>5256</td>\n",
              "      <td>0.5908</td>\n",
              "      <td>0.5916</td>\n",
              "      <td>554328</td>\n",
              "      <td>539600</td>\n",
              "      <td>0.5135</td>\n",
              "      <td>-0.0008</td>\n",
              "    </tr>\n",
              "    <tr>\n",
              "      <th>CHA</th>\n",
              "      <td>1132</td>\n",
              "      <td>2549</td>\n",
              "      <td>0.4441</td>\n",
              "      <td>0.4346</td>\n",
              "      <td>256910</td>\n",
              "      <td>261911</td>\n",
              "      <td>0.4904</td>\n",
              "      <td>0.0095</td>\n",
              "    </tr>\n",
              "    <tr>\n",
              "      <th>CHI</th>\n",
              "      <td>2147</td>\n",
              "      <td>4189</td>\n",
              "      <td>0.5125</td>\n",
              "      <td>0.5114</td>\n",
              "      <td>429550</td>\n",
              "      <td>428070</td>\n",
              "      <td>0.5017</td>\n",
              "      <td>0.0011</td>\n",
              "    </tr>\n",
              "  </tbody>\n",
              "</table>\n",
              "</div>\n",
              "    <div class=\"colab-df-buttons\">\n",
              "\n",
              "  <div class=\"colab-df-container\">\n",
              "    <button class=\"colab-df-convert\" onclick=\"convertToInteractive('df-37cfa7e3-06c6-495a-91dc-db6308d32b2e')\"\n",
              "            title=\"Convert this dataframe to an interactive table.\"\n",
              "            style=\"display:none;\">\n",
              "\n",
              "  <svg xmlns=\"http://www.w3.org/2000/svg\" height=\"24px\" viewBox=\"0 -960 960 960\">\n",
              "    <path d=\"M120-120v-720h720v720H120Zm60-500h600v-160H180v160Zm220 220h160v-160H400v160Zm0 220h160v-160H400v160ZM180-400h160v-160H180v160Zm440 0h160v-160H620v160ZM180-180h160v-160H180v160Zm440 0h160v-160H620v160Z\"/>\n",
              "  </svg>\n",
              "    </button>\n",
              "\n",
              "  <style>\n",
              "    .colab-df-container {\n",
              "      display:flex;\n",
              "      gap: 12px;\n",
              "    }\n",
              "\n",
              "    .colab-df-convert {\n",
              "      background-color: #E8F0FE;\n",
              "      border: none;\n",
              "      border-radius: 50%;\n",
              "      cursor: pointer;\n",
              "      display: none;\n",
              "      fill: #1967D2;\n",
              "      height: 32px;\n",
              "      padding: 0 0 0 0;\n",
              "      width: 32px;\n",
              "    }\n",
              "\n",
              "    .colab-df-convert:hover {\n",
              "      background-color: #E2EBFA;\n",
              "      box-shadow: 0px 1px 2px rgba(60, 64, 67, 0.3), 0px 1px 3px 1px rgba(60, 64, 67, 0.15);\n",
              "      fill: #174EA6;\n",
              "    }\n",
              "\n",
              "    .colab-df-buttons div {\n",
              "      margin-bottom: 4px;\n",
              "    }\n",
              "\n",
              "    [theme=dark] .colab-df-convert {\n",
              "      background-color: #3B4455;\n",
              "      fill: #D2E3FC;\n",
              "    }\n",
              "\n",
              "    [theme=dark] .colab-df-convert:hover {\n",
              "      background-color: #434B5C;\n",
              "      box-shadow: 0px 1px 3px 1px rgba(0, 0, 0, 0.15);\n",
              "      filter: drop-shadow(0px 1px 2px rgba(0, 0, 0, 0.3));\n",
              "      fill: #FFFFFF;\n",
              "    }\n",
              "  </style>\n",
              "\n",
              "    <script>\n",
              "      const buttonEl =\n",
              "        document.querySelector('#df-37cfa7e3-06c6-495a-91dc-db6308d32b2e button.colab-df-convert');\n",
              "      buttonEl.style.display =\n",
              "        google.colab.kernel.accessAllowed ? 'block' : 'none';\n",
              "\n",
              "      async function convertToInteractive(key) {\n",
              "        const element = document.querySelector('#df-37cfa7e3-06c6-495a-91dc-db6308d32b2e');\n",
              "        const dataTable =\n",
              "          await google.colab.kernel.invokeFunction('convertToInteractive',\n",
              "                                                    [key], {});\n",
              "        if (!dataTable) return;\n",
              "\n",
              "        const docLinkHtml = 'Like what you see? Visit the ' +\n",
              "          '<a target=\"_blank\" href=https://colab.research.google.com/notebooks/data_table.ipynb>data table notebook</a>'\n",
              "          + ' to learn more about interactive tables.';\n",
              "        element.innerHTML = '';\n",
              "        dataTable['output_type'] = 'display_data';\n",
              "        await google.colab.output.renderOutput(dataTable, element);\n",
              "        const docLink = document.createElement('div');\n",
              "        docLink.innerHTML = docLinkHtml;\n",
              "        element.appendChild(docLink);\n",
              "      }\n",
              "    </script>\n",
              "  </div>\n",
              "\n",
              "\n",
              "<div id=\"df-e707adae-f6e2-4feb-9668-d8f88648f07a\">\n",
              "  <button class=\"colab-df-quickchart\" onclick=\"quickchart('df-e707adae-f6e2-4feb-9668-d8f88648f07a')\"\n",
              "            title=\"Suggest charts\"\n",
              "            style=\"display:none;\">\n",
              "\n",
              "<svg xmlns=\"http://www.w3.org/2000/svg\" height=\"24px\"viewBox=\"0 0 24 24\"\n",
              "     width=\"24px\">\n",
              "    <g>\n",
              "        <path d=\"M19 3H5c-1.1 0-2 .9-2 2v14c0 1.1.9 2 2 2h14c1.1 0 2-.9 2-2V5c0-1.1-.9-2-2-2zM9 17H7v-7h2v7zm4 0h-2V7h2v10zm4 0h-2v-4h2v4z\"/>\n",
              "    </g>\n",
              "</svg>\n",
              "  </button>\n",
              "\n",
              "<style>\n",
              "  .colab-df-quickchart {\n",
              "      --bg-color: #E8F0FE;\n",
              "      --fill-color: #1967D2;\n",
              "      --hover-bg-color: #E2EBFA;\n",
              "      --hover-fill-color: #174EA6;\n",
              "      --disabled-fill-color: #AAA;\n",
              "      --disabled-bg-color: #DDD;\n",
              "  }\n",
              "\n",
              "  [theme=dark] .colab-df-quickchart {\n",
              "      --bg-color: #3B4455;\n",
              "      --fill-color: #D2E3FC;\n",
              "      --hover-bg-color: #434B5C;\n",
              "      --hover-fill-color: #FFFFFF;\n",
              "      --disabled-bg-color: #3B4455;\n",
              "      --disabled-fill-color: #666;\n",
              "  }\n",
              "\n",
              "  .colab-df-quickchart {\n",
              "    background-color: var(--bg-color);\n",
              "    border: none;\n",
              "    border-radius: 50%;\n",
              "    cursor: pointer;\n",
              "    display: none;\n",
              "    fill: var(--fill-color);\n",
              "    height: 32px;\n",
              "    padding: 0;\n",
              "    width: 32px;\n",
              "  }\n",
              "\n",
              "  .colab-df-quickchart:hover {\n",
              "    background-color: var(--hover-bg-color);\n",
              "    box-shadow: 0 1px 2px rgba(60, 64, 67, 0.3), 0 1px 3px 1px rgba(60, 64, 67, 0.15);\n",
              "    fill: var(--button-hover-fill-color);\n",
              "  }\n",
              "\n",
              "  .colab-df-quickchart-complete:disabled,\n",
              "  .colab-df-quickchart-complete:disabled:hover {\n",
              "    background-color: var(--disabled-bg-color);\n",
              "    fill: var(--disabled-fill-color);\n",
              "    box-shadow: none;\n",
              "  }\n",
              "\n",
              "  .colab-df-spinner {\n",
              "    border: 2px solid var(--fill-color);\n",
              "    border-color: transparent;\n",
              "    border-bottom-color: var(--fill-color);\n",
              "    animation:\n",
              "      spin 1s steps(1) infinite;\n",
              "  }\n",
              "\n",
              "  @keyframes spin {\n",
              "    0% {\n",
              "      border-color: transparent;\n",
              "      border-bottom-color: var(--fill-color);\n",
              "      border-left-color: var(--fill-color);\n",
              "    }\n",
              "    20% {\n",
              "      border-color: transparent;\n",
              "      border-left-color: var(--fill-color);\n",
              "      border-top-color: var(--fill-color);\n",
              "    }\n",
              "    30% {\n",
              "      border-color: transparent;\n",
              "      border-left-color: var(--fill-color);\n",
              "      border-top-color: var(--fill-color);\n",
              "      border-right-color: var(--fill-color);\n",
              "    }\n",
              "    40% {\n",
              "      border-color: transparent;\n",
              "      border-right-color: var(--fill-color);\n",
              "      border-top-color: var(--fill-color);\n",
              "    }\n",
              "    60% {\n",
              "      border-color: transparent;\n",
              "      border-right-color: var(--fill-color);\n",
              "    }\n",
              "    80% {\n",
              "      border-color: transparent;\n",
              "      border-right-color: var(--fill-color);\n",
              "      border-bottom-color: var(--fill-color);\n",
              "    }\n",
              "    90% {\n",
              "      border-color: transparent;\n",
              "      border-bottom-color: var(--fill-color);\n",
              "    }\n",
              "  }\n",
              "</style>\n",
              "\n",
              "  <script>\n",
              "    async function quickchart(key) {\n",
              "      const quickchartButtonEl =\n",
              "        document.querySelector('#' + key + ' button');\n",
              "      quickchartButtonEl.disabled = true;  // To prevent multiple clicks.\n",
              "      quickchartButtonEl.classList.add('colab-df-spinner');\n",
              "      try {\n",
              "        const charts = await google.colab.kernel.invokeFunction(\n",
              "            'suggestCharts', [key], {});\n",
              "      } catch (error) {\n",
              "        console.error('Error during call to suggestCharts:', error);\n",
              "      }\n",
              "      quickchartButtonEl.classList.remove('colab-df-spinner');\n",
              "      quickchartButtonEl.classList.add('colab-df-quickchart-complete');\n",
              "    }\n",
              "    (() => {\n",
              "      let quickchartButtonEl =\n",
              "        document.querySelector('#df-e707adae-f6e2-4feb-9668-d8f88648f07a button');\n",
              "      quickchartButtonEl.style.display =\n",
              "        google.colab.kernel.accessAllowed ? 'block' : 'none';\n",
              "    })();\n",
              "  </script>\n",
              "</div>\n",
              "\n",
              "    </div>\n",
              "  </div>\n"
            ],
            "application/vnd.google.colaboratory.intrinsic+json": {
              "type": "dataframe",
              "variable_name": "pyth",
              "summary": "{\n  \"name\": \"pyth\",\n  \"rows\": 30,\n  \"fields\": [\n    {\n      \"column\": \"team\",\n      \"properties\": {\n        \"dtype\": \"string\",\n        \"num_unique_values\": 30,\n        \"samples\": [\n          \"TOR\",\n          \"MIA\",\n          \"PHX\"\n        ],\n        \"semantic_type\": \"\",\n        \"description\": \"\"\n      }\n    },\n    {\n      \"column\": \"wins\",\n      \"properties\": {\n        \"dtype\": \"number\",\n        \"std\": 614,\n        \"min\": 755,\n        \"max\": 3105,\n        \"num_unique_values\": 30,\n        \"samples\": [\n          1037,\n          1409,\n          2231\n        ],\n        \"semantic_type\": \"\",\n        \"description\": \"\"\n      }\n    },\n    {\n      \"column\": \"games\",\n      \"properties\": {\n        \"dtype\": \"number\",\n        \"std\": 1068,\n        \"min\": 1604,\n        \"max\": 5256,\n        \"num_unique_values\": 27,\n        \"samples\": [\n          5225,\n          2147,\n          5247\n        ],\n        \"semantic_type\": \"\",\n        \"description\": \"\"\n      }\n    },\n    {\n      \"column\": \"win_perc\",\n      \"properties\": {\n        \"dtype\": \"number\",\n        \"std\": 0.05056858049553432,\n        \"min\": 0.403,\n        \"max\": 0.6023,\n        \"num_unique_values\": 30,\n        \"samples\": [\n          0.4832,\n          0.5178,\n          0.5422\n        ],\n        \"semantic_type\": \"\",\n        \"description\": \"\"\n      }\n    },\n    {\n      \"column\": \"prev_win_perc\",\n      \"properties\": {\n        \"dtype\": \"number\",\n        \"std\": 0.05014042132426404,\n        \"min\": 0.4074,\n        \"max\": 0.6004,\n        \"num_unique_values\": 29,\n        \"samples\": [\n          0.5522,\n          0.5406,\n          0.4074\n        ],\n        \"semantic_type\": \"\",\n        \"description\": \"\"\n      }\n    },\n    {\n      \"column\": \"pts_made\",\n      \"properties\": {\n        \"dtype\": \"number\",\n        \"std\": 114779,\n        \"min\": 162833,\n        \"max\": 556559,\n        \"num_unique_values\": 30,\n        \"samples\": [\n          216600,\n          269527,\n          444019\n        ],\n        \"semantic_type\": \"\",\n        \"description\": \"\"\n      }\n    },\n    {\n      \"column\": \"pts_allow\",\n      \"properties\": {\n        \"dtype\": \"number\",\n        \"std\": 113494,\n        \"min\": 164107,\n        \"max\": 559188,\n        \"num_unique_values\": 30,\n        \"samples\": [\n          216982,\n          268667,\n          438076\n        ],\n        \"semantic_type\": \"\",\n        \"description\": \"\"\n      }\n    },\n    {\n      \"column\": \"pyth_exp\",\n      \"properties\": {\n        \"dtype\": \"number\",\n        \"std\": 0.0073776892622673396,\n        \"min\": 0.4864,\n        \"max\": 0.5148,\n        \"num_unique_values\": 29,\n        \"samples\": [\n          0.5077,\n          0.506,\n          0.4864\n        ],\n        \"semantic_type\": \"\",\n        \"description\": \"\"\n      }\n    },\n    {\n      \"column\": \"residue\",\n      \"properties\": {\n        \"dtype\": \"number\",\n        \"std\": 0.006517905488270215,\n        \"min\": -0.0146,\n        \"max\": 0.0124,\n        \"num_unique_values\": 30,\n        \"samples\": [\n          -0.0105,\n          0.0071,\n          -0.0032\n        ],\n        \"semantic_type\": \"\",\n        \"description\": \"\"\n      }\n    }\n  ]\n}"
            }
          },
          "metadata": {},
          "execution_count": 77
        }
      ]
    },
    {
      "cell_type": "code",
      "source": [
        "pyth.residue.mean()"
      ],
      "metadata": {
        "colab": {
          "base_uri": "https://localhost:8080/"
        },
        "id": "e2q9Gn0FJKjq",
        "outputId": "5ab73244-2c6c-4403-f1cc-262fbe8ec7da"
      },
      "execution_count": null,
      "outputs": [
        {
          "output_type": "execute_result",
          "data": {
            "text/plain": [
              "-3.333333333333264e-06"
            ]
          },
          "metadata": {},
          "execution_count": 78
        }
      ]
    },
    {
      "cell_type": "markdown",
      "source": [
        "## Normalidade dos resíduos: Omnibus\n",
        "> ### $H_0:$ Os dados se distribuem como uma normal"
      ],
      "metadata": {
        "id": "KXRerjsTJW_O"
      }
    },
    {
      "cell_type": "code",
      "source": [
        "from scipy.stats import normaltest\n",
        "statistic,p_valor=normaltest(pyth.residue)"
      ],
      "metadata": {
        "id": "MYcE6ezOJW0o"
      },
      "execution_count": null,
      "outputs": []
    },
    {
      "cell_type": "code",
      "source": [
        "p_valor<=0.05"
      ],
      "metadata": {
        "colab": {
          "base_uri": "https://localhost:8080/"
        },
        "id": "rB2cHFBFJWxP",
        "outputId": "08f960bf-7d53-45f9-aa54-dd5946ceb8c4"
      },
      "execution_count": null,
      "outputs": [
        {
          "output_type": "execute_result",
          "data": {
            "text/plain": [
              "False"
            ]
          },
          "metadata": {},
          "execution_count": 80
        }
      ]
    },
    {
      "cell_type": "markdown",
      "source": [
        "### <font color='red'>Rejeito $H_0$, logo os dados não se distribuem como uma normal.</font>"
      ],
      "metadata": {
        "id": "pOqmaWyjKrOF"
      }
    },
    {
      "cell_type": "markdown",
      "source": [
        "### DIstribuição dos resíduos"
      ],
      "metadata": {
        "id": "cVnIeRYeLWaj"
      }
    },
    {
      "cell_type": "code",
      "source": [
        "from scipy.stats import probplot\n",
        "import matplotlib.pyplot as plt"
      ],
      "metadata": {
        "id": "LliNK7dXJWsO"
      },
      "execution_count": null,
      "outputs": []
    },
    {
      "cell_type": "code",
      "source": [
        "(_,(_,_,_))=probplot(pyth.residue,plot=plt)"
      ],
      "metadata": {
        "colab": {
          "base_uri": "https://localhost:8080/",
          "height": 472
        },
        "id": "g0h6bSICJysn",
        "outputId": "b2bd446e-12a3-41e9-ce8e-c4f6a34ae583"
      },
      "execution_count": null,
      "outputs": [
        {
          "output_type": "display_data",
          "data": {
            "text/plain": [
              "<Figure size 640x480 with 1 Axes>"
            ],
            "image/png": "[encoded data removed]"
          },
          "metadata": {}
        }
      ]
    },
    {
      "cell_type": "markdown",
      "source": [
        "Os dados/pontos não estão alinhados à reta, logo não se distribuem como uma normal."
      ],
      "metadata": {
        "id": "JLBu-eZIzOGL"
      }
    },
    {
      "cell_type": "markdown",
      "source": [
        "## Normalidade dos resíduos: Jarque-Bera"
      ],
      "metadata": {
        "id": "OZAlBL8mKMUG"
      }
    },
    {
      "cell_type": "markdown",
      "source": [
        "### Simetria"
      ],
      "metadata": {
        "id": "L82sC-OWIsTu"
      }
    },
    {
      "cell_type": "code",
      "source": [
        "from scipy.stats import skew\n",
        "S=skew(pyth.residue)\n",
        "S"
      ],
      "metadata": {
        "colab": {
          "base_uri": "https://localhost:8080/"
        },
        "id": "vAoXbpE3Irtn",
        "outputId": "3698b3b2-6f3c-46ba-d725-d1c36c34db0e"
      },
      "execution_count": null,
      "outputs": [
        {
          "output_type": "execute_result",
          "data": {
            "text/plain": [
              "-0.3716096362952579"
            ]
          },
          "metadata": {},
          "execution_count": 83
        }
      ]
    },
    {
      "cell_type": "markdown",
      "source": [
        "### Curtose"
      ],
      "metadata": {
        "id": "guqeMsXnKDsq"
      }
    },
    {
      "cell_type": "code",
      "source": [
        "from scipy.stats import kurtosis\n",
        "C=3+kurtosis(pyth.residue)\n",
        "C"
      ],
      "metadata": {
        "colab": {
          "base_uri": "https://localhost:8080/"
        },
        "id": "CuKbu9EuIXPQ",
        "outputId": "c1a335a0-4492-4b10-a979-1e5a19f30576"
      },
      "execution_count": null,
      "outputs": [
        {
          "output_type": "execute_result",
          "data": {
            "text/plain": [
              "3.0244100681777164"
            ]
          },
          "metadata": {},
          "execution_count": 84
        }
      ]
    },
    {
      "cell_type": "markdown",
      "source": [
        "### $$JB = \\frac{n}{6}(S^2 + \\frac{1}{4}(C - 3)^2)$$"
      ],
      "metadata": {
        "id": "12T9stZvLJpT"
      }
    },
    {
      "cell_type": "code",
      "source": [
        "JB=(n/6)*(S**2+(1/4)*(C-3)**2)\n",
        "JB"
      ],
      "metadata": {
        "colab": {
          "base_uri": "https://localhost:8080/"
        },
        "id": "RG3SY2VLIXMP",
        "outputId": "b8b1ab79-7699-43d4-cb6f-c160639a4642"
      },
      "execution_count": null,
      "outputs": [
        {
          "output_type": "execute_result",
          "data": {
            "text/plain": [
              "0.6912134232230203"
            ]
          },
          "metadata": {},
          "execution_count": 85
        }
      ]
    },
    {
      "cell_type": "markdown",
      "source": [
        "### Teste do p-valor"
      ],
      "metadata": {
        "id": "CVdVIC8jLMqE"
      }
    },
    {
      "cell_type": "code",
      "source": [
        "from scipy.stats import chi2\n",
        "p_valor=chi2.sf(JB,2)\n",
        "p_valor"
      ],
      "metadata": {
        "colab": {
          "base_uri": "https://localhost:8080/"
        },
        "id": "JBD3SSXQIXJP",
        "outputId": "b00d74da-b4f4-4ba6-c259-1a721ccd9cdd"
      },
      "execution_count": null,
      "outputs": [
        {
          "output_type": "execute_result",
          "data": {
            "text/plain": [
              "0.7077907982770808"
            ]
          },
          "metadata": {},
          "execution_count": 86
        }
      ]
    },
    {
      "cell_type": "code",
      "source": [
        "p_valor<=0.05"
      ],
      "metadata": {
        "colab": {
          "base_uri": "https://localhost:8080/"
        },
        "id": "HdBcKz2BIXGQ",
        "outputId": "3928d23d-2bbd-4f8d-df7a-57c56143eae0"
      },
      "execution_count": null,
      "outputs": [
        {
          "output_type": "execute_result",
          "data": {
            "text/plain": [
              "False"
            ]
          },
          "metadata": {},
          "execution_count": 87
        }
      ]
    },
    {
      "cell_type": "markdown",
      "source": [
        "### <font color='red'>Rejeito $H_0$, logo os dados não se distribuem como uma normal.</font>"
      ],
      "metadata": {
        "id": "DpJaf3uGKmZ3"
      }
    }
  ],
  "metadata": {
    "colab": {
      "provenance": []
    },
    "kernelspec": {
      "display_name": "Python 3",
      "name": "python3"
    },
    "language_info": {
      "name": "python"
    }
  },
  "nbformat": 4,
  "nbformat_minor": 0
}